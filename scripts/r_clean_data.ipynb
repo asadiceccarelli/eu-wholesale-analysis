{
 "cells": [
  {
   "cell_type": "markdown",
   "metadata": {},
   "source": [
    "# Cleaning and concatentating data into one df"
   ]
  },
  {
   "cell_type": "code",
   "execution_count": 120,
   "metadata": {
    "vscode": {
     "languageId": "r"
    }
   },
   "outputs": [],
   "source": [
    "library(readr)\n",
    "library(dplyr)\n",
    "library(tidyr)\n",
    "library(ggplot2)"
   ]
  },
  {
   "cell_type": "code",
   "execution_count": 121,
   "metadata": {
    "vscode": {
     "languageId": "r"
    }
   },
   "outputs": [
    {
     "data": {
      "text/html": [
       "<table class=\"dataframe\">\n",
       "<caption>A data.frame: 6 × 20</caption>\n",
       "<thead>\n",
       "\t<tr><th></th><th scope=col>X...Date</th><th scope=col>Start</th><th scope=col>End</th><th scope=col>Germany.Luxembourg......MWh..Original.resolutions</th><th scope=col>X....DE.LU.neighbours......MWh..Original.resolutions</th><th scope=col>Belgium......MWh..Original.resolutions</th><th scope=col>Denmark.1......MWh..Original.resolutions</th><th scope=col>Denmark.2......MWh..Original.resolutions</th><th scope=col>France......MWh..Original.resolutions</th><th scope=col>Netherlands......MWh..Original.resolutions</th><th scope=col>Norway.2......MWh..Original.resolutions</th><th scope=col>Austria......MWh..Original.resolutions</th><th scope=col>Poland......MWh..Original.resolutions</th><th scope=col>Sweden.4......MWh..Original.resolutions</th><th scope=col>Switzerland......MWh..Original.resolutions</th><th scope=col>Czech.Republic......MWh..Original.resolutions</th><th scope=col>DE.AT.LU......MWh..Original.resolutions</th><th scope=col>Northern.Italy......MWh..Original.resolutions</th><th scope=col>Slovenia......MWh..Original.resolutions</th><th scope=col>Hungary......MWh..Original.resolutions</th></tr>\n",
       "\t<tr><th></th><th scope=col>&lt;chr&gt;</th><th scope=col>&lt;chr&gt;</th><th scope=col>&lt;chr&gt;</th><th scope=col>&lt;dbl&gt;</th><th scope=col>&lt;chr&gt;</th><th scope=col>&lt;dbl&gt;</th><th scope=col>&lt;dbl&gt;</th><th scope=col>&lt;dbl&gt;</th><th scope=col>&lt;chr&gt;</th><th scope=col>&lt;dbl&gt;</th><th scope=col>&lt;dbl&gt;</th><th scope=col>&lt;dbl&gt;</th><th scope=col>&lt;chr&gt;</th><th scope=col>&lt;dbl&gt;</th><th scope=col>&lt;dbl&gt;</th><th scope=col>&lt;dbl&gt;</th><th scope=col>&lt;chr&gt;</th><th scope=col>&lt;dbl&gt;</th><th scope=col>&lt;dbl&gt;</th><th scope=col>&lt;chr&gt;</th></tr>\n",
       "</thead>\n",
       "<tbody>\n",
       "\t<tr><th scope=row>1</th><td>Jan 1, 2019</td><td>12:00 AM</td><td>1:00 AM</td><td> 28.32</td><td>-</td><td>69.49</td><td> 28.32</td><td> 28.32</td><td>51   </td><td>68.92</td><td>48.77</td><td>33.48</td><td>-</td><td>28.32</td><td>50.26</td><td>8.50</td><td>-</td><td>51.00</td><td>51.00</td><td>59.9 </td></tr>\n",
       "\t<tr><th scope=row>2</th><td>Jan 1, 2019</td><td>1:00 AM </td><td>2:00 AM</td><td> 10.07</td><td>-</td><td>66.58</td><td> 10.07</td><td> 10.07</td><td>46.27</td><td>64.98</td><td>49.25</td><td>39.76</td><td>-</td><td>10.07</td><td>48.74</td><td>3.97</td><td>-</td><td>46.27</td><td>46.27</td><td>52.71</td></tr>\n",
       "\t<tr><th scope=row>3</th><td>Jan 1, 2019</td><td>2:00 AM </td><td>3:00 AM</td><td> -4.08</td><td>-</td><td>65.07</td><td> -4.08</td><td> -4.08</td><td>39.78</td><td>60.27</td><td>49.17</td><td>39.78</td><td>-</td><td>10.03</td><td>47.24</td><td>4.70</td><td>-</td><td>39.78</td><td>39.78</td><td>36.49</td></tr>\n",
       "\t<tr><th scope=row>4</th><td>Jan 1, 2019</td><td>3:00 AM </td><td>4:00 AM</td><td> -9.91</td><td>-</td><td>52.17</td><td> -9.91</td><td> -9.91</td><td>27.87</td><td>49.97</td><td>48.37</td><td>27.87</td><td>-</td><td> 4.56</td><td>36.29</td><td>0.93</td><td>-</td><td>27.87</td><td>27.87</td><td>31.24</td></tr>\n",
       "\t<tr><th scope=row>5</th><td>Jan 1, 2019</td><td>4:00 AM </td><td>5:00 AM</td><td> -7.41</td><td>-</td><td>47.66</td><td> -7.41</td><td> -7.41</td><td>23.21</td><td>47.66</td><td>47.19</td><td>-0.36</td><td>-</td><td> 4.83</td><td>30.09</td><td>3.90</td><td>-</td><td>22.00</td><td>-0.36</td><td>25.98</td></tr>\n",
       "\t<tr><th scope=row>6</th><td>Jan 1, 2019</td><td>5:00 AM </td><td>6:00 AM</td><td>-12.55</td><td>-</td><td>50.87</td><td>-12.55</td><td>-12.55</td><td>22.64</td><td>48.00</td><td>47.37</td><td>-4.45</td><td>-</td><td> 8.09</td><td>27.31</td><td>7.95</td><td>-</td><td>20.00</td><td>-4.45</td><td>26.69</td></tr>\n",
       "</tbody>\n",
       "</table>\n"
      ],
      "text/latex": [
       "A data.frame: 6 × 20\n",
       "\\begin{tabular}{r|llllllllllllllllllll}\n",
       "  & X...Date & Start & End & Germany.Luxembourg......MWh..Original.resolutions & X....DE.LU.neighbours......MWh..Original.resolutions & Belgium......MWh..Original.resolutions & Denmark.1......MWh..Original.resolutions & Denmark.2......MWh..Original.resolutions & France......MWh..Original.resolutions & Netherlands......MWh..Original.resolutions & Norway.2......MWh..Original.resolutions & Austria......MWh..Original.resolutions & Poland......MWh..Original.resolutions & Sweden.4......MWh..Original.resolutions & Switzerland......MWh..Original.resolutions & Czech.Republic......MWh..Original.resolutions & DE.AT.LU......MWh..Original.resolutions & Northern.Italy......MWh..Original.resolutions & Slovenia......MWh..Original.resolutions & Hungary......MWh..Original.resolutions\\\\\n",
       "  & <chr> & <chr> & <chr> & <dbl> & <chr> & <dbl> & <dbl> & <dbl> & <chr> & <dbl> & <dbl> & <dbl> & <chr> & <dbl> & <dbl> & <dbl> & <chr> & <dbl> & <dbl> & <chr>\\\\\n",
       "\\hline\n",
       "\t1 & Jan 1, 2019 & 12:00 AM & 1:00 AM &  28.32 & - & 69.49 &  28.32 &  28.32 & 51    & 68.92 & 48.77 & 33.48 & - & 28.32 & 50.26 & 8.50 & - & 51.00 & 51.00 & 59.9 \\\\\n",
       "\t2 & Jan 1, 2019 & 1:00 AM  & 2:00 AM &  10.07 & - & 66.58 &  10.07 &  10.07 & 46.27 & 64.98 & 49.25 & 39.76 & - & 10.07 & 48.74 & 3.97 & - & 46.27 & 46.27 & 52.71\\\\\n",
       "\t3 & Jan 1, 2019 & 2:00 AM  & 3:00 AM &  -4.08 & - & 65.07 &  -4.08 &  -4.08 & 39.78 & 60.27 & 49.17 & 39.78 & - & 10.03 & 47.24 & 4.70 & - & 39.78 & 39.78 & 36.49\\\\\n",
       "\t4 & Jan 1, 2019 & 3:00 AM  & 4:00 AM &  -9.91 & - & 52.17 &  -9.91 &  -9.91 & 27.87 & 49.97 & 48.37 & 27.87 & - &  4.56 & 36.29 & 0.93 & - & 27.87 & 27.87 & 31.24\\\\\n",
       "\t5 & Jan 1, 2019 & 4:00 AM  & 5:00 AM &  -7.41 & - & 47.66 &  -7.41 &  -7.41 & 23.21 & 47.66 & 47.19 & -0.36 & - &  4.83 & 30.09 & 3.90 & - & 22.00 & -0.36 & 25.98\\\\\n",
       "\t6 & Jan 1, 2019 & 5:00 AM  & 6:00 AM & -12.55 & - & 50.87 & -12.55 & -12.55 & 22.64 & 48.00 & 47.37 & -4.45 & - &  8.09 & 27.31 & 7.95 & - & 20.00 & -4.45 & 26.69\\\\\n",
       "\\end{tabular}\n"
      ],
      "text/markdown": [
       "\n",
       "A data.frame: 6 × 20\n",
       "\n",
       "| <!--/--> | X...Date &lt;chr&gt; | Start &lt;chr&gt; | End &lt;chr&gt; | Germany.Luxembourg......MWh..Original.resolutions &lt;dbl&gt; | X....DE.LU.neighbours......MWh..Original.resolutions &lt;chr&gt; | Belgium......MWh..Original.resolutions &lt;dbl&gt; | Denmark.1......MWh..Original.resolutions &lt;dbl&gt; | Denmark.2......MWh..Original.resolutions &lt;dbl&gt; | France......MWh..Original.resolutions &lt;chr&gt; | Netherlands......MWh..Original.resolutions &lt;dbl&gt; | Norway.2......MWh..Original.resolutions &lt;dbl&gt; | Austria......MWh..Original.resolutions &lt;dbl&gt; | Poland......MWh..Original.resolutions &lt;chr&gt; | Sweden.4......MWh..Original.resolutions &lt;dbl&gt; | Switzerland......MWh..Original.resolutions &lt;dbl&gt; | Czech.Republic......MWh..Original.resolutions &lt;dbl&gt; | DE.AT.LU......MWh..Original.resolutions &lt;chr&gt; | Northern.Italy......MWh..Original.resolutions &lt;dbl&gt; | Slovenia......MWh..Original.resolutions &lt;dbl&gt; | Hungary......MWh..Original.resolutions &lt;chr&gt; |\n",
       "|---|---|---|---|---|---|---|---|---|---|---|---|---|---|---|---|---|---|---|---|---|\n",
       "| 1 | Jan 1, 2019 | 12:00 AM | 1:00 AM |  28.32 | - | 69.49 |  28.32 |  28.32 | 51    | 68.92 | 48.77 | 33.48 | - | 28.32 | 50.26 | 8.50 | - | 51.00 | 51.00 | 59.9  |\n",
       "| 2 | Jan 1, 2019 | 1:00 AM  | 2:00 AM |  10.07 | - | 66.58 |  10.07 |  10.07 | 46.27 | 64.98 | 49.25 | 39.76 | - | 10.07 | 48.74 | 3.97 | - | 46.27 | 46.27 | 52.71 |\n",
       "| 3 | Jan 1, 2019 | 2:00 AM  | 3:00 AM |  -4.08 | - | 65.07 |  -4.08 |  -4.08 | 39.78 | 60.27 | 49.17 | 39.78 | - | 10.03 | 47.24 | 4.70 | - | 39.78 | 39.78 | 36.49 |\n",
       "| 4 | Jan 1, 2019 | 3:00 AM  | 4:00 AM |  -9.91 | - | 52.17 |  -9.91 |  -9.91 | 27.87 | 49.97 | 48.37 | 27.87 | - |  4.56 | 36.29 | 0.93 | - | 27.87 | 27.87 | 31.24 |\n",
       "| 5 | Jan 1, 2019 | 4:00 AM  | 5:00 AM |  -7.41 | - | 47.66 |  -7.41 |  -7.41 | 23.21 | 47.66 | 47.19 | -0.36 | - |  4.83 | 30.09 | 3.90 | - | 22.00 | -0.36 | 25.98 |\n",
       "| 6 | Jan 1, 2019 | 5:00 AM  | 6:00 AM | -12.55 | - | 50.87 | -12.55 | -12.55 | 22.64 | 48.00 | 47.37 | -4.45 | - |  8.09 | 27.31 | 7.95 | - | 20.00 | -4.45 | 26.69 |\n",
       "\n"
      ],
      "text/plain": [
       "  X...Date    Start    End    \n",
       "1 Jan 1, 2019 12:00 AM 1:00 AM\n",
       "2 Jan 1, 2019 1:00 AM  2:00 AM\n",
       "3 Jan 1, 2019 2:00 AM  3:00 AM\n",
       "4 Jan 1, 2019 3:00 AM  4:00 AM\n",
       "5 Jan 1, 2019 4:00 AM  5:00 AM\n",
       "6 Jan 1, 2019 5:00 AM  6:00 AM\n",
       "  Germany.Luxembourg......MWh..Original.resolutions\n",
       "1  28.32                                           \n",
       "2  10.07                                           \n",
       "3  -4.08                                           \n",
       "4  -9.91                                           \n",
       "5  -7.41                                           \n",
       "6 -12.55                                           \n",
       "  X....DE.LU.neighbours......MWh..Original.resolutions\n",
       "1 -                                                   \n",
       "2 -                                                   \n",
       "3 -                                                   \n",
       "4 -                                                   \n",
       "5 -                                                   \n",
       "6 -                                                   \n",
       "  Belgium......MWh..Original.resolutions\n",
       "1 69.49                                 \n",
       "2 66.58                                 \n",
       "3 65.07                                 \n",
       "4 52.17                                 \n",
       "5 47.66                                 \n",
       "6 50.87                                 \n",
       "  Denmark.1......MWh..Original.resolutions\n",
       "1  28.32                                  \n",
       "2  10.07                                  \n",
       "3  -4.08                                  \n",
       "4  -9.91                                  \n",
       "5  -7.41                                  \n",
       "6 -12.55                                  \n",
       "  Denmark.2......MWh..Original.resolutions\n",
       "1  28.32                                  \n",
       "2  10.07                                  \n",
       "3  -4.08                                  \n",
       "4  -9.91                                  \n",
       "5  -7.41                                  \n",
       "6 -12.55                                  \n",
       "  France......MWh..Original.resolutions\n",
       "1 51                                   \n",
       "2 46.27                                \n",
       "3 39.78                                \n",
       "4 27.87                                \n",
       "5 23.21                                \n",
       "6 22.64                                \n",
       "  Netherlands......MWh..Original.resolutions\n",
       "1 68.92                                     \n",
       "2 64.98                                     \n",
       "3 60.27                                     \n",
       "4 49.97                                     \n",
       "5 47.66                                     \n",
       "6 48.00                                     \n",
       "  Norway.2......MWh..Original.resolutions\n",
       "1 48.77                                  \n",
       "2 49.25                                  \n",
       "3 49.17                                  \n",
       "4 48.37                                  \n",
       "5 47.19                                  \n",
       "6 47.37                                  \n",
       "  Austria......MWh..Original.resolutions Poland......MWh..Original.resolutions\n",
       "1 33.48                                  -                                    \n",
       "2 39.76                                  -                                    \n",
       "3 39.78                                  -                                    \n",
       "4 27.87                                  -                                    \n",
       "5 -0.36                                  -                                    \n",
       "6 -4.45                                  -                                    \n",
       "  Sweden.4......MWh..Original.resolutions\n",
       "1 28.32                                  \n",
       "2 10.07                                  \n",
       "3 10.03                                  \n",
       "4  4.56                                  \n",
       "5  4.83                                  \n",
       "6  8.09                                  \n",
       "  Switzerland......MWh..Original.resolutions\n",
       "1 50.26                                     \n",
       "2 48.74                                     \n",
       "3 47.24                                     \n",
       "4 36.29                                     \n",
       "5 30.09                                     \n",
       "6 27.31                                     \n",
       "  Czech.Republic......MWh..Original.resolutions\n",
       "1 8.50                                         \n",
       "2 3.97                                         \n",
       "3 4.70                                         \n",
       "4 0.93                                         \n",
       "5 3.90                                         \n",
       "6 7.95                                         \n",
       "  DE.AT.LU......MWh..Original.resolutions\n",
       "1 -                                      \n",
       "2 -                                      \n",
       "3 -                                      \n",
       "4 -                                      \n",
       "5 -                                      \n",
       "6 -                                      \n",
       "  Northern.Italy......MWh..Original.resolutions\n",
       "1 51.00                                        \n",
       "2 46.27                                        \n",
       "3 39.78                                        \n",
       "4 27.87                                        \n",
       "5 22.00                                        \n",
       "6 20.00                                        \n",
       "  Slovenia......MWh..Original.resolutions\n",
       "1 51.00                                  \n",
       "2 46.27                                  \n",
       "3 39.78                                  \n",
       "4 27.87                                  \n",
       "5 -0.36                                  \n",
       "6 -4.45                                  \n",
       "  Hungary......MWh..Original.resolutions\n",
       "1 59.9                                  \n",
       "2 52.71                                 \n",
       "3 36.49                                 \n",
       "4 31.24                                 \n",
       "5 25.98                                 \n",
       "6 26.69                                 "
      ]
     },
     "metadata": {},
     "output_type": "display_data"
    }
   ],
   "source": [
    "df <- read.csv(\"../data/raw_data/eu_da_prices.csv\", sep=\";\")\n",
    "head(df)"
   ]
  },
  {
   "cell_type": "code",
   "execution_count": 122,
   "metadata": {
    "vscode": {
     "languageId": "r"
    }
   },
   "outputs": [
    {
     "name": "stderr",
     "output_type": "stream",
     "text": [
      "Warning message in mask$eval_all_mutate(quo):\n",
      "\"NAs introduced by coercion\"\n",
      "Warning message in mask$eval_all_mutate(quo):\n",
      "\"NAs introduced by coercion\"\n"
     ]
    },
    {
     "data": {
      "text/html": [
       "<table class=\"dataframe\">\n",
       "<caption>A data.frame: 6 × 18</caption>\n",
       "<thead>\n",
       "\t<tr><th></th><th scope=col>date</th><th scope=col>De-Lu</th><th scope=col>De-Lu Neighbors</th><th scope=col>Belgium</th><th scope=col>Denmark 1</th><th scope=col>Denmark 2</th><th scope=col>France</th><th scope=col>Netherlands</th><th scope=col>Norway 2</th><th scope=col>Austria</th><th scope=col>Poland</th><th scope=col>Sweden 4</th><th scope=col>Switzerland</th><th scope=col>Czech Republic</th><th scope=col>De-Lu-At</th><th scope=col>Italy</th><th scope=col>Slovenia</th><th scope=col>Hungary</th></tr>\n",
       "\t<tr><th></th><th scope=col>&lt;dttm&gt;</th><th scope=col>&lt;dbl&gt;</th><th scope=col>&lt;dbl&gt;</th><th scope=col>&lt;dbl&gt;</th><th scope=col>&lt;dbl&gt;</th><th scope=col>&lt;dbl&gt;</th><th scope=col>&lt;dbl&gt;</th><th scope=col>&lt;dbl&gt;</th><th scope=col>&lt;dbl&gt;</th><th scope=col>&lt;dbl&gt;</th><th scope=col>&lt;dbl&gt;</th><th scope=col>&lt;dbl&gt;</th><th scope=col>&lt;dbl&gt;</th><th scope=col>&lt;dbl&gt;</th><th scope=col>&lt;dbl&gt;</th><th scope=col>&lt;dbl&gt;</th><th scope=col>&lt;dbl&gt;</th><th scope=col>&lt;dbl&gt;</th></tr>\n",
       "</thead>\n",
       "<tbody>\n",
       "\t<tr><th scope=row>1</th><td>2019-01-01 00:00:00</td><td> 28.32</td><td>NA</td><td>69.49</td><td> 28.32</td><td> 28.32</td><td>51.00</td><td>68.92</td><td>48.77</td><td>33.48</td><td>NA</td><td>28.32</td><td>50.26</td><td>8.50</td><td>NA</td><td>51.00</td><td>51.00</td><td>59.90</td></tr>\n",
       "\t<tr><th scope=row>2</th><td>2019-01-01 01:00:00</td><td> 10.07</td><td>NA</td><td>66.58</td><td> 10.07</td><td> 10.07</td><td>46.27</td><td>64.98</td><td>49.25</td><td>39.76</td><td>NA</td><td>10.07</td><td>48.74</td><td>3.97</td><td>NA</td><td>46.27</td><td>46.27</td><td>52.71</td></tr>\n",
       "\t<tr><th scope=row>3</th><td>2019-01-01 02:00:00</td><td> -4.08</td><td>NA</td><td>65.07</td><td> -4.08</td><td> -4.08</td><td>39.78</td><td>60.27</td><td>49.17</td><td>39.78</td><td>NA</td><td>10.03</td><td>47.24</td><td>4.70</td><td>NA</td><td>39.78</td><td>39.78</td><td>36.49</td></tr>\n",
       "\t<tr><th scope=row>4</th><td>2019-01-01 03:00:00</td><td> -9.91</td><td>NA</td><td>52.17</td><td> -9.91</td><td> -9.91</td><td>27.87</td><td>49.97</td><td>48.37</td><td>27.87</td><td>NA</td><td> 4.56</td><td>36.29</td><td>0.93</td><td>NA</td><td>27.87</td><td>27.87</td><td>31.24</td></tr>\n",
       "\t<tr><th scope=row>5</th><td>2019-01-01 04:00:00</td><td> -7.41</td><td>NA</td><td>47.66</td><td> -7.41</td><td> -7.41</td><td>23.21</td><td>47.66</td><td>47.19</td><td>-0.36</td><td>NA</td><td> 4.83</td><td>30.09</td><td>3.90</td><td>NA</td><td>22.00</td><td>-0.36</td><td>25.98</td></tr>\n",
       "\t<tr><th scope=row>6</th><td>2019-01-01 05:00:00</td><td>-12.55</td><td>NA</td><td>50.87</td><td>-12.55</td><td>-12.55</td><td>22.64</td><td>48.00</td><td>47.37</td><td>-4.45</td><td>NA</td><td> 8.09</td><td>27.31</td><td>7.95</td><td>NA</td><td>20.00</td><td>-4.45</td><td>26.69</td></tr>\n",
       "</tbody>\n",
       "</table>\n"
      ],
      "text/latex": [
       "A data.frame: 6 × 18\n",
       "\\begin{tabular}{r|llllllllllllllllll}\n",
       "  & date & De-Lu & De-Lu Neighbors & Belgium & Denmark 1 & Denmark 2 & France & Netherlands & Norway 2 & Austria & Poland & Sweden 4 & Switzerland & Czech Republic & De-Lu-At & Italy & Slovenia & Hungary\\\\\n",
       "  & <dttm> & <dbl> & <dbl> & <dbl> & <dbl> & <dbl> & <dbl> & <dbl> & <dbl> & <dbl> & <dbl> & <dbl> & <dbl> & <dbl> & <dbl> & <dbl> & <dbl> & <dbl>\\\\\n",
       "\\hline\n",
       "\t1 & 2019-01-01 00:00:00 &  28.32 & NA & 69.49 &  28.32 &  28.32 & 51.00 & 68.92 & 48.77 & 33.48 & NA & 28.32 & 50.26 & 8.50 & NA & 51.00 & 51.00 & 59.90\\\\\n",
       "\t2 & 2019-01-01 01:00:00 &  10.07 & NA & 66.58 &  10.07 &  10.07 & 46.27 & 64.98 & 49.25 & 39.76 & NA & 10.07 & 48.74 & 3.97 & NA & 46.27 & 46.27 & 52.71\\\\\n",
       "\t3 & 2019-01-01 02:00:00 &  -4.08 & NA & 65.07 &  -4.08 &  -4.08 & 39.78 & 60.27 & 49.17 & 39.78 & NA & 10.03 & 47.24 & 4.70 & NA & 39.78 & 39.78 & 36.49\\\\\n",
       "\t4 & 2019-01-01 03:00:00 &  -9.91 & NA & 52.17 &  -9.91 &  -9.91 & 27.87 & 49.97 & 48.37 & 27.87 & NA &  4.56 & 36.29 & 0.93 & NA & 27.87 & 27.87 & 31.24\\\\\n",
       "\t5 & 2019-01-01 04:00:00 &  -7.41 & NA & 47.66 &  -7.41 &  -7.41 & 23.21 & 47.66 & 47.19 & -0.36 & NA &  4.83 & 30.09 & 3.90 & NA & 22.00 & -0.36 & 25.98\\\\\n",
       "\t6 & 2019-01-01 05:00:00 & -12.55 & NA & 50.87 & -12.55 & -12.55 & 22.64 & 48.00 & 47.37 & -4.45 & NA &  8.09 & 27.31 & 7.95 & NA & 20.00 & -4.45 & 26.69\\\\\n",
       "\\end{tabular}\n"
      ],
      "text/markdown": [
       "\n",
       "A data.frame: 6 × 18\n",
       "\n",
       "| <!--/--> | date &lt;dttm&gt; | De-Lu &lt;dbl&gt; | De-Lu Neighbors &lt;dbl&gt; | Belgium &lt;dbl&gt; | Denmark 1 &lt;dbl&gt; | Denmark 2 &lt;dbl&gt; | France &lt;dbl&gt; | Netherlands &lt;dbl&gt; | Norway 2 &lt;dbl&gt; | Austria &lt;dbl&gt; | Poland &lt;dbl&gt; | Sweden 4 &lt;dbl&gt; | Switzerland &lt;dbl&gt; | Czech Republic &lt;dbl&gt; | De-Lu-At &lt;dbl&gt; | Italy &lt;dbl&gt; | Slovenia &lt;dbl&gt; | Hungary &lt;dbl&gt; |\n",
       "|---|---|---|---|---|---|---|---|---|---|---|---|---|---|---|---|---|---|---|\n",
       "| 1 | 2019-01-01 00:00:00 |  28.32 | NA | 69.49 |  28.32 |  28.32 | 51.00 | 68.92 | 48.77 | 33.48 | NA | 28.32 | 50.26 | 8.50 | NA | 51.00 | 51.00 | 59.90 |\n",
       "| 2 | 2019-01-01 01:00:00 |  10.07 | NA | 66.58 |  10.07 |  10.07 | 46.27 | 64.98 | 49.25 | 39.76 | NA | 10.07 | 48.74 | 3.97 | NA | 46.27 | 46.27 | 52.71 |\n",
       "| 3 | 2019-01-01 02:00:00 |  -4.08 | NA | 65.07 |  -4.08 |  -4.08 | 39.78 | 60.27 | 49.17 | 39.78 | NA | 10.03 | 47.24 | 4.70 | NA | 39.78 | 39.78 | 36.49 |\n",
       "| 4 | 2019-01-01 03:00:00 |  -9.91 | NA | 52.17 |  -9.91 |  -9.91 | 27.87 | 49.97 | 48.37 | 27.87 | NA |  4.56 | 36.29 | 0.93 | NA | 27.87 | 27.87 | 31.24 |\n",
       "| 5 | 2019-01-01 04:00:00 |  -7.41 | NA | 47.66 |  -7.41 |  -7.41 | 23.21 | 47.66 | 47.19 | -0.36 | NA |  4.83 | 30.09 | 3.90 | NA | 22.00 | -0.36 | 25.98 |\n",
       "| 6 | 2019-01-01 05:00:00 | -12.55 | NA | 50.87 | -12.55 | -12.55 | 22.64 | 48.00 | 47.37 | -4.45 | NA |  8.09 | 27.31 | 7.95 | NA | 20.00 | -4.45 | 26.69 |\n",
       "\n"
      ],
      "text/plain": [
       "  date                De-Lu  De-Lu Neighbors Belgium Denmark 1 Denmark 2 France\n",
       "1 2019-01-01 00:00:00  28.32 NA              69.49    28.32     28.32    51.00 \n",
       "2 2019-01-01 01:00:00  10.07 NA              66.58    10.07     10.07    46.27 \n",
       "3 2019-01-01 02:00:00  -4.08 NA              65.07    -4.08     -4.08    39.78 \n",
       "4 2019-01-01 03:00:00  -9.91 NA              52.17    -9.91     -9.91    27.87 \n",
       "5 2019-01-01 04:00:00  -7.41 NA              47.66    -7.41     -7.41    23.21 \n",
       "6 2019-01-01 05:00:00 -12.55 NA              50.87   -12.55    -12.55    22.64 \n",
       "  Netherlands Norway 2 Austria Poland Sweden 4 Switzerland Czech Republic\n",
       "1 68.92       48.77    33.48   NA     28.32    50.26       8.50          \n",
       "2 64.98       49.25    39.76   NA     10.07    48.74       3.97          \n",
       "3 60.27       49.17    39.78   NA     10.03    47.24       4.70          \n",
       "4 49.97       48.37    27.87   NA      4.56    36.29       0.93          \n",
       "5 47.66       47.19    -0.36   NA      4.83    30.09       3.90          \n",
       "6 48.00       47.37    -4.45   NA      8.09    27.31       7.95          \n",
       "  De-Lu-At Italy Slovenia Hungary\n",
       "1 NA       51.00 51.00    59.90  \n",
       "2 NA       46.27 46.27    52.71  \n",
       "3 NA       39.78 39.78    36.49  \n",
       "4 NA       27.87 27.87    31.24  \n",
       "5 NA       22.00 -0.36    25.98  \n",
       "6 NA       20.00 -4.45    26.69  "
      ]
     },
     "metadata": {},
     "output_type": "display_data"
    }
   ],
   "source": [
    "colnames(df) = c(\n",
    "    \"date\", \"start_time\", \"end_time\", \"De-Lu\", \"De-Lu Neighbors\", \"Belgium\", \"Denmark 1\", \"Denmark 2\", \"France\",\n",
    "    \"Netherlands\", \"Norway 2\", \"Austria\", \"Poland\", \"Sweden 4\", \"Switzerland\", \"Czech Republic\", \"De-Lu-At\", \"Italy\",\n",
    "    \"Slovenia\", \"Hungary\"\n",
    ")\n",
    "df[df == \"-\"] <- NA\n",
    "df[df == ','] <- ''\n",
    "df$end_time <- as.numeric(substr(df$end_time, 1, 1)) - 1\n",
    "df$date <- df$date %>%\n",
    "    paste(df$end_time) %>%\n",
    "    as.POSIXct(format=\"%b %d, %Y %H\")\n",
    "df <- select(df, -c(start_time, end_time))\n",
    "df <- df %>% mutate_if(is.character, as.numeric)\n",
    "head(df)"
   ]
  }
 ],
 "metadata": {
  "kernelspec": {
   "display_name": "R",
   "language": "R",
   "name": "ir"
  },
  "language_info": {
   "codemirror_mode": "r",
   "file_extension": ".r",
   "mimetype": "text/x-r-source",
   "name": "R",
   "pygments_lexer": "r",
   "version": "4.2.2"
  },
  "orig_nbformat": 4
 },
 "nbformat": 4,
 "nbformat_minor": 2
}
