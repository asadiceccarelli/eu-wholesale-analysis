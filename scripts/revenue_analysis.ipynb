{
 "cells": [
  {
   "cell_type": "markdown",
   "metadata": {},
   "source": [
    "# Calculating the potential revenue of each market"
   ]
  },
  {
   "cell_type": "code",
   "execution_count": 113,
   "metadata": {},
   "outputs": [],
   "source": [
    "import pandas as pd\n",
    "import plotly.express as px\n",
    "import plotly.graph_objects as go\n",
    "from plotly.subplots import make_subplots"
   ]
  },
  {
   "cell_type": "code",
   "execution_count": 114,
   "metadata": {},
   "outputs": [
    {
     "data": {
      "text/html": [
       "<div>\n",
       "<style scoped>\n",
       "    .dataframe tbody tr th:only-of-type {\n",
       "        vertical-align: middle;\n",
       "    }\n",
       "\n",
       "    .dataframe tbody tr th {\n",
       "        vertical-align: top;\n",
       "    }\n",
       "\n",
       "    .dataframe thead th {\n",
       "        text-align: right;\n",
       "    }\n",
       "</style>\n",
       "<table border=\"1\" class=\"dataframe\">\n",
       "  <thead>\n",
       "    <tr style=\"text-align: right;\">\n",
       "      <th></th>\n",
       "      <th>date</th>\n",
       "      <th>hour</th>\n",
       "      <th>datetime</th>\n",
       "      <th>Germany</th>\n",
       "      <th>De-Lu</th>\n",
       "      <th>Belgium</th>\n",
       "      <th>Denmark 1</th>\n",
       "      <th>Denmark 2</th>\n",
       "      <th>France</th>\n",
       "      <th>Netherlands</th>\n",
       "      <th>...</th>\n",
       "      <th>Austria</th>\n",
       "      <th>Poland</th>\n",
       "      <th>Sweden 4</th>\n",
       "      <th>Switzerland</th>\n",
       "      <th>Czech</th>\n",
       "      <th>Italy</th>\n",
       "      <th>Slovenia</th>\n",
       "      <th>Hungary</th>\n",
       "      <th>GB</th>\n",
       "      <th>Greece</th>\n",
       "    </tr>\n",
       "  </thead>\n",
       "  <tbody>\n",
       "    <tr>\n",
       "      <th>26304</th>\n",
       "      <td>2022-01-01</td>\n",
       "      <td>1</td>\n",
       "      <td>2022-01-01 00:00:00</td>\n",
       "      <td>50.05</td>\n",
       "      <td>78.44</td>\n",
       "      <td>82.02</td>\n",
       "      <td>50.05</td>\n",
       "      <td>46.60</td>\n",
       "      <td>89.06</td>\n",
       "      <td>124.70</td>\n",
       "      <td>...</td>\n",
       "      <td>61.84</td>\n",
       "      <td>59.03</td>\n",
       "      <td>46.60</td>\n",
       "      <td>119.97</td>\n",
       "      <td>50.05</td>\n",
       "      <td>170.28</td>\n",
       "      <td>61.84</td>\n",
       "      <td>61.84</td>\n",
       "      <td>81.87</td>\n",
       "      <td>170.28</td>\n",
       "    </tr>\n",
       "    <tr>\n",
       "      <th>26305</th>\n",
       "      <td>2022-01-01</td>\n",
       "      <td>2</td>\n",
       "      <td>2022-01-01 01:00:00</td>\n",
       "      <td>41.33</td>\n",
       "      <td>69.75</td>\n",
       "      <td>67.07</td>\n",
       "      <td>41.33</td>\n",
       "      <td>41.33</td>\n",
       "      <td>78.48</td>\n",
       "      <td>124.70</td>\n",
       "      <td>...</td>\n",
       "      <td>51.44</td>\n",
       "      <td>49.37</td>\n",
       "      <td>41.33</td>\n",
       "      <td>101.54</td>\n",
       "      <td>41.33</td>\n",
       "      <td>155.72</td>\n",
       "      <td>51.44</td>\n",
       "      <td>41.33</td>\n",
       "      <td>64.49</td>\n",
       "      <td>155.72</td>\n",
       "    </tr>\n",
       "    <tr>\n",
       "      <th>26306</th>\n",
       "      <td>2022-01-01</td>\n",
       "      <td>3</td>\n",
       "      <td>2022-01-01 02:00:00</td>\n",
       "      <td>43.22</td>\n",
       "      <td>68.04</td>\n",
       "      <td>75.11</td>\n",
       "      <td>43.22</td>\n",
       "      <td>42.18</td>\n",
       "      <td>85.16</td>\n",
       "      <td>134.00</td>\n",
       "      <td>...</td>\n",
       "      <td>55.91</td>\n",
       "      <td>43.22</td>\n",
       "      <td>42.18</td>\n",
       "      <td>52.13</td>\n",
       "      <td>43.22</td>\n",
       "      <td>147.09</td>\n",
       "      <td>55.91</td>\n",
       "      <td>43.22</td>\n",
       "      <td>24.99</td>\n",
       "      <td>147.09</td>\n",
       "    </tr>\n",
       "    <tr>\n",
       "      <th>26307</th>\n",
       "      <td>2022-01-01</td>\n",
       "      <td>4</td>\n",
       "      <td>2022-01-01 03:00:00</td>\n",
       "      <td>45.46</td>\n",
       "      <td>51.27</td>\n",
       "      <td>50.91</td>\n",
       "      <td>45.46</td>\n",
       "      <td>44.37</td>\n",
       "      <td>50.00</td>\n",
       "      <td>58.80</td>\n",
       "      <td>...</td>\n",
       "      <td>46.94</td>\n",
       "      <td>45.46</td>\n",
       "      <td>44.37</td>\n",
       "      <td>20.78</td>\n",
       "      <td>45.46</td>\n",
       "      <td>91.00</td>\n",
       "      <td>46.94</td>\n",
       "      <td>45.46</td>\n",
       "      <td>7.02</td>\n",
       "      <td>91.00</td>\n",
       "    </tr>\n",
       "    <tr>\n",
       "      <th>26308</th>\n",
       "      <td>2022-01-01</td>\n",
       "      <td>5</td>\n",
       "      <td>2022-01-01 04:00:00</td>\n",
       "      <td>37.67</td>\n",
       "      <td>42.46</td>\n",
       "      <td>37.67</td>\n",
       "      <td>37.67</td>\n",
       "      <td>37.67</td>\n",
       "      <td>37.67</td>\n",
       "      <td>37.67</td>\n",
       "      <td>...</td>\n",
       "      <td>37.67</td>\n",
       "      <td>37.67</td>\n",
       "      <td>37.67</td>\n",
       "      <td>15.66</td>\n",
       "      <td>37.67</td>\n",
       "      <td>104.00</td>\n",
       "      <td>37.67</td>\n",
       "      <td>37.67</td>\n",
       "      <td>2.74</td>\n",
       "      <td>104.00</td>\n",
       "    </tr>\n",
       "  </tbody>\n",
       "</table>\n",
       "<p>5 rows × 21 columns</p>\n",
       "</div>"
      ],
      "text/plain": [
       "            date  hour             datetime  Germany  De-Lu  Belgium  \\\n",
       "26304 2022-01-01     1  2022-01-01 00:00:00    50.05  78.44    82.02   \n",
       "26305 2022-01-01     2  2022-01-01 01:00:00    41.33  69.75    67.07   \n",
       "26306 2022-01-01     3  2022-01-01 02:00:00    43.22  68.04    75.11   \n",
       "26307 2022-01-01     4  2022-01-01 03:00:00    45.46  51.27    50.91   \n",
       "26308 2022-01-01     5  2022-01-01 04:00:00    37.67  42.46    37.67   \n",
       "\n",
       "       Denmark 1  Denmark 2  France  Netherlands  ...  Austria  Poland  \\\n",
       "26304      50.05      46.60   89.06       124.70  ...    61.84   59.03   \n",
       "26305      41.33      41.33   78.48       124.70  ...    51.44   49.37   \n",
       "26306      43.22      42.18   85.16       134.00  ...    55.91   43.22   \n",
       "26307      45.46      44.37   50.00        58.80  ...    46.94   45.46   \n",
       "26308      37.67      37.67   37.67        37.67  ...    37.67   37.67   \n",
       "\n",
       "       Sweden 4  Switzerland  Czech   Italy  Slovenia  Hungary     GB  Greece  \n",
       "26304     46.60       119.97  50.05  170.28     61.84    61.84  81.87  170.28  \n",
       "26305     41.33       101.54  41.33  155.72     51.44    41.33  64.49  155.72  \n",
       "26306     42.18        52.13  43.22  147.09     55.91    43.22  24.99  147.09  \n",
       "26307     44.37        20.78  45.46   91.00     46.94    45.46   7.02   91.00  \n",
       "26308     37.67        15.66  37.67  104.00     37.67    37.67   2.74  104.00  \n",
       "\n",
       "[5 rows x 21 columns]"
      ]
     },
     "execution_count": 114,
     "metadata": {},
     "output_type": "execute_result"
    }
   ],
   "source": [
    "df = pd.read_csv('../data/cleaned_data/eu_da_prices_clean.csv', index_col=0)\n",
    "df.date = pd.to_datetime(df.date)\n",
    "df = df.loc[df.date >= pd.to_datetime('2022-01-01')]\n",
    "df.head()"
   ]
  },
  {
   "cell_type": "markdown",
   "metadata": {},
   "source": [
    "### Single cycle 1 hour"
   ]
  },
  {
   "cell_type": "code",
   "execution_count": 115,
   "metadata": {},
   "outputs": [
    {
     "data": {
      "text/html": [
       "<div>\n",
       "<style scoped>\n",
       "    .dataframe tbody tr th:only-of-type {\n",
       "        vertical-align: middle;\n",
       "    }\n",
       "\n",
       "    .dataframe tbody tr th {\n",
       "        vertical-align: top;\n",
       "    }\n",
       "\n",
       "    .dataframe thead th {\n",
       "        text-align: right;\n",
       "    }\n",
       "</style>\n",
       "<table border=\"1\" class=\"dataframe\">\n",
       "  <thead>\n",
       "    <tr style=\"text-align: right;\">\n",
       "      <th></th>\n",
       "      <th>date</th>\n",
       "      <th>Germany</th>\n",
       "      <th>De-Lu</th>\n",
       "      <th>Belgium</th>\n",
       "      <th>Denmark 1</th>\n",
       "      <th>Denmark 2</th>\n",
       "      <th>France</th>\n",
       "      <th>Netherlands</th>\n",
       "      <th>Norway 2</th>\n",
       "      <th>Austria</th>\n",
       "      <th>Poland</th>\n",
       "      <th>Sweden 4</th>\n",
       "      <th>Switzerland</th>\n",
       "      <th>Czech</th>\n",
       "      <th>Italy</th>\n",
       "      <th>Slovenia</th>\n",
       "      <th>Hungary</th>\n",
       "      <th>GB</th>\n",
       "      <th>Greece</th>\n",
       "    </tr>\n",
       "    <tr>\n",
       "      <th>date</th>\n",
       "      <th></th>\n",
       "      <th></th>\n",
       "      <th></th>\n",
       "      <th></th>\n",
       "      <th></th>\n",
       "      <th></th>\n",
       "      <th></th>\n",
       "      <th></th>\n",
       "      <th></th>\n",
       "      <th></th>\n",
       "      <th></th>\n",
       "      <th></th>\n",
       "      <th></th>\n",
       "      <th></th>\n",
       "      <th></th>\n",
       "      <th></th>\n",
       "      <th></th>\n",
       "      <th></th>\n",
       "      <th></th>\n",
       "    </tr>\n",
       "  </thead>\n",
       "  <tbody>\n",
       "    <tr>\n",
       "      <th>2022-01-01</th>\n",
       "      <td>0 days</td>\n",
       "      <td>112.30</td>\n",
       "      <td>107.41</td>\n",
       "      <td>112.30</td>\n",
       "      <td>112.30</td>\n",
       "      <td>112.30</td>\n",
       "      <td>112.30</td>\n",
       "      <td>112.30</td>\n",
       "      <td>39.27</td>\n",
       "      <td>112.30</td>\n",
       "      <td>112.30</td>\n",
       "      <td>112.30</td>\n",
       "      <td>133.23</td>\n",
       "      <td>112.30</td>\n",
       "      <td>146.67</td>\n",
       "      <td>112.30</td>\n",
       "      <td>112.30</td>\n",
       "      <td>225.96</td>\n",
       "      <td>174.04</td>\n",
       "    </tr>\n",
       "    <tr>\n",
       "      <th>2022-01-02</th>\n",
       "      <td>0 days</td>\n",
       "      <td>40.98</td>\n",
       "      <td>56.86</td>\n",
       "      <td>40.53</td>\n",
       "      <td>65.84</td>\n",
       "      <td>65.84</td>\n",
       "      <td>40.53</td>\n",
       "      <td>80.34</td>\n",
       "      <td>31.91</td>\n",
       "      <td>65.84</td>\n",
       "      <td>44.90</td>\n",
       "      <td>65.84</td>\n",
       "      <td>110.41</td>\n",
       "      <td>65.84</td>\n",
       "      <td>145.00</td>\n",
       "      <td>65.84</td>\n",
       "      <td>215.44</td>\n",
       "      <td>143.45</td>\n",
       "      <td>235.30</td>\n",
       "    </tr>\n",
       "    <tr>\n",
       "      <th>2022-01-03</th>\n",
       "      <td>0 days</td>\n",
       "      <td>149.54</td>\n",
       "      <td>137.56</td>\n",
       "      <td>163.95</td>\n",
       "      <td>139.47</td>\n",
       "      <td>130.33</td>\n",
       "      <td>180.30</td>\n",
       "      <td>215.05</td>\n",
       "      <td>31.49</td>\n",
       "      <td>141.42</td>\n",
       "      <td>100.65</td>\n",
       "      <td>119.75</td>\n",
       "      <td>223.51</td>\n",
       "      <td>141.42</td>\n",
       "      <td>216.73</td>\n",
       "      <td>285.29</td>\n",
       "      <td>173.00</td>\n",
       "      <td>186.21</td>\n",
       "      <td>188.91</td>\n",
       "    </tr>\n",
       "    <tr>\n",
       "      <th>2022-01-04</th>\n",
       "      <td>0 days</td>\n",
       "      <td>92.44</td>\n",
       "      <td>93.44</td>\n",
       "      <td>91.90</td>\n",
       "      <td>98.53</td>\n",
       "      <td>148.78</td>\n",
       "      <td>85.00</td>\n",
       "      <td>88.90</td>\n",
       "      <td>54.50</td>\n",
       "      <td>90.53</td>\n",
       "      <td>96.03</td>\n",
       "      <td>148.78</td>\n",
       "      <td>115.05</td>\n",
       "      <td>92.44</td>\n",
       "      <td>96.21</td>\n",
       "      <td>90.53</td>\n",
       "      <td>143.64</td>\n",
       "      <td>132.33</td>\n",
       "      <td>121.64</td>\n",
       "    </tr>\n",
       "    <tr>\n",
       "      <th>2022-01-05</th>\n",
       "      <td>0 days</td>\n",
       "      <td>72.71</td>\n",
       "      <td>113.59</td>\n",
       "      <td>165.17</td>\n",
       "      <td>98.56</td>\n",
       "      <td>98.56</td>\n",
       "      <td>189.62</td>\n",
       "      <td>239.87</td>\n",
       "      <td>44.72</td>\n",
       "      <td>104.18</td>\n",
       "      <td>53.37</td>\n",
       "      <td>98.56</td>\n",
       "      <td>151.03</td>\n",
       "      <td>94.62</td>\n",
       "      <td>189.62</td>\n",
       "      <td>104.18</td>\n",
       "      <td>104.18</td>\n",
       "      <td>116.59</td>\n",
       "      <td>160.80</td>\n",
       "    </tr>\n",
       "  </tbody>\n",
       "</table>\n",
       "</div>"
      ],
      "text/plain": [
       "             date  Germany   De-Lu  Belgium  Denmark 1  Denmark 2  France  \\\n",
       "date                                                                        \n",
       "2022-01-01 0 days   112.30  107.41   112.30     112.30     112.30  112.30   \n",
       "2022-01-02 0 days    40.98   56.86    40.53      65.84      65.84   40.53   \n",
       "2022-01-03 0 days   149.54  137.56   163.95     139.47     130.33  180.30   \n",
       "2022-01-04 0 days    92.44   93.44    91.90      98.53     148.78   85.00   \n",
       "2022-01-05 0 days    72.71  113.59   165.17      98.56      98.56  189.62   \n",
       "\n",
       "            Netherlands  Norway 2  Austria  Poland  Sweden 4  Switzerland  \\\n",
       "date                                                                        \n",
       "2022-01-01       112.30     39.27   112.30  112.30    112.30       133.23   \n",
       "2022-01-02        80.34     31.91    65.84   44.90     65.84       110.41   \n",
       "2022-01-03       215.05     31.49   141.42  100.65    119.75       223.51   \n",
       "2022-01-04        88.90     54.50    90.53   96.03    148.78       115.05   \n",
       "2022-01-05       239.87     44.72   104.18   53.37     98.56       151.03   \n",
       "\n",
       "             Czech   Italy  Slovenia  Hungary      GB  Greece  \n",
       "date                                                           \n",
       "2022-01-01  112.30  146.67    112.30   112.30  225.96  174.04  \n",
       "2022-01-02   65.84  145.00     65.84   215.44  143.45  235.30  \n",
       "2022-01-03  141.42  216.73    285.29   173.00  186.21  188.91  \n",
       "2022-01-04   92.44   96.21     90.53   143.64  132.33  121.64  \n",
       "2022-01-05   94.62  189.62    104.18   104.18  116.59  160.80  "
      ]
     },
     "execution_count": 115,
     "metadata": {},
     "output_type": "execute_result"
    }
   ],
   "source": [
    "cycle_1_hour_1 = df.drop(['hour', 'datetime'], axis=1).groupby('date').apply(lambda x: x.max() - x.min())\n",
    "cycle_1_hour_1.head()"
   ]
  },
  {
   "cell_type": "code",
   "execution_count": 116,
   "metadata": {},
   "outputs": [
    {
     "data": {
      "text/plain": [
       "Greece         76838.35\n",
       "Netherlands    74865.43\n",
       "Hungary        74368.99\n",
       "Sweden 4       73867.40\n",
       "Belgium        72030.46\n",
       "Denmark 2      70884.84\n",
       "Germany        68252.06\n",
       "Slovenia       67368.71\n",
       "Czech          66943.99\n",
       "GB             65669.67\n",
       "Denmark 1      65157.15\n",
       "France         63843.47\n",
       "Austria        59681.02\n",
       "Italy          58954.95\n",
       "De-Lu          54973.29\n",
       "Poland         52234.22\n",
       "Switzerland    46144.21\n",
       "Norway 2       38806.75\n",
       "dtype: float64"
      ]
     },
     "execution_count": 116,
     "metadata": {},
     "output_type": "execute_result"
    }
   ],
   "source": [
    "cycle_1_hour_1_rev = cycle_1_hour_1.sum()\n",
    "cycle_1_hour_1_rev = cycle_1_hour_1_rev.drop('date').astype(float).sort_values(ascending=False)\n",
    "cycle_1_hour_1_rev"
   ]
  },
  {
   "cell_type": "markdown",
   "metadata": {},
   "source": [
    "### Dual cycle 1 hour"
   ]
  },
  {
   "cell_type": "code",
   "execution_count": 117,
   "metadata": {},
   "outputs": [],
   "source": [
    "cycle_2_hour_1 = df.copy()\n",
    "cycle_2_hour_1['am_pm'] = cycle_2_hour_1.hour.apply(lambda x: 'am' if x < 13 else 'pm')\n",
    "cycle_2_hour_1_am = cycle_2_hour_1.loc[cycle_2_hour_1.am_pm == 'am']\n",
    "cycle_2_hour_1_pm = cycle_2_hour_1.loc[cycle_2_hour_1.am_pm == 'pm']"
   ]
  },
  {
   "cell_type": "code",
   "execution_count": 118,
   "metadata": {},
   "outputs": [
    {
     "data": {
      "text/html": [
       "<div>\n",
       "<style scoped>\n",
       "    .dataframe tbody tr th:only-of-type {\n",
       "        vertical-align: middle;\n",
       "    }\n",
       "\n",
       "    .dataframe tbody tr th {\n",
       "        vertical-align: top;\n",
       "    }\n",
       "\n",
       "    .dataframe thead th {\n",
       "        text-align: right;\n",
       "    }\n",
       "</style>\n",
       "<table border=\"1\" class=\"dataframe\">\n",
       "  <thead>\n",
       "    <tr style=\"text-align: right;\">\n",
       "      <th></th>\n",
       "      <th></th>\n",
       "      <th>Germany</th>\n",
       "      <th>De-Lu</th>\n",
       "      <th>Belgium</th>\n",
       "      <th>Denmark 1</th>\n",
       "      <th>Denmark 2</th>\n",
       "      <th>France</th>\n",
       "      <th>Netherlands</th>\n",
       "      <th>Norway 2</th>\n",
       "      <th>Austria</th>\n",
       "      <th>Poland</th>\n",
       "      <th>Sweden 4</th>\n",
       "      <th>Switzerland</th>\n",
       "      <th>Czech</th>\n",
       "      <th>Italy</th>\n",
       "      <th>Slovenia</th>\n",
       "      <th>Hungary</th>\n",
       "      <th>GB</th>\n",
       "      <th>Greece</th>\n",
       "    </tr>\n",
       "    <tr>\n",
       "      <th>date</th>\n",
       "      <th>am_pm</th>\n",
       "      <th></th>\n",
       "      <th></th>\n",
       "      <th></th>\n",
       "      <th></th>\n",
       "      <th></th>\n",
       "      <th></th>\n",
       "      <th></th>\n",
       "      <th></th>\n",
       "      <th></th>\n",
       "      <th></th>\n",
       "      <th></th>\n",
       "      <th></th>\n",
       "      <th></th>\n",
       "      <th></th>\n",
       "      <th></th>\n",
       "      <th></th>\n",
       "      <th></th>\n",
       "      <th></th>\n",
       "    </tr>\n",
       "  </thead>\n",
       "  <tbody>\n",
       "    <tr>\n",
       "      <th rowspan=\"2\" valign=\"top\">2022-01-01</th>\n",
       "      <th>am</th>\n",
       "      <td>46.43</td>\n",
       "      <td>42.53</td>\n",
       "      <td>46.43</td>\n",
       "      <td>46.43</td>\n",
       "      <td>46.43</td>\n",
       "      <td>51.39</td>\n",
       "      <td>96.33</td>\n",
       "      <td>21.45</td>\n",
       "      <td>46.43</td>\n",
       "      <td>46.43</td>\n",
       "      <td>46.43</td>\n",
       "      <td>104.31</td>\n",
       "      <td>46.43</td>\n",
       "      <td>102.29</td>\n",
       "      <td>46.43</td>\n",
       "      <td>46.43</td>\n",
       "      <td>90.31</td>\n",
       "      <td>129.66</td>\n",
       "    </tr>\n",
       "    <tr>\n",
       "      <th>pm</th>\n",
       "      <td>64.81</td>\n",
       "      <td>56.64</td>\n",
       "      <td>64.81</td>\n",
       "      <td>66.86</td>\n",
       "      <td>66.86</td>\n",
       "      <td>64.81</td>\n",
       "      <td>64.81</td>\n",
       "      <td>33.54</td>\n",
       "      <td>64.81</td>\n",
       "      <td>64.81</td>\n",
       "      <td>66.86</td>\n",
       "      <td>78.17</td>\n",
       "      <td>64.81</td>\n",
       "      <td>114.66</td>\n",
       "      <td>64.81</td>\n",
       "      <td>64.81</td>\n",
       "      <td>143.62</td>\n",
       "      <td>150.70</td>\n",
       "    </tr>\n",
       "    <tr>\n",
       "      <th rowspan=\"2\" valign=\"top\">2022-01-02</th>\n",
       "      <th>am</th>\n",
       "      <td>40.53</td>\n",
       "      <td>40.13</td>\n",
       "      <td>40.53</td>\n",
       "      <td>40.53</td>\n",
       "      <td>40.53</td>\n",
       "      <td>40.53</td>\n",
       "      <td>40.53</td>\n",
       "      <td>17.88</td>\n",
       "      <td>40.53</td>\n",
       "      <td>40.62</td>\n",
       "      <td>40.53</td>\n",
       "      <td>72.67</td>\n",
       "      <td>40.53</td>\n",
       "      <td>75.08</td>\n",
       "      <td>40.53</td>\n",
       "      <td>40.53</td>\n",
       "      <td>99.42</td>\n",
       "      <td>146.02</td>\n",
       "    </tr>\n",
       "    <tr>\n",
       "      <th>pm</th>\n",
       "      <td>35.43</td>\n",
       "      <td>46.76</td>\n",
       "      <td>36.57</td>\n",
       "      <td>62.47</td>\n",
       "      <td>62.47</td>\n",
       "      <td>34.92</td>\n",
       "      <td>76.97</td>\n",
       "      <td>31.16</td>\n",
       "      <td>62.47</td>\n",
       "      <td>38.36</td>\n",
       "      <td>62.47</td>\n",
       "      <td>77.49</td>\n",
       "      <td>62.47</td>\n",
       "      <td>100.21</td>\n",
       "      <td>62.47</td>\n",
       "      <td>212.07</td>\n",
       "      <td>110.07</td>\n",
       "      <td>180.46</td>\n",
       "    </tr>\n",
       "    <tr>\n",
       "      <th>2022-01-03</th>\n",
       "      <th>am</th>\n",
       "      <td>123.98</td>\n",
       "      <td>114.75</td>\n",
       "      <td>103.16</td>\n",
       "      <td>122.83</td>\n",
       "      <td>113.69</td>\n",
       "      <td>180.30</td>\n",
       "      <td>130.95</td>\n",
       "      <td>11.88</td>\n",
       "      <td>124.40</td>\n",
       "      <td>99.62</td>\n",
       "      <td>103.11</td>\n",
       "      <td>214.78</td>\n",
       "      <td>128.46</td>\n",
       "      <td>156.24</td>\n",
       "      <td>232.44</td>\n",
       "      <td>134.01</td>\n",
       "      <td>70.73</td>\n",
       "      <td>188.91</td>\n",
       "    </tr>\n",
       "    <tr>\n",
       "      <th>...</th>\n",
       "      <th>...</th>\n",
       "      <td>...</td>\n",
       "      <td>...</td>\n",
       "      <td>...</td>\n",
       "      <td>...</td>\n",
       "      <td>...</td>\n",
       "      <td>...</td>\n",
       "      <td>...</td>\n",
       "      <td>...</td>\n",
       "      <td>...</td>\n",
       "      <td>...</td>\n",
       "      <td>...</td>\n",
       "      <td>...</td>\n",
       "      <td>...</td>\n",
       "      <td>...</td>\n",
       "      <td>...</td>\n",
       "      <td>...</td>\n",
       "      <td>...</td>\n",
       "      <td>...</td>\n",
       "    </tr>\n",
       "    <tr>\n",
       "      <th>2022-12-29</th>\n",
       "      <th>pm</th>\n",
       "      <td>49.42</td>\n",
       "      <td>37.01</td>\n",
       "      <td>51.91</td>\n",
       "      <td>49.42</td>\n",
       "      <td>13.95</td>\n",
       "      <td>46.37</td>\n",
       "      <td>85.79</td>\n",
       "      <td>32.87</td>\n",
       "      <td>48.06</td>\n",
       "      <td>17.02</td>\n",
       "      <td>12.23</td>\n",
       "      <td>37.51</td>\n",
       "      <td>45.18</td>\n",
       "      <td>116.00</td>\n",
       "      <td>70.15</td>\n",
       "      <td>80.04</td>\n",
       "      <td>140.46</td>\n",
       "      <td>175.58</td>\n",
       "    </tr>\n",
       "    <tr>\n",
       "      <th rowspan=\"2\" valign=\"top\">2022-12-30</th>\n",
       "      <th>am</th>\n",
       "      <td>28.51</td>\n",
       "      <td>34.99</td>\n",
       "      <td>29.09</td>\n",
       "      <td>28.51</td>\n",
       "      <td>28.51</td>\n",
       "      <td>38.40</td>\n",
       "      <td>28.65</td>\n",
       "      <td>62.83</td>\n",
       "      <td>54.63</td>\n",
       "      <td>35.58</td>\n",
       "      <td>28.51</td>\n",
       "      <td>32.40</td>\n",
       "      <td>45.97</td>\n",
       "      <td>106.14</td>\n",
       "      <td>53.39</td>\n",
       "      <td>64.00</td>\n",
       "      <td>140.50</td>\n",
       "      <td>108.92</td>\n",
       "    </tr>\n",
       "    <tr>\n",
       "      <th>pm</th>\n",
       "      <td>30.78</td>\n",
       "      <td>40.16</td>\n",
       "      <td>30.81</td>\n",
       "      <td>30.78</td>\n",
       "      <td>30.77</td>\n",
       "      <td>30.16</td>\n",
       "      <td>30.88</td>\n",
       "      <td>120.55</td>\n",
       "      <td>50.02</td>\n",
       "      <td>54.29</td>\n",
       "      <td>30.77</td>\n",
       "      <td>31.00</td>\n",
       "      <td>46.49</td>\n",
       "      <td>99.64</td>\n",
       "      <td>72.56</td>\n",
       "      <td>154.47</td>\n",
       "      <td>158.00</td>\n",
       "      <td>187.54</td>\n",
       "    </tr>\n",
       "    <tr>\n",
       "      <th rowspan=\"2\" valign=\"top\">2022-12-31</th>\n",
       "      <th>am</th>\n",
       "      <td>2.29</td>\n",
       "      <td>12.73</td>\n",
       "      <td>1.54</td>\n",
       "      <td>6.83</td>\n",
       "      <td>4.10</td>\n",
       "      <td>1.06</td>\n",
       "      <td>6.82</td>\n",
       "      <td>60.89</td>\n",
       "      <td>10.28</td>\n",
       "      <td>74.39</td>\n",
       "      <td>4.10</td>\n",
       "      <td>10.00</td>\n",
       "      <td>4.01</td>\n",
       "      <td>78.00</td>\n",
       "      <td>9.29</td>\n",
       "      <td>21.69</td>\n",
       "      <td>149.66</td>\n",
       "      <td>176.95</td>\n",
       "    </tr>\n",
       "    <tr>\n",
       "      <th>pm</th>\n",
       "      <td>3.78</td>\n",
       "      <td>28.42</td>\n",
       "      <td>27.80</td>\n",
       "      <td>63.26</td>\n",
       "      <td>21.81</td>\n",
       "      <td>20.37</td>\n",
       "      <td>93.39</td>\n",
       "      <td>11.41</td>\n",
       "      <td>15.36</td>\n",
       "      <td>74.18</td>\n",
       "      <td>21.81</td>\n",
       "      <td>15.68</td>\n",
       "      <td>29.80</td>\n",
       "      <td>145.81</td>\n",
       "      <td>46.86</td>\n",
       "      <td>234.51</td>\n",
       "      <td>173.06</td>\n",
       "      <td>193.96</td>\n",
       "    </tr>\n",
       "  </tbody>\n",
       "</table>\n",
       "<p>730 rows × 18 columns</p>\n",
       "</div>"
      ],
      "text/plain": [
       "                  Germany   De-Lu  Belgium  Denmark 1  Denmark 2  France  \\\n",
       "date       am_pm                                                           \n",
       "2022-01-01 am       46.43   42.53    46.43      46.43      46.43   51.39   \n",
       "           pm       64.81   56.64    64.81      66.86      66.86   64.81   \n",
       "2022-01-02 am       40.53   40.13    40.53      40.53      40.53   40.53   \n",
       "           pm       35.43   46.76    36.57      62.47      62.47   34.92   \n",
       "2022-01-03 am      123.98  114.75   103.16     122.83     113.69  180.30   \n",
       "...                   ...     ...      ...        ...        ...     ...   \n",
       "2022-12-29 pm       49.42   37.01    51.91      49.42      13.95   46.37   \n",
       "2022-12-30 am       28.51   34.99    29.09      28.51      28.51   38.40   \n",
       "           pm       30.78   40.16    30.81      30.78      30.77   30.16   \n",
       "2022-12-31 am        2.29   12.73     1.54       6.83       4.10    1.06   \n",
       "           pm        3.78   28.42    27.80      63.26      21.81   20.37   \n",
       "\n",
       "                  Netherlands  Norway 2  Austria  Poland  Sweden 4  \\\n",
       "date       am_pm                                                     \n",
       "2022-01-01 am           96.33     21.45    46.43   46.43     46.43   \n",
       "           pm           64.81     33.54    64.81   64.81     66.86   \n",
       "2022-01-02 am           40.53     17.88    40.53   40.62     40.53   \n",
       "           pm           76.97     31.16    62.47   38.36     62.47   \n",
       "2022-01-03 am          130.95     11.88   124.40   99.62    103.11   \n",
       "...                       ...       ...      ...     ...       ...   \n",
       "2022-12-29 pm           85.79     32.87    48.06   17.02     12.23   \n",
       "2022-12-30 am           28.65     62.83    54.63   35.58     28.51   \n",
       "           pm           30.88    120.55    50.02   54.29     30.77   \n",
       "2022-12-31 am            6.82     60.89    10.28   74.39      4.10   \n",
       "           pm           93.39     11.41    15.36   74.18     21.81   \n",
       "\n",
       "                  Switzerland   Czech   Italy  Slovenia  Hungary      GB  \\\n",
       "date       am_pm                                                           \n",
       "2022-01-01 am          104.31   46.43  102.29     46.43    46.43   90.31   \n",
       "           pm           78.17   64.81  114.66     64.81    64.81  143.62   \n",
       "2022-01-02 am           72.67   40.53   75.08     40.53    40.53   99.42   \n",
       "           pm           77.49   62.47  100.21     62.47   212.07  110.07   \n",
       "2022-01-03 am          214.78  128.46  156.24    232.44   134.01   70.73   \n",
       "...                       ...     ...     ...       ...      ...     ...   \n",
       "2022-12-29 pm           37.51   45.18  116.00     70.15    80.04  140.46   \n",
       "2022-12-30 am           32.40   45.97  106.14     53.39    64.00  140.50   \n",
       "           pm           31.00   46.49   99.64     72.56   154.47  158.00   \n",
       "2022-12-31 am           10.00    4.01   78.00      9.29    21.69  149.66   \n",
       "           pm           15.68   29.80  145.81     46.86   234.51  173.06   \n",
       "\n",
       "                  Greece  \n",
       "date       am_pm          \n",
       "2022-01-01 am     129.66  \n",
       "           pm     150.70  \n",
       "2022-01-02 am     146.02  \n",
       "           pm     180.46  \n",
       "2022-01-03 am     188.91  \n",
       "...                  ...  \n",
       "2022-12-29 pm     175.58  \n",
       "2022-12-30 am     108.92  \n",
       "           pm     187.54  \n",
       "2022-12-31 am     176.95  \n",
       "           pm     193.96  \n",
       "\n",
       "[730 rows x 18 columns]"
      ]
     },
     "execution_count": 118,
     "metadata": {},
     "output_type": "execute_result"
    }
   ],
   "source": [
    "cycle_2_hour_1 = cycle_2_hour_1.drop(['hour', 'datetime'], axis=1).groupby(['date', 'am_pm']).apply(lambda x: x.max() - x.min())\n",
    "cycle_2_hour_1"
   ]
  },
  {
   "cell_type": "code",
   "execution_count": 119,
   "metadata": {},
   "outputs": [
    {
     "data": {
      "text/plain": [
       "Netherlands    118202.57\n",
       "Greece         115454.81\n",
       "Sweden 4       112972.29\n",
       "Belgium        112553.58\n",
       "Hungary        111015.74\n",
       "Denmark 2      105492.89\n",
       "Germany        104827.20\n",
       "Czech          104274.78\n",
       "Slovenia       100646.10\n",
       "Denmark 1       97049.84\n",
       "GB              96427.40\n",
       "France          93747.97\n",
       "Austria         91186.56\n",
       "Italy           86987.76\n",
       "De-Lu           84288.07\n",
       "Poland          76592.56\n",
       "Switzerland     69728.75\n",
       "Norway 2        58146.63\n",
       "dtype: float64"
      ]
     },
     "execution_count": 119,
     "metadata": {},
     "output_type": "execute_result"
    }
   ],
   "source": [
    "cycle_2_hour_1_rev = cycle_2_hour_1.sum().sort_values(ascending=False)\n",
    "cycle_2_hour_1_rev"
   ]
  },
  {
   "cell_type": "markdown",
   "metadata": {},
   "source": [
    "### Single cycle 2 hour\n",
    "\n",
    "(Dis)charging times based on average price profile"
   ]
  },
  {
   "cell_type": "code",
   "execution_count": 120,
   "metadata": {},
   "outputs": [
    {
     "data": {
      "text/plain": [
       "Hungary        109157.07\n",
       "GB             102684.70\n",
       "Slovenia       100491.01\n",
       "Greece          98996.23\n",
       "Sweden 4        98037.09\n",
       "Netherlands     93562.84\n",
       "France          90023.46\n",
       "Czech           89933.57\n",
       "Belgium         86047.09\n",
       "Austria         85339.86\n",
       "Italy           85073.47\n",
       "Denmark 2       81789.71\n",
       "De-Lu           78160.33\n",
       "Denmark 1       73885.56\n",
       "Poland          71653.49\n",
       "Switzerland     71004.23\n",
       "Norway 2        41564.46\n",
       "dtype: float64"
      ]
     },
     "execution_count": 120,
     "metadata": {},
     "output_type": "execute_result"
    }
   ],
   "source": [
    "charge_3_4 = ['Poland', 'Sweden 4']\n",
    "charge_4_5 = ['De-Lu', 'Denmark 2', 'France', 'Norway 2', 'Austria', 'Switzerland', 'Czech', 'Italy', 'Slovenia', 'Hungary', 'GB', 'Greece']\n",
    "charge_14_15 = ['Belgium', 'Denmark 1', 'Netherlands']\n",
    "\n",
    "discharge_18_19 = ['GB']\n",
    "discharge_19_20 = ['Denmark 2', 'Norway 2', 'Sweden 4']\n",
    "discharge_20_21 = ['De-Lu', 'Belgium', 'Denmark 1', 'France', 'Netherlands', 'Austria', 'Poland', 'Switzerland', 'Czech', 'Italy', 'Slovenia', 'Hungary', 'Greece']\n",
    "\n",
    "df['charge_discharge'] = 0\n",
    "\n",
    "def calculate_single_cycle_2_hour_rev(df):\n",
    "    charge_3_4_cost = df[charge_3_4].loc[(df.hour == 3) | (df.hour == 4)].sum()\n",
    "    charge_4_5_cost = df[charge_4_5].loc[(df.hour == 4) | (df.hour == 5)].sum()\n",
    "    charge_14_15_cost = df[charge_14_15].loc[(df.hour == 14) | (df.hour == 15)].sum()\n",
    "    discharge_18_19_rev = df[discharge_18_19].loc[(df.hour == 18) | (df.hour == 19)].sum()\n",
    "    discharge_19_20_rev = df[discharge_19_20].loc[(df.hour == 19) | (df.hour == 20)].sum()\n",
    "    discharge_20_21_rev = df[discharge_20_21].loc[(df.hour == 20) | (df.hour == 21)].sum()\n",
    "\n",
    "    charge_cost = pd.concat([charge_3_4_cost, charge_4_5_cost, charge_14_15_cost], axis=0)\n",
    "    discharge_rev = pd.concat([discharge_18_19_rev, discharge_19_20_rev, discharge_20_21_rev], axis=0)\n",
    "\n",
    "    total_rev = discharge_rev - charge_cost\n",
    "\n",
    "    return total_rev\n",
    "\n",
    "cycle_1_hour_2_rev = calculate_single_cycle_2_hour_rev(df).sort_values(ascending=False)\n",
    "cycle_1_hour_2_rev"
   ]
  },
  {
   "cell_type": "markdown",
   "metadata": {},
   "source": [
    "### Dual cycle 2 hour\n",
    "\n",
    "(Dis)charging times based on average price profile"
   ]
  },
  {
   "cell_type": "code",
   "execution_count": 121,
   "metadata": {},
   "outputs": [
    {
     "data": {
      "text/html": [
       "<div>\n",
       "<style scoped>\n",
       "    .dataframe tbody tr th:only-of-type {\n",
       "        vertical-align: middle;\n",
       "    }\n",
       "\n",
       "    .dataframe tbody tr th {\n",
       "        vertical-align: top;\n",
       "    }\n",
       "\n",
       "    .dataframe thead th {\n",
       "        text-align: right;\n",
       "    }\n",
       "</style>\n",
       "<table border=\"1\" class=\"dataframe\">\n",
       "  <thead>\n",
       "    <tr style=\"text-align: right;\">\n",
       "      <th></th>\n",
       "      <th>0</th>\n",
       "    </tr>\n",
       "    <tr>\n",
       "      <th>index</th>\n",
       "      <th></th>\n",
       "    </tr>\n",
       "  </thead>\n",
       "  <tbody>\n",
       "    <tr>\n",
       "      <th>Netherlands</th>\n",
       "      <td>154473.69</td>\n",
       "    </tr>\n",
       "    <tr>\n",
       "      <th>Hungary</th>\n",
       "      <td>152026.51</td>\n",
       "    </tr>\n",
       "    <tr>\n",
       "      <th>Belgium</th>\n",
       "      <td>148824.17</td>\n",
       "    </tr>\n",
       "    <tr>\n",
       "      <th>Greece</th>\n",
       "      <td>144067.19</td>\n",
       "    </tr>\n",
       "    <tr>\n",
       "      <th>Czech</th>\n",
       "      <td>141544.86</td>\n",
       "    </tr>\n",
       "    <tr>\n",
       "      <th>Sweden 4</th>\n",
       "      <td>141221.52</td>\n",
       "    </tr>\n",
       "    <tr>\n",
       "      <th>Denmark 2</th>\n",
       "      <td>140135.54</td>\n",
       "    </tr>\n",
       "    <tr>\n",
       "      <th>GB</th>\n",
       "      <td>136589.51</td>\n",
       "    </tr>\n",
       "    <tr>\n",
       "      <th>Slovenia</th>\n",
       "      <td>136507.05</td>\n",
       "    </tr>\n",
       "    <tr>\n",
       "      <th>Denmark 1</th>\n",
       "      <td>132450.91</td>\n",
       "    </tr>\n",
       "    <tr>\n",
       "      <th>France</th>\n",
       "      <td>129589.58</td>\n",
       "    </tr>\n",
       "    <tr>\n",
       "      <th>De-Lu</th>\n",
       "      <td>124151.99</td>\n",
       "    </tr>\n",
       "    <tr>\n",
       "      <th>Italy</th>\n",
       "      <td>122916.79</td>\n",
       "    </tr>\n",
       "    <tr>\n",
       "      <th>Austria</th>\n",
       "      <td>120721.43</td>\n",
       "    </tr>\n",
       "    <tr>\n",
       "      <th>Switzerland</th>\n",
       "      <td>103073.66</td>\n",
       "    </tr>\n",
       "    <tr>\n",
       "      <th>Poland</th>\n",
       "      <td>94818.98</td>\n",
       "    </tr>\n",
       "    <tr>\n",
       "      <th>Norway 2</th>\n",
       "      <td>70328.01</td>\n",
       "    </tr>\n",
       "  </tbody>\n",
       "</table>\n",
       "</div>"
      ],
      "text/plain": [
       "                     0\n",
       "index                 \n",
       "Netherlands  154473.69\n",
       "Hungary      152026.51\n",
       "Belgium      148824.17\n",
       "Greece       144067.19\n",
       "Czech        141544.86\n",
       "Sweden 4     141221.52\n",
       "Denmark 2    140135.54\n",
       "GB           136589.51\n",
       "Slovenia     136507.05\n",
       "Denmark 1    132450.91\n",
       "France       129589.58\n",
       "De-Lu        124151.99\n",
       "Italy        122916.79\n",
       "Austria      120721.43\n",
       "Switzerland  103073.66\n",
       "Poland        94818.98\n",
       "Norway 2      70328.01"
      ]
     },
     "execution_count": 121,
     "metadata": {},
     "output_type": "execute_result"
    }
   ],
   "source": [
    "charge_3_4 = ['Poland', 'Sweden 4']\n",
    "charge_4_5 = ['De-Lu', 'Denmark 2', 'France', 'Norway 2', 'Austria', 'Switzerland', 'Czech', 'Italy', 'Slovenia', 'Hungary', 'GB', 'Belgium', 'Denmark 1', 'Netherlands', 'Greece']\n",
    "charge_14_15 = ['Belgium', 'Denmark 1', 'Netherlands', 'De-Lu', 'Denmark 2', 'Norway 2', 'Austria', 'Poland', 'Sweden 4', 'Switzerland', 'Czech', 'Italy', 'Slovenia', 'Hungary', 'GB', 'Greece']\n",
    "charge_15_16 = ['France']\n",
    "\n",
    "discharge_8_9 = ['De-Lu', 'Belgium', 'Denmark 1', 'Denmark 2', 'Netherlands', 'Austria', 'Poland', 'Sweden 4', 'Switzerland', 'Czech', 'Slovenia', 'Hungary', 'GB', 'Greece']\n",
    "discharge_9_10 = ['France', 'Norway 2', 'Italy']\n",
    "discharge_18_19 = ['GB']\n",
    "discharge_19_20 = ['Denmark 2', 'Norway 2', 'Sweden 4']\n",
    "discharge_20_21 = ['De-Lu', 'Belgium', 'Denmark 1', 'France', 'Netherlands', 'Austria', 'Poland', 'Switzerland', 'Czech', 'Italy', 'Slovenia', 'Hungary', 'Greece']\n",
    "\n",
    "df['charge_discharge'] = 0\n",
    "\n",
    "def calculate_single_cycle_2_hour_rev(df):\n",
    "    charge_3_4_cost = df[charge_3_4].loc[(df.hour == 3) | (df.hour == 4)].sum()\n",
    "    charge_4_5_cost = df[charge_4_5].loc[(df.hour == 4) | (df.hour == 5)].sum()\n",
    "    charge_14_15_cost = df[charge_14_15].loc[(df.hour == 14) | (df.hour == 15)].sum()\n",
    "    charge_15_16_cost = df[charge_15_16].loc[(df.hour == 15) | (df.hour == 16)].sum()\n",
    "    discharge_8_9_rev = df[discharge_8_9].loc[(df.hour == 8) | (df.hour == 9)].sum()\n",
    "    discharge_9_10_rev = df[discharge_9_10].loc[(df.hour == 9) | (df.hour == 10)].sum()\n",
    "    discharge_18_19_rev = df[discharge_18_19].loc[(df.hour == 18) | (df.hour == 19)].sum()\n",
    "    discharge_19_20_rev = df[discharge_19_20].loc[(df.hour == 19) | (df.hour == 20)].sum()\n",
    "    discharge_20_21_rev = df[discharge_20_21].loc[(df.hour == 20) | (df.hour == 21)].sum()\n",
    "\n",
    "    charge_cost = pd.concat([charge_3_4_cost, charge_4_5_cost, charge_14_15_cost, charge_15_16_cost], axis=0).reset_index().groupby('index').sum()\n",
    "    discharge_rev = pd.concat([discharge_8_9_rev, discharge_9_10_rev, discharge_18_19_rev, discharge_19_20_rev, discharge_20_21_rev], axis=0).reset_index().groupby('index').sum()\n",
    "\n",
    "    total_rev = discharge_rev - charge_cost\n",
    "\n",
    "    return total_rev\n",
    "\n",
    "cycle_2_hour_2_rev = calculate_single_cycle_2_hour_rev(df).sort_values(by=0, ascending=False)\n",
    "cycle_2_hour_2_rev"
   ]
  },
  {
   "cell_type": "markdown",
   "metadata": {},
   "source": [
    "### Plots"
   ]
  },
  {
   "cell_type": "code",
   "execution_count": 124,
   "metadata": {},
   "outputs": [
    {
     "data": {
      "application/vnd.plotly.v1+json": {
       "config": {
        "plotlyServerURL": "https://plot.ly"
       },
       "data": [
        {
         "marker": {
          "color": [
           76838.35,
           74865.43,
           74368.98999999999,
           73867.4,
           72030.46,
           70884.84,
           68252.06,
           67368.70999999999,
           66943.99,
           65669.67000000001,
           65157.149999999994,
           63843.47,
           59681.020000000004,
           58954.95,
           54973.28999999999,
           52234.22,
           46144.21,
           38806.75
          ],
          "colorscale": [
           [
            0,
            "rgb(51, 19, 23)"
           ],
           [
            0.09090909090909091,
            "rgb(79, 28, 33)"
           ],
           [
            0.18181818181818182,
            "rgb(108, 36, 36)"
           ],
           [
            0.2727272727272727,
            "rgb(135, 47, 32)"
           ],
           [
            0.36363636363636365,
            "rgb(157, 66, 25)"
           ],
           [
            0.45454545454545453,
            "rgb(174, 88, 20)"
           ],
           [
            0.5454545454545454,
            "rgb(188, 111, 19)"
           ],
           [
            0.6363636363636364,
            "rgb(199, 137, 22)"
           ],
           [
            0.7272727272727273,
            "rgb(209, 164, 32)"
           ],
           [
            0.8181818181818182,
            "rgb(217, 192, 44)"
           ],
           [
            0.9090909090909091,
            "rgb(222, 222, 59)"
           ],
           [
            1,
            "rgb(224, 253, 74)"
           ]
          ]
         },
         "textangle": 0,
         "texttemplate": "%{value: .3r}",
         "type": "bar",
         "x": [
          "Greece",
          "Netherlands",
          "Hungary",
          "Sweden 4",
          "Belgium",
          "Denmark 2",
          "Germany",
          "Slovenia",
          "Czech",
          "GB",
          "Denmark 1",
          "France",
          "Austria",
          "Italy",
          "De-Lu",
          "Poland",
          "Switzerland",
          "Norway 2"
         ],
         "xaxis": "x",
         "y": [
          76.83835,
          74.86542999999999,
          74.36899,
          73.86739999999999,
          72.03046,
          70.88484,
          68.25206,
          67.36871,
          66.94399,
          65.66967000000001,
          65.15714999999999,
          63.84347,
          59.681020000000004,
          58.95495,
          54.97328999999999,
          52.23422,
          46.14421,
          38.80675
         ],
         "yaxis": "y"
        },
        {
         "marker": {
          "color": [
           118202.56999999989,
           115454.80999999998,
           112972.29000000018,
           112553.58,
           111015.73999999989,
           105492.88999999993,
           104827.19999999991,
           104274.77999999996,
           100646.0999999999,
           97049.83999999995,
           96427.40000000001,
           93747.96999999999,
           91186.56,
           86987.75999999995,
           84288.06999999995,
           76592.56000000003,
           69728.75,
           58146.629999999976
          ],
          "colorscale": [
           [
            0,
            "rgb(51, 19, 23)"
           ],
           [
            0.09090909090909091,
            "rgb(79, 28, 33)"
           ],
           [
            0.18181818181818182,
            "rgb(108, 36, 36)"
           ],
           [
            0.2727272727272727,
            "rgb(135, 47, 32)"
           ],
           [
            0.36363636363636365,
            "rgb(157, 66, 25)"
           ],
           [
            0.45454545454545453,
            "rgb(174, 88, 20)"
           ],
           [
            0.5454545454545454,
            "rgb(188, 111, 19)"
           ],
           [
            0.6363636363636364,
            "rgb(199, 137, 22)"
           ],
           [
            0.7272727272727273,
            "rgb(209, 164, 32)"
           ],
           [
            0.8181818181818182,
            "rgb(217, 192, 44)"
           ],
           [
            0.9090909090909091,
            "rgb(222, 222, 59)"
           ],
           [
            1,
            "rgb(224, 253, 74)"
           ]
          ]
         },
         "textangle": 0,
         "texttemplate": "%{value: .3r}",
         "type": "bar",
         "x": [
          "Netherlands",
          "Greece",
          "Sweden 4",
          "Belgium",
          "Hungary",
          "Denmark 2",
          "Germany",
          "Czech",
          "Slovenia",
          "Denmark 1",
          "GB",
          "France",
          "Austria",
          "Italy",
          "De-Lu",
          "Poland",
          "Switzerland",
          "Norway 2"
         ],
         "xaxis": "x2",
         "y": [
          118.2025699999999,
          115.45480999999998,
          112.97229000000019,
          112.55358,
          111.0157399999999,
          105.49288999999993,
          104.8271999999999,
          104.27477999999995,
          100.6460999999999,
          97.04983999999995,
          96.4274,
          93.74796999999998,
          91.18656,
          86.98775999999995,
          84.28806999999995,
          76.59256000000002,
          69.72875,
          58.14662999999997
         ],
         "yaxis": "y2"
        }
       ],
       "layout": {
        "annotations": [
         {
          "font": {
           "size": 16
          },
          "showarrow": false,
          "text": "Single cycle",
          "x": 0.5,
          "xanchor": "center",
          "xref": "paper",
          "y": 1,
          "yanchor": "bottom",
          "yref": "paper"
         },
         {
          "font": {
           "size": 16
          },
          "showarrow": false,
          "text": "Dual cycle",
          "x": 0.5,
          "xanchor": "center",
          "xref": "paper",
          "y": 0.375,
          "yanchor": "bottom",
          "yref": "paper"
         }
        ],
        "coloraxis": {
         "showscale": false
        },
        "height": 800,
        "showlegend": false,
        "template": {
         "data": {
          "bar": [
           {
            "error_x": {
             "color": "#2a3f5f"
            },
            "error_y": {
             "color": "#2a3f5f"
            },
            "marker": {
             "line": {
              "color": "white",
              "width": 0.5
             },
             "pattern": {
              "fillmode": "overlay",
              "size": 10,
              "solidity": 0.2
             }
            },
            "type": "bar"
           }
          ],
          "barpolar": [
           {
            "marker": {
             "line": {
              "color": "white",
              "width": 0.5
             },
             "pattern": {
              "fillmode": "overlay",
              "size": 10,
              "solidity": 0.2
             }
            },
            "type": "barpolar"
           }
          ],
          "carpet": [
           {
            "aaxis": {
             "endlinecolor": "#2a3f5f",
             "gridcolor": "#C8D4E3",
             "linecolor": "#C8D4E3",
             "minorgridcolor": "#C8D4E3",
             "startlinecolor": "#2a3f5f"
            },
            "baxis": {
             "endlinecolor": "#2a3f5f",
             "gridcolor": "#C8D4E3",
             "linecolor": "#C8D4E3",
             "minorgridcolor": "#C8D4E3",
             "startlinecolor": "#2a3f5f"
            },
            "type": "carpet"
           }
          ],
          "choropleth": [
           {
            "colorbar": {
             "outlinewidth": 0,
             "ticks": ""
            },
            "type": "choropleth"
           }
          ],
          "contour": [
           {
            "colorbar": {
             "outlinewidth": 0,
             "ticks": ""
            },
            "colorscale": [
             [
              0,
              "#0d0887"
             ],
             [
              0.1111111111111111,
              "#46039f"
             ],
             [
              0.2222222222222222,
              "#7201a8"
             ],
             [
              0.3333333333333333,
              "#9c179e"
             ],
             [
              0.4444444444444444,
              "#bd3786"
             ],
             [
              0.5555555555555556,
              "#d8576b"
             ],
             [
              0.6666666666666666,
              "#ed7953"
             ],
             [
              0.7777777777777778,
              "#fb9f3a"
             ],
             [
              0.8888888888888888,
              "#fdca26"
             ],
             [
              1,
              "#f0f921"
             ]
            ],
            "type": "contour"
           }
          ],
          "contourcarpet": [
           {
            "colorbar": {
             "outlinewidth": 0,
             "ticks": ""
            },
            "type": "contourcarpet"
           }
          ],
          "heatmap": [
           {
            "colorbar": {
             "outlinewidth": 0,
             "ticks": ""
            },
            "colorscale": [
             [
              0,
              "#0d0887"
             ],
             [
              0.1111111111111111,
              "#46039f"
             ],
             [
              0.2222222222222222,
              "#7201a8"
             ],
             [
              0.3333333333333333,
              "#9c179e"
             ],
             [
              0.4444444444444444,
              "#bd3786"
             ],
             [
              0.5555555555555556,
              "#d8576b"
             ],
             [
              0.6666666666666666,
              "#ed7953"
             ],
             [
              0.7777777777777778,
              "#fb9f3a"
             ],
             [
              0.8888888888888888,
              "#fdca26"
             ],
             [
              1,
              "#f0f921"
             ]
            ],
            "type": "heatmap"
           }
          ],
          "heatmapgl": [
           {
            "colorbar": {
             "outlinewidth": 0,
             "ticks": ""
            },
            "colorscale": [
             [
              0,
              "#0d0887"
             ],
             [
              0.1111111111111111,
              "#46039f"
             ],
             [
              0.2222222222222222,
              "#7201a8"
             ],
             [
              0.3333333333333333,
              "#9c179e"
             ],
             [
              0.4444444444444444,
              "#bd3786"
             ],
             [
              0.5555555555555556,
              "#d8576b"
             ],
             [
              0.6666666666666666,
              "#ed7953"
             ],
             [
              0.7777777777777778,
              "#fb9f3a"
             ],
             [
              0.8888888888888888,
              "#fdca26"
             ],
             [
              1,
              "#f0f921"
             ]
            ],
            "type": "heatmapgl"
           }
          ],
          "histogram": [
           {
            "marker": {
             "pattern": {
              "fillmode": "overlay",
              "size": 10,
              "solidity": 0.2
             }
            },
            "type": "histogram"
           }
          ],
          "histogram2d": [
           {
            "colorbar": {
             "outlinewidth": 0,
             "ticks": ""
            },
            "colorscale": [
             [
              0,
              "#0d0887"
             ],
             [
              0.1111111111111111,
              "#46039f"
             ],
             [
              0.2222222222222222,
              "#7201a8"
             ],
             [
              0.3333333333333333,
              "#9c179e"
             ],
             [
              0.4444444444444444,
              "#bd3786"
             ],
             [
              0.5555555555555556,
              "#d8576b"
             ],
             [
              0.6666666666666666,
              "#ed7953"
             ],
             [
              0.7777777777777778,
              "#fb9f3a"
             ],
             [
              0.8888888888888888,
              "#fdca26"
             ],
             [
              1,
              "#f0f921"
             ]
            ],
            "type": "histogram2d"
           }
          ],
          "histogram2dcontour": [
           {
            "colorbar": {
             "outlinewidth": 0,
             "ticks": ""
            },
            "colorscale": [
             [
              0,
              "#0d0887"
             ],
             [
              0.1111111111111111,
              "#46039f"
             ],
             [
              0.2222222222222222,
              "#7201a8"
             ],
             [
              0.3333333333333333,
              "#9c179e"
             ],
             [
              0.4444444444444444,
              "#bd3786"
             ],
             [
              0.5555555555555556,
              "#d8576b"
             ],
             [
              0.6666666666666666,
              "#ed7953"
             ],
             [
              0.7777777777777778,
              "#fb9f3a"
             ],
             [
              0.8888888888888888,
              "#fdca26"
             ],
             [
              1,
              "#f0f921"
             ]
            ],
            "type": "histogram2dcontour"
           }
          ],
          "mesh3d": [
           {
            "colorbar": {
             "outlinewidth": 0,
             "ticks": ""
            },
            "type": "mesh3d"
           }
          ],
          "parcoords": [
           {
            "line": {
             "colorbar": {
              "outlinewidth": 0,
              "ticks": ""
             }
            },
            "type": "parcoords"
           }
          ],
          "pie": [
           {
            "automargin": true,
            "type": "pie"
           }
          ],
          "scatter": [
           {
            "fillpattern": {
             "fillmode": "overlay",
             "size": 10,
             "solidity": 0.2
            },
            "type": "scatter"
           }
          ],
          "scatter3d": [
           {
            "line": {
             "colorbar": {
              "outlinewidth": 0,
              "ticks": ""
             }
            },
            "marker": {
             "colorbar": {
              "outlinewidth": 0,
              "ticks": ""
             }
            },
            "type": "scatter3d"
           }
          ],
          "scattercarpet": [
           {
            "marker": {
             "colorbar": {
              "outlinewidth": 0,
              "ticks": ""
             }
            },
            "type": "scattercarpet"
           }
          ],
          "scattergeo": [
           {
            "marker": {
             "colorbar": {
              "outlinewidth": 0,
              "ticks": ""
             }
            },
            "type": "scattergeo"
           }
          ],
          "scattergl": [
           {
            "marker": {
             "colorbar": {
              "outlinewidth": 0,
              "ticks": ""
             }
            },
            "type": "scattergl"
           }
          ],
          "scattermapbox": [
           {
            "marker": {
             "colorbar": {
              "outlinewidth": 0,
              "ticks": ""
             }
            },
            "type": "scattermapbox"
           }
          ],
          "scatterpolar": [
           {
            "marker": {
             "colorbar": {
              "outlinewidth": 0,
              "ticks": ""
             }
            },
            "type": "scatterpolar"
           }
          ],
          "scatterpolargl": [
           {
            "marker": {
             "colorbar": {
              "outlinewidth": 0,
              "ticks": ""
             }
            },
            "type": "scatterpolargl"
           }
          ],
          "scatterternary": [
           {
            "marker": {
             "colorbar": {
              "outlinewidth": 0,
              "ticks": ""
             }
            },
            "type": "scatterternary"
           }
          ],
          "surface": [
           {
            "colorbar": {
             "outlinewidth": 0,
             "ticks": ""
            },
            "colorscale": [
             [
              0,
              "#0d0887"
             ],
             [
              0.1111111111111111,
              "#46039f"
             ],
             [
              0.2222222222222222,
              "#7201a8"
             ],
             [
              0.3333333333333333,
              "#9c179e"
             ],
             [
              0.4444444444444444,
              "#bd3786"
             ],
             [
              0.5555555555555556,
              "#d8576b"
             ],
             [
              0.6666666666666666,
              "#ed7953"
             ],
             [
              0.7777777777777778,
              "#fb9f3a"
             ],
             [
              0.8888888888888888,
              "#fdca26"
             ],
             [
              1,
              "#f0f921"
             ]
            ],
            "type": "surface"
           }
          ],
          "table": [
           {
            "cells": {
             "fill": {
              "color": "#EBF0F8"
             },
             "line": {
              "color": "white"
             }
            },
            "header": {
             "fill": {
              "color": "#C8D4E3"
             },
             "line": {
              "color": "white"
             }
            },
            "type": "table"
           }
          ]
         },
         "layout": {
          "annotationdefaults": {
           "arrowcolor": "#2a3f5f",
           "arrowhead": 0,
           "arrowwidth": 1
          },
          "autotypenumbers": "strict",
          "coloraxis": {
           "colorbar": {
            "outlinewidth": 0,
            "ticks": ""
           }
          },
          "colorscale": {
           "diverging": [
            [
             0,
             "#8e0152"
            ],
            [
             0.1,
             "#c51b7d"
            ],
            [
             0.2,
             "#de77ae"
            ],
            [
             0.3,
             "#f1b6da"
            ],
            [
             0.4,
             "#fde0ef"
            ],
            [
             0.5,
             "#f7f7f7"
            ],
            [
             0.6,
             "#e6f5d0"
            ],
            [
             0.7,
             "#b8e186"
            ],
            [
             0.8,
             "#7fbc41"
            ],
            [
             0.9,
             "#4d9221"
            ],
            [
             1,
             "#276419"
            ]
           ],
           "sequential": [
            [
             0,
             "#0d0887"
            ],
            [
             0.1111111111111111,
             "#46039f"
            ],
            [
             0.2222222222222222,
             "#7201a8"
            ],
            [
             0.3333333333333333,
             "#9c179e"
            ],
            [
             0.4444444444444444,
             "#bd3786"
            ],
            [
             0.5555555555555556,
             "#d8576b"
            ],
            [
             0.6666666666666666,
             "#ed7953"
            ],
            [
             0.7777777777777778,
             "#fb9f3a"
            ],
            [
             0.8888888888888888,
             "#fdca26"
            ],
            [
             1,
             "#f0f921"
            ]
           ],
           "sequentialminus": [
            [
             0,
             "#0d0887"
            ],
            [
             0.1111111111111111,
             "#46039f"
            ],
            [
             0.2222222222222222,
             "#7201a8"
            ],
            [
             0.3333333333333333,
             "#9c179e"
            ],
            [
             0.4444444444444444,
             "#bd3786"
            ],
            [
             0.5555555555555556,
             "#d8576b"
            ],
            [
             0.6666666666666666,
             "#ed7953"
            ],
            [
             0.7777777777777778,
             "#fb9f3a"
            ],
            [
             0.8888888888888888,
             "#fdca26"
            ],
            [
             1,
             "#f0f921"
            ]
           ]
          },
          "colorway": [
           "#636efa",
           "#EF553B",
           "#00cc96",
           "#ab63fa",
           "#FFA15A",
           "#19d3f3",
           "#FF6692",
           "#B6E880",
           "#FF97FF",
           "#FECB52"
          ],
          "font": {
           "color": "#2a3f5f"
          },
          "geo": {
           "bgcolor": "white",
           "lakecolor": "white",
           "landcolor": "white",
           "showlakes": true,
           "showland": true,
           "subunitcolor": "#C8D4E3"
          },
          "hoverlabel": {
           "align": "left"
          },
          "hovermode": "closest",
          "mapbox": {
           "style": "light"
          },
          "paper_bgcolor": "white",
          "plot_bgcolor": "white",
          "polar": {
           "angularaxis": {
            "gridcolor": "#EBF0F8",
            "linecolor": "#EBF0F8",
            "ticks": ""
           },
           "bgcolor": "white",
           "radialaxis": {
            "gridcolor": "#EBF0F8",
            "linecolor": "#EBF0F8",
            "ticks": ""
           }
          },
          "scene": {
           "xaxis": {
            "backgroundcolor": "white",
            "gridcolor": "#DFE8F3",
            "gridwidth": 2,
            "linecolor": "#EBF0F8",
            "showbackground": true,
            "ticks": "",
            "zerolinecolor": "#EBF0F8"
           },
           "yaxis": {
            "backgroundcolor": "white",
            "gridcolor": "#DFE8F3",
            "gridwidth": 2,
            "linecolor": "#EBF0F8",
            "showbackground": true,
            "ticks": "",
            "zerolinecolor": "#EBF0F8"
           },
           "zaxis": {
            "backgroundcolor": "white",
            "gridcolor": "#DFE8F3",
            "gridwidth": 2,
            "linecolor": "#EBF0F8",
            "showbackground": true,
            "ticks": "",
            "zerolinecolor": "#EBF0F8"
           }
          },
          "shapedefaults": {
           "line": {
            "color": "#2a3f5f"
           }
          },
          "ternary": {
           "aaxis": {
            "gridcolor": "#DFE8F3",
            "linecolor": "#A2B1C6",
            "ticks": ""
           },
           "baxis": {
            "gridcolor": "#DFE8F3",
            "linecolor": "#A2B1C6",
            "ticks": ""
           },
           "bgcolor": "white",
           "caxis": {
            "gridcolor": "#DFE8F3",
            "linecolor": "#A2B1C6",
            "ticks": ""
           }
          },
          "title": {
           "x": 0.05
          },
          "xaxis": {
           "automargin": true,
           "gridcolor": "#EBF0F8",
           "linecolor": "#EBF0F8",
           "ticks": "",
           "title": {
            "standoff": 15
           },
           "zerolinecolor": "#EBF0F8",
           "zerolinewidth": 2
          },
          "yaxis": {
           "automargin": true,
           "gridcolor": "#EBF0F8",
           "linecolor": "#EBF0F8",
           "ticks": "",
           "title": {
            "standoff": 15
           },
           "zerolinecolor": "#EBF0F8",
           "zerolinewidth": 2
          }
         }
        },
        "title": {
         "text": "2022 potential revenue for a 1 hour battery"
        },
        "width": 1200,
        "xaxis": {
         "anchor": "y",
         "domain": [
          0,
          1
         ]
        },
        "xaxis2": {
         "anchor": "y2",
         "domain": [
          0,
          1
         ]
        },
        "yaxis": {
         "anchor": "x",
         "domain": [
          0.625,
          1
         ],
         "title": {
          "text": "k€/MW"
         }
        },
        "yaxis2": {
         "anchor": "x2",
         "domain": [
          0,
          0.375
         ],
         "title": {
          "text": "k€/MW"
         }
        }
       }
      }
     },
     "metadata": {},
     "output_type": "display_data"
    }
   ],
   "source": [
    "fig = make_subplots(\n",
    "    rows=2, cols=1,\n",
    "    shared_yaxes=True,\n",
    "    subplot_titles=('Single cycle', 'Dual cycle')\n",
    ")\n",
    "\n",
    "fig.add_trace(go.Bar(\n",
    "    x=cycle_1_hour_1_rev.index,\n",
    "    y=cycle_1_hour_1_rev.values/1000,\n",
    "    marker=dict(color=cycle_1_hour_1_rev.values, colorscale='solar')\n",
    "), row=1, col=1)\n",
    "\n",
    "fig.add_trace(go.Bar(\n",
    "    x=cycle_2_hour_1_rev.index,\n",
    "    y=cycle_2_hour_1_rev.values/1000,\n",
    "    marker=dict(color=cycle_2_hour_1_rev.values, colorscale='solar'),\n",
    "), row=2, col=1)\n",
    "\n",
    "fig.update_yaxes(title='k€/MW')\n",
    "fig.update_traces(texttemplate='%{value: .3r}', textangle=0)\n",
    "fig.update_coloraxes(showscale=False)\n",
    "fig.update_layout(\n",
    "    title='2022 potential revenue for a 1 hour battery',\n",
    "    yaxis_title='k€/MW',\n",
    "    showlegend=False,\n",
    "    template='plotly_white',\n",
    "    width=1200,\n",
    "    height=800\n",
    ")\n",
    "\n",
    "fig.write_image('../figures/1-hour-rev.jpeg', scale=5, engine='orca')\n",
    "fig"
   ]
  },
  {
   "cell_type": "code",
   "execution_count": 123,
   "metadata": {},
   "outputs": [
    {
     "data": {
      "application/vnd.plotly.v1+json": {
       "config": {
        "plotlyServerURL": "https://plot.ly"
       },
       "data": [
        {
         "marker": {
          "color": [
           109157.07,
           102684.69999999998,
           100491.01000000001,
           98996.23000000001,
           98037.08999999998,
           93562.84,
           90023.45999999999,
           89933.57,
           86047.09000000003,
           85339.85999999999,
           85073.47000000003,
           81789.70999999999,
           78160.32999999999,
           73885.56,
           71653.48999999999,
           71004.23000000001,
           41564.46000000002
          ],
          "colorscale": [
           [
            0,
            "rgb(51, 19, 23)"
           ],
           [
            0.09090909090909091,
            "rgb(79, 28, 33)"
           ],
           [
            0.18181818181818182,
            "rgb(108, 36, 36)"
           ],
           [
            0.2727272727272727,
            "rgb(135, 47, 32)"
           ],
           [
            0.36363636363636365,
            "rgb(157, 66, 25)"
           ],
           [
            0.45454545454545453,
            "rgb(174, 88, 20)"
           ],
           [
            0.5454545454545454,
            "rgb(188, 111, 19)"
           ],
           [
            0.6363636363636364,
            "rgb(199, 137, 22)"
           ],
           [
            0.7272727272727273,
            "rgb(209, 164, 32)"
           ],
           [
            0.8181818181818182,
            "rgb(217, 192, 44)"
           ],
           [
            0.9090909090909091,
            "rgb(222, 222, 59)"
           ],
           [
            1,
            "rgb(224, 253, 74)"
           ]
          ]
         },
         "name": "Single cycle (left)",
         "textangle": 0,
         "texttemplate": "%{value: .3r}",
         "type": "bar",
         "x": [
          "Hungary",
          "GB",
          "Slovenia",
          "Greece",
          "Sweden 4",
          "Netherlands",
          "France",
          "Czech",
          "Belgium",
          "Austria",
          "Italy",
          "Denmark 2",
          "De-Lu",
          "Denmark 1",
          "Poland",
          "Switzerland",
          "Norway 2"
         ],
         "xaxis": "x",
         "y": [
          109.15707,
          102.68469999999998,
          100.49101,
          98.99623000000001,
          98.03708999999998,
          93.56284,
          90.02345999999999,
          89.93357,
          86.04709000000003,
          85.33985999999999,
          85.07347000000003,
          81.78970999999999,
          78.16032999999999,
          73.88556,
          71.65348999999999,
          71.00423,
          41.56446000000002
         ],
         "yaxis": "y"
        },
        {
         "marker": {
          "color": [
           154473.68999999994,
           152026.51,
           148824.16999999998,
           144067.19,
           141544.86,
           141221.51999999996,
           140135.53999999992,
           136589.50999999995,
           136507.05000000005,
           132450.91000000003,
           129589.57999999996,
           124151.98999999993,
           122916.79000000004,
           120721.43,
           103073.66000000003,
           94818.98000000001,
           70328.01000000001
          ],
          "colorscale": [
           [
            0,
            "rgb(51, 19, 23)"
           ],
           [
            0.09090909090909091,
            "rgb(79, 28, 33)"
           ],
           [
            0.18181818181818182,
            "rgb(108, 36, 36)"
           ],
           [
            0.2727272727272727,
            "rgb(135, 47, 32)"
           ],
           [
            0.36363636363636365,
            "rgb(157, 66, 25)"
           ],
           [
            0.45454545454545453,
            "rgb(174, 88, 20)"
           ],
           [
            0.5454545454545454,
            "rgb(188, 111, 19)"
           ],
           [
            0.6363636363636364,
            "rgb(199, 137, 22)"
           ],
           [
            0.7272727272727273,
            "rgb(209, 164, 32)"
           ],
           [
            0.8181818181818182,
            "rgb(217, 192, 44)"
           ],
           [
            0.9090909090909091,
            "rgb(222, 222, 59)"
           ],
           [
            1,
            "rgb(224, 253, 74)"
           ]
          ]
         },
         "name": "Dual cycle (right)",
         "textangle": 0,
         "texttemplate": "%{value: .3r}",
         "type": "bar",
         "x": [
          "Netherlands",
          "Hungary",
          "Belgium",
          "Greece",
          "Czech",
          "Sweden 4",
          "Denmark 2",
          "GB",
          "Slovenia",
          "Denmark 1",
          "France",
          "De-Lu",
          "Italy",
          "Austria",
          "Switzerland",
          "Poland",
          "Norway 2"
         ],
         "xaxis": "x2",
         "y": [
          154.47368999999995,
          152.02651,
          148.82416999999998,
          144.06719,
          141.54486,
          141.22151999999997,
          140.13553999999993,
          136.58950999999996,
          136.50705000000005,
          132.45091000000002,
          129.58957999999996,
          124.15198999999993,
          122.91679000000003,
          120.72143,
          103.07366000000003,
          94.81898000000001,
          70.32801
         ],
         "yaxis": "y2"
        }
       ],
       "layout": {
        "annotations": [
         {
          "font": {
           "size": 16
          },
          "showarrow": false,
          "text": "Single cycle",
          "x": 0.5,
          "xanchor": "center",
          "xref": "paper",
          "y": 1,
          "yanchor": "bottom",
          "yref": "paper"
         },
         {
          "font": {
           "size": 16
          },
          "showarrow": false,
          "text": "Dual cycle",
          "x": 0.5,
          "xanchor": "center",
          "xref": "paper",
          "y": 0.375,
          "yanchor": "bottom",
          "yref": "paper"
         }
        ],
        "coloraxis": {
         "showscale": false
        },
        "height": 800,
        "showlegend": false,
        "template": {
         "data": {
          "bar": [
           {
            "error_x": {
             "color": "#2a3f5f"
            },
            "error_y": {
             "color": "#2a3f5f"
            },
            "marker": {
             "line": {
              "color": "white",
              "width": 0.5
             },
             "pattern": {
              "fillmode": "overlay",
              "size": 10,
              "solidity": 0.2
             }
            },
            "type": "bar"
           }
          ],
          "barpolar": [
           {
            "marker": {
             "line": {
              "color": "white",
              "width": 0.5
             },
             "pattern": {
              "fillmode": "overlay",
              "size": 10,
              "solidity": 0.2
             }
            },
            "type": "barpolar"
           }
          ],
          "carpet": [
           {
            "aaxis": {
             "endlinecolor": "#2a3f5f",
             "gridcolor": "#C8D4E3",
             "linecolor": "#C8D4E3",
             "minorgridcolor": "#C8D4E3",
             "startlinecolor": "#2a3f5f"
            },
            "baxis": {
             "endlinecolor": "#2a3f5f",
             "gridcolor": "#C8D4E3",
             "linecolor": "#C8D4E3",
             "minorgridcolor": "#C8D4E3",
             "startlinecolor": "#2a3f5f"
            },
            "type": "carpet"
           }
          ],
          "choropleth": [
           {
            "colorbar": {
             "outlinewidth": 0,
             "ticks": ""
            },
            "type": "choropleth"
           }
          ],
          "contour": [
           {
            "colorbar": {
             "outlinewidth": 0,
             "ticks": ""
            },
            "colorscale": [
             [
              0,
              "#0d0887"
             ],
             [
              0.1111111111111111,
              "#46039f"
             ],
             [
              0.2222222222222222,
              "#7201a8"
             ],
             [
              0.3333333333333333,
              "#9c179e"
             ],
             [
              0.4444444444444444,
              "#bd3786"
             ],
             [
              0.5555555555555556,
              "#d8576b"
             ],
             [
              0.6666666666666666,
              "#ed7953"
             ],
             [
              0.7777777777777778,
              "#fb9f3a"
             ],
             [
              0.8888888888888888,
              "#fdca26"
             ],
             [
              1,
              "#f0f921"
             ]
            ],
            "type": "contour"
           }
          ],
          "contourcarpet": [
           {
            "colorbar": {
             "outlinewidth": 0,
             "ticks": ""
            },
            "type": "contourcarpet"
           }
          ],
          "heatmap": [
           {
            "colorbar": {
             "outlinewidth": 0,
             "ticks": ""
            },
            "colorscale": [
             [
              0,
              "#0d0887"
             ],
             [
              0.1111111111111111,
              "#46039f"
             ],
             [
              0.2222222222222222,
              "#7201a8"
             ],
             [
              0.3333333333333333,
              "#9c179e"
             ],
             [
              0.4444444444444444,
              "#bd3786"
             ],
             [
              0.5555555555555556,
              "#d8576b"
             ],
             [
              0.6666666666666666,
              "#ed7953"
             ],
             [
              0.7777777777777778,
              "#fb9f3a"
             ],
             [
              0.8888888888888888,
              "#fdca26"
             ],
             [
              1,
              "#f0f921"
             ]
            ],
            "type": "heatmap"
           }
          ],
          "heatmapgl": [
           {
            "colorbar": {
             "outlinewidth": 0,
             "ticks": ""
            },
            "colorscale": [
             [
              0,
              "#0d0887"
             ],
             [
              0.1111111111111111,
              "#46039f"
             ],
             [
              0.2222222222222222,
              "#7201a8"
             ],
             [
              0.3333333333333333,
              "#9c179e"
             ],
             [
              0.4444444444444444,
              "#bd3786"
             ],
             [
              0.5555555555555556,
              "#d8576b"
             ],
             [
              0.6666666666666666,
              "#ed7953"
             ],
             [
              0.7777777777777778,
              "#fb9f3a"
             ],
             [
              0.8888888888888888,
              "#fdca26"
             ],
             [
              1,
              "#f0f921"
             ]
            ],
            "type": "heatmapgl"
           }
          ],
          "histogram": [
           {
            "marker": {
             "pattern": {
              "fillmode": "overlay",
              "size": 10,
              "solidity": 0.2
             }
            },
            "type": "histogram"
           }
          ],
          "histogram2d": [
           {
            "colorbar": {
             "outlinewidth": 0,
             "ticks": ""
            },
            "colorscale": [
             [
              0,
              "#0d0887"
             ],
             [
              0.1111111111111111,
              "#46039f"
             ],
             [
              0.2222222222222222,
              "#7201a8"
             ],
             [
              0.3333333333333333,
              "#9c179e"
             ],
             [
              0.4444444444444444,
              "#bd3786"
             ],
             [
              0.5555555555555556,
              "#d8576b"
             ],
             [
              0.6666666666666666,
              "#ed7953"
             ],
             [
              0.7777777777777778,
              "#fb9f3a"
             ],
             [
              0.8888888888888888,
              "#fdca26"
             ],
             [
              1,
              "#f0f921"
             ]
            ],
            "type": "histogram2d"
           }
          ],
          "histogram2dcontour": [
           {
            "colorbar": {
             "outlinewidth": 0,
             "ticks": ""
            },
            "colorscale": [
             [
              0,
              "#0d0887"
             ],
             [
              0.1111111111111111,
              "#46039f"
             ],
             [
              0.2222222222222222,
              "#7201a8"
             ],
             [
              0.3333333333333333,
              "#9c179e"
             ],
             [
              0.4444444444444444,
              "#bd3786"
             ],
             [
              0.5555555555555556,
              "#d8576b"
             ],
             [
              0.6666666666666666,
              "#ed7953"
             ],
             [
              0.7777777777777778,
              "#fb9f3a"
             ],
             [
              0.8888888888888888,
              "#fdca26"
             ],
             [
              1,
              "#f0f921"
             ]
            ],
            "type": "histogram2dcontour"
           }
          ],
          "mesh3d": [
           {
            "colorbar": {
             "outlinewidth": 0,
             "ticks": ""
            },
            "type": "mesh3d"
           }
          ],
          "parcoords": [
           {
            "line": {
             "colorbar": {
              "outlinewidth": 0,
              "ticks": ""
             }
            },
            "type": "parcoords"
           }
          ],
          "pie": [
           {
            "automargin": true,
            "type": "pie"
           }
          ],
          "scatter": [
           {
            "fillpattern": {
             "fillmode": "overlay",
             "size": 10,
             "solidity": 0.2
            },
            "type": "scatter"
           }
          ],
          "scatter3d": [
           {
            "line": {
             "colorbar": {
              "outlinewidth": 0,
              "ticks": ""
             }
            },
            "marker": {
             "colorbar": {
              "outlinewidth": 0,
              "ticks": ""
             }
            },
            "type": "scatter3d"
           }
          ],
          "scattercarpet": [
           {
            "marker": {
             "colorbar": {
              "outlinewidth": 0,
              "ticks": ""
             }
            },
            "type": "scattercarpet"
           }
          ],
          "scattergeo": [
           {
            "marker": {
             "colorbar": {
              "outlinewidth": 0,
              "ticks": ""
             }
            },
            "type": "scattergeo"
           }
          ],
          "scattergl": [
           {
            "marker": {
             "colorbar": {
              "outlinewidth": 0,
              "ticks": ""
             }
            },
            "type": "scattergl"
           }
          ],
          "scattermapbox": [
           {
            "marker": {
             "colorbar": {
              "outlinewidth": 0,
              "ticks": ""
             }
            },
            "type": "scattermapbox"
           }
          ],
          "scatterpolar": [
           {
            "marker": {
             "colorbar": {
              "outlinewidth": 0,
              "ticks": ""
             }
            },
            "type": "scatterpolar"
           }
          ],
          "scatterpolargl": [
           {
            "marker": {
             "colorbar": {
              "outlinewidth": 0,
              "ticks": ""
             }
            },
            "type": "scatterpolargl"
           }
          ],
          "scatterternary": [
           {
            "marker": {
             "colorbar": {
              "outlinewidth": 0,
              "ticks": ""
             }
            },
            "type": "scatterternary"
           }
          ],
          "surface": [
           {
            "colorbar": {
             "outlinewidth": 0,
             "ticks": ""
            },
            "colorscale": [
             [
              0,
              "#0d0887"
             ],
             [
              0.1111111111111111,
              "#46039f"
             ],
             [
              0.2222222222222222,
              "#7201a8"
             ],
             [
              0.3333333333333333,
              "#9c179e"
             ],
             [
              0.4444444444444444,
              "#bd3786"
             ],
             [
              0.5555555555555556,
              "#d8576b"
             ],
             [
              0.6666666666666666,
              "#ed7953"
             ],
             [
              0.7777777777777778,
              "#fb9f3a"
             ],
             [
              0.8888888888888888,
              "#fdca26"
             ],
             [
              1,
              "#f0f921"
             ]
            ],
            "type": "surface"
           }
          ],
          "table": [
           {
            "cells": {
             "fill": {
              "color": "#EBF0F8"
             },
             "line": {
              "color": "white"
             }
            },
            "header": {
             "fill": {
              "color": "#C8D4E3"
             },
             "line": {
              "color": "white"
             }
            },
            "type": "table"
           }
          ]
         },
         "layout": {
          "annotationdefaults": {
           "arrowcolor": "#2a3f5f",
           "arrowhead": 0,
           "arrowwidth": 1
          },
          "autotypenumbers": "strict",
          "coloraxis": {
           "colorbar": {
            "outlinewidth": 0,
            "ticks": ""
           }
          },
          "colorscale": {
           "diverging": [
            [
             0,
             "#8e0152"
            ],
            [
             0.1,
             "#c51b7d"
            ],
            [
             0.2,
             "#de77ae"
            ],
            [
             0.3,
             "#f1b6da"
            ],
            [
             0.4,
             "#fde0ef"
            ],
            [
             0.5,
             "#f7f7f7"
            ],
            [
             0.6,
             "#e6f5d0"
            ],
            [
             0.7,
             "#b8e186"
            ],
            [
             0.8,
             "#7fbc41"
            ],
            [
             0.9,
             "#4d9221"
            ],
            [
             1,
             "#276419"
            ]
           ],
           "sequential": [
            [
             0,
             "#0d0887"
            ],
            [
             0.1111111111111111,
             "#46039f"
            ],
            [
             0.2222222222222222,
             "#7201a8"
            ],
            [
             0.3333333333333333,
             "#9c179e"
            ],
            [
             0.4444444444444444,
             "#bd3786"
            ],
            [
             0.5555555555555556,
             "#d8576b"
            ],
            [
             0.6666666666666666,
             "#ed7953"
            ],
            [
             0.7777777777777778,
             "#fb9f3a"
            ],
            [
             0.8888888888888888,
             "#fdca26"
            ],
            [
             1,
             "#f0f921"
            ]
           ],
           "sequentialminus": [
            [
             0,
             "#0d0887"
            ],
            [
             0.1111111111111111,
             "#46039f"
            ],
            [
             0.2222222222222222,
             "#7201a8"
            ],
            [
             0.3333333333333333,
             "#9c179e"
            ],
            [
             0.4444444444444444,
             "#bd3786"
            ],
            [
             0.5555555555555556,
             "#d8576b"
            ],
            [
             0.6666666666666666,
             "#ed7953"
            ],
            [
             0.7777777777777778,
             "#fb9f3a"
            ],
            [
             0.8888888888888888,
             "#fdca26"
            ],
            [
             1,
             "#f0f921"
            ]
           ]
          },
          "colorway": [
           "#636efa",
           "#EF553B",
           "#00cc96",
           "#ab63fa",
           "#FFA15A",
           "#19d3f3",
           "#FF6692",
           "#B6E880",
           "#FF97FF",
           "#FECB52"
          ],
          "font": {
           "color": "#2a3f5f"
          },
          "geo": {
           "bgcolor": "white",
           "lakecolor": "white",
           "landcolor": "white",
           "showlakes": true,
           "showland": true,
           "subunitcolor": "#C8D4E3"
          },
          "hoverlabel": {
           "align": "left"
          },
          "hovermode": "closest",
          "mapbox": {
           "style": "light"
          },
          "paper_bgcolor": "white",
          "plot_bgcolor": "white",
          "polar": {
           "angularaxis": {
            "gridcolor": "#EBF0F8",
            "linecolor": "#EBF0F8",
            "ticks": ""
           },
           "bgcolor": "white",
           "radialaxis": {
            "gridcolor": "#EBF0F8",
            "linecolor": "#EBF0F8",
            "ticks": ""
           }
          },
          "scene": {
           "xaxis": {
            "backgroundcolor": "white",
            "gridcolor": "#DFE8F3",
            "gridwidth": 2,
            "linecolor": "#EBF0F8",
            "showbackground": true,
            "ticks": "",
            "zerolinecolor": "#EBF0F8"
           },
           "yaxis": {
            "backgroundcolor": "white",
            "gridcolor": "#DFE8F3",
            "gridwidth": 2,
            "linecolor": "#EBF0F8",
            "showbackground": true,
            "ticks": "",
            "zerolinecolor": "#EBF0F8"
           },
           "zaxis": {
            "backgroundcolor": "white",
            "gridcolor": "#DFE8F3",
            "gridwidth": 2,
            "linecolor": "#EBF0F8",
            "showbackground": true,
            "ticks": "",
            "zerolinecolor": "#EBF0F8"
           }
          },
          "shapedefaults": {
           "line": {
            "color": "#2a3f5f"
           }
          },
          "ternary": {
           "aaxis": {
            "gridcolor": "#DFE8F3",
            "linecolor": "#A2B1C6",
            "ticks": ""
           },
           "baxis": {
            "gridcolor": "#DFE8F3",
            "linecolor": "#A2B1C6",
            "ticks": ""
           },
           "bgcolor": "white",
           "caxis": {
            "gridcolor": "#DFE8F3",
            "linecolor": "#A2B1C6",
            "ticks": ""
           }
          },
          "title": {
           "x": 0.05
          },
          "xaxis": {
           "automargin": true,
           "gridcolor": "#EBF0F8",
           "linecolor": "#EBF0F8",
           "ticks": "",
           "title": {
            "standoff": 15
           },
           "zerolinecolor": "#EBF0F8",
           "zerolinewidth": 2
          },
          "yaxis": {
           "automargin": true,
           "gridcolor": "#EBF0F8",
           "linecolor": "#EBF0F8",
           "ticks": "",
           "title": {
            "standoff": 15
           },
           "zerolinecolor": "#EBF0F8",
           "zerolinewidth": 2
          }
         }
        },
        "title": {
         "text": "2022 revenue for a 2 hour battery with preset flow hours"
        },
        "width": 1200,
        "xaxis": {
         "anchor": "y",
         "domain": [
          0,
          1
         ]
        },
        "xaxis2": {
         "anchor": "y2",
         "domain": [
          0,
          1
         ]
        },
        "yaxis": {
         "anchor": "x",
         "domain": [
          0.625,
          1
         ],
         "title": {
          "text": "k€/MW"
         }
        },
        "yaxis2": {
         "anchor": "x2",
         "domain": [
          0,
          0.375
         ],
         "title": {
          "text": "k€/MW"
         }
        }
       }
      }
     },
     "metadata": {},
     "output_type": "display_data"
    }
   ],
   "source": [
    "fig = make_subplots(\n",
    "    rows=2, cols=1,\n",
    "    shared_yaxes=True,\n",
    "    subplot_titles=('Single cycle', 'Dual cycle')\n",
    ")\n",
    "\n",
    "fig.add_trace(go.Bar(\n",
    "    x=cycle_1_hour_2_rev.index,\n",
    "    y=cycle_1_hour_2_rev.values/1000,\n",
    "    marker=dict(color=cycle_1_hour_2_rev.values, colorscale='solar'),\n",
    "    name='Single cycle (left)'\n",
    "), row=1, col=1)\n",
    "\n",
    "fig.add_trace(go.Bar(\n",
    "    x=cycle_2_hour_2_rev.index,\n",
    "    y=cycle_2_hour_2_rev.values.reshape(-1)/1000,\n",
    "    marker=dict(color=cycle_2_hour_2_rev.values.reshape(-1), colorscale='solar'),\n",
    "    name='Dual cycle (right)'\n",
    "), row=2, col=1)\n",
    "\n",
    "fig.update_yaxes(title='k€/MW')\n",
    "fig.update_traces(texttemplate='%{value: .3r}', textangle=0)\n",
    "fig.update_coloraxes(showscale=False)\n",
    "fig.update_layout(\n",
    "    title='2022 revenue for a 2 hour battery with preset flow hours',\n",
    "    showlegend=False,\n",
    "    template='plotly_white',\n",
    "    width=1200,\n",
    "    height=800\n",
    ")\n",
    "\n",
    "fig.write_image('../figures/2-hour-rev.jpeg', scale=5, engine='orca')\n",
    "fig"
   ]
  }
 ],
 "metadata": {
  "kernelspec": {
   "display_name": "Python 3.9.13 ('base')",
   "language": "python",
   "name": "python3"
  },
  "language_info": {
   "codemirror_mode": {
    "name": "ipython",
    "version": 3
   },
   "file_extension": ".py",
   "mimetype": "text/x-python",
   "name": "python",
   "nbconvert_exporter": "python",
   "pygments_lexer": "ipython3",
   "version": "3.9.13"
  },
  "orig_nbformat": 4,
  "vscode": {
   "interpreter": {
    "hash": "0bcf432da8243f285952ce707b599979cf2470b8ebb1a85ff9103c3a3adc60f6"
   }
  }
 },
 "nbformat": 4,
 "nbformat_minor": 2
}
