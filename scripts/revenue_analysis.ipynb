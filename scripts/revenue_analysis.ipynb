{
 "cells": [
  {
   "cell_type": "markdown",
   "metadata": {},
   "source": [
    "# Calculating the potential revenue of each market"
   ]
  },
  {
   "cell_type": "code",
   "execution_count": 237,
   "metadata": {},
   "outputs": [],
   "source": [
    "import pandas as pd\n",
    "import plotly.express as px\n",
    "import plotly.graph_objects as go\n",
    "from plotly.subplots import make_subplots"
   ]
  },
  {
   "cell_type": "code",
   "execution_count": 238,
   "metadata": {},
   "outputs": [
    {
     "data": {
      "text/html": [
       "<div>\n",
       "<style scoped>\n",
       "    .dataframe tbody tr th:only-of-type {\n",
       "        vertical-align: middle;\n",
       "    }\n",
       "\n",
       "    .dataframe tbody tr th {\n",
       "        vertical-align: top;\n",
       "    }\n",
       "\n",
       "    .dataframe thead th {\n",
       "        text-align: right;\n",
       "    }\n",
       "</style>\n",
       "<table border=\"1\" class=\"dataframe\">\n",
       "  <thead>\n",
       "    <tr style=\"text-align: right;\">\n",
       "      <th></th>\n",
       "      <th>Austria</th>\n",
       "      <th>Belgium</th>\n",
       "      <th>Croatia</th>\n",
       "      <th>Czech</th>\n",
       "      <th>De-Lu</th>\n",
       "      <th>Denmark 1</th>\n",
       "      <th>Denmark 2</th>\n",
       "      <th>Estonia</th>\n",
       "      <th>Finland</th>\n",
       "      <th>France</th>\n",
       "      <th>...</th>\n",
       "      <th>Slovenia</th>\n",
       "      <th>Spain</th>\n",
       "      <th>Sweden 1</th>\n",
       "      <th>Sweden 2</th>\n",
       "      <th>Sweden 3</th>\n",
       "      <th>Sweden 4</th>\n",
       "      <th>Switzerland</th>\n",
       "      <th>date</th>\n",
       "      <th>datetime</th>\n",
       "      <th>hour</th>\n",
       "    </tr>\n",
       "  </thead>\n",
       "  <tbody>\n",
       "    <tr>\n",
       "      <th>0</th>\n",
       "      <td>61.84</td>\n",
       "      <td>82.02</td>\n",
       "      <td>61.84</td>\n",
       "      <td>50.05</td>\n",
       "      <td>78.44</td>\n",
       "      <td>50.05</td>\n",
       "      <td>46.60</td>\n",
       "      <td>50.05</td>\n",
       "      <td>46.60</td>\n",
       "      <td>89.06</td>\n",
       "      <td>...</td>\n",
       "      <td>61.84</td>\n",
       "      <td>145.86</td>\n",
       "      <td>46.60</td>\n",
       "      <td>46.60</td>\n",
       "      <td>46.60</td>\n",
       "      <td>46.60</td>\n",
       "      <td>119.97</td>\n",
       "      <td>2022-01-01</td>\n",
       "      <td>2022-01-01 00:00:00</td>\n",
       "      <td>1</td>\n",
       "    </tr>\n",
       "    <tr>\n",
       "      <th>1</th>\n",
       "      <td>51.44</td>\n",
       "      <td>67.07</td>\n",
       "      <td>51.44</td>\n",
       "      <td>41.33</td>\n",
       "      <td>69.75</td>\n",
       "      <td>41.33</td>\n",
       "      <td>41.33</td>\n",
       "      <td>41.33</td>\n",
       "      <td>41.33</td>\n",
       "      <td>78.48</td>\n",
       "      <td>...</td>\n",
       "      <td>51.44</td>\n",
       "      <td>114.90</td>\n",
       "      <td>41.33</td>\n",
       "      <td>41.33</td>\n",
       "      <td>41.33</td>\n",
       "      <td>41.33</td>\n",
       "      <td>101.54</td>\n",
       "      <td>2022-01-01</td>\n",
       "      <td>2022-01-01 01:00:00</td>\n",
       "      <td>2</td>\n",
       "    </tr>\n",
       "    <tr>\n",
       "      <th>2</th>\n",
       "      <td>55.91</td>\n",
       "      <td>75.11</td>\n",
       "      <td>55.91</td>\n",
       "      <td>43.22</td>\n",
       "      <td>68.04</td>\n",
       "      <td>43.22</td>\n",
       "      <td>42.18</td>\n",
       "      <td>42.18</td>\n",
       "      <td>42.18</td>\n",
       "      <td>85.16</td>\n",
       "      <td>...</td>\n",
       "      <td>55.91</td>\n",
       "      <td>113.87</td>\n",
       "      <td>42.18</td>\n",
       "      <td>42.18</td>\n",
       "      <td>42.18</td>\n",
       "      <td>42.18</td>\n",
       "      <td>52.13</td>\n",
       "      <td>2022-01-01</td>\n",
       "      <td>2022-01-01 02:00:00</td>\n",
       "      <td>3</td>\n",
       "    </tr>\n",
       "    <tr>\n",
       "      <th>3</th>\n",
       "      <td>46.94</td>\n",
       "      <td>50.91</td>\n",
       "      <td>46.94</td>\n",
       "      <td>45.46</td>\n",
       "      <td>51.27</td>\n",
       "      <td>45.46</td>\n",
       "      <td>44.37</td>\n",
       "      <td>44.37</td>\n",
       "      <td>44.37</td>\n",
       "      <td>50.00</td>\n",
       "      <td>...</td>\n",
       "      <td>46.94</td>\n",
       "      <td>97.80</td>\n",
       "      <td>44.37</td>\n",
       "      <td>44.37</td>\n",
       "      <td>44.37</td>\n",
       "      <td>44.37</td>\n",
       "      <td>20.78</td>\n",
       "      <td>2022-01-01</td>\n",
       "      <td>2022-01-01 03:00:00</td>\n",
       "      <td>4</td>\n",
       "    </tr>\n",
       "    <tr>\n",
       "      <th>4</th>\n",
       "      <td>37.67</td>\n",
       "      <td>37.67</td>\n",
       "      <td>37.67</td>\n",
       "      <td>37.67</td>\n",
       "      <td>42.46</td>\n",
       "      <td>37.67</td>\n",
       "      <td>37.67</td>\n",
       "      <td>37.67</td>\n",
       "      <td>37.67</td>\n",
       "      <td>37.67</td>\n",
       "      <td>...</td>\n",
       "      <td>37.67</td>\n",
       "      <td>97.80</td>\n",
       "      <td>37.67</td>\n",
       "      <td>37.67</td>\n",
       "      <td>37.67</td>\n",
       "      <td>37.67</td>\n",
       "      <td>15.66</td>\n",
       "      <td>2022-01-01</td>\n",
       "      <td>2022-01-01 04:00:00</td>\n",
       "      <td>5</td>\n",
       "    </tr>\n",
       "  </tbody>\n",
       "</table>\n",
       "<p>5 rows × 38 columns</p>\n",
       "</div>"
      ],
      "text/plain": [
       "   Austria  Belgium  Croatia  Czech  De-Lu  Denmark 1  Denmark 2  Estonia  \\\n",
       "0    61.84    82.02    61.84  50.05  78.44      50.05      46.60    50.05   \n",
       "1    51.44    67.07    51.44  41.33  69.75      41.33      41.33    41.33   \n",
       "2    55.91    75.11    55.91  43.22  68.04      43.22      42.18    42.18   \n",
       "3    46.94    50.91    46.94  45.46  51.27      45.46      44.37    44.37   \n",
       "4    37.67    37.67    37.67  37.67  42.46      37.67      37.67    37.67   \n",
       "\n",
       "   Finland  France  ...  Slovenia   Spain  Sweden 1  Sweden 2  Sweden 3  \\\n",
       "0    46.60   89.06  ...     61.84  145.86     46.60     46.60     46.60   \n",
       "1    41.33   78.48  ...     51.44  114.90     41.33     41.33     41.33   \n",
       "2    42.18   85.16  ...     55.91  113.87     42.18     42.18     42.18   \n",
       "3    44.37   50.00  ...     46.94   97.80     44.37     44.37     44.37   \n",
       "4    37.67   37.67  ...     37.67   97.80     37.67     37.67     37.67   \n",
       "\n",
       "   Sweden 4  Switzerland       date             datetime  hour  \n",
       "0     46.60       119.97 2022-01-01  2022-01-01 00:00:00     1  \n",
       "1     41.33       101.54 2022-01-01  2022-01-01 01:00:00     2  \n",
       "2     42.18        52.13 2022-01-01  2022-01-01 02:00:00     3  \n",
       "3     44.37        20.78 2022-01-01  2022-01-01 03:00:00     4  \n",
       "4     37.67        15.66 2022-01-01  2022-01-01 04:00:00     5  \n",
       "\n",
       "[5 rows x 38 columns]"
      ]
     },
     "execution_count": 238,
     "metadata": {},
     "output_type": "execute_result"
    }
   ],
   "source": [
    "df = pd.read_csv('../data/cleaned_data/eu_da_prices_clean.csv', index_col=0)\n",
    "df.date = pd.to_datetime(df.date)\n",
    "df = df.loc[df.date >= pd.to_datetime('2022-01-01')].reset_index(drop=True)\n",
    "df.head()"
   ]
  },
  {
   "cell_type": "markdown",
   "metadata": {},
   "source": [
    "### Single cycle 1 hour"
   ]
  },
  {
   "cell_type": "code",
   "execution_count": 239,
   "metadata": {},
   "outputs": [
    {
     "data": {
      "text/html": [
       "<div>\n",
       "<style scoped>\n",
       "    .dataframe tbody tr th:only-of-type {\n",
       "        vertical-align: middle;\n",
       "    }\n",
       "\n",
       "    .dataframe tbody tr th {\n",
       "        vertical-align: top;\n",
       "    }\n",
       "\n",
       "    .dataframe thead th {\n",
       "        text-align: right;\n",
       "    }\n",
       "</style>\n",
       "<table border=\"1\" class=\"dataframe\">\n",
       "  <thead>\n",
       "    <tr style=\"text-align: right;\">\n",
       "      <th></th>\n",
       "      <th>Austria</th>\n",
       "      <th>Belgium</th>\n",
       "      <th>Croatia</th>\n",
       "      <th>Czech</th>\n",
       "      <th>De-Lu</th>\n",
       "      <th>Denmark 1</th>\n",
       "      <th>Denmark 2</th>\n",
       "      <th>Estonia</th>\n",
       "      <th>Finland</th>\n",
       "      <th>France</th>\n",
       "      <th>...</th>\n",
       "      <th>Romania</th>\n",
       "      <th>Serbia</th>\n",
       "      <th>Slovenia</th>\n",
       "      <th>Spain</th>\n",
       "      <th>Sweden 1</th>\n",
       "      <th>Sweden 2</th>\n",
       "      <th>Sweden 3</th>\n",
       "      <th>Sweden 4</th>\n",
       "      <th>Switzerland</th>\n",
       "      <th>date</th>\n",
       "    </tr>\n",
       "    <tr>\n",
       "      <th>date</th>\n",
       "      <th></th>\n",
       "      <th></th>\n",
       "      <th></th>\n",
       "      <th></th>\n",
       "      <th></th>\n",
       "      <th></th>\n",
       "      <th></th>\n",
       "      <th></th>\n",
       "      <th></th>\n",
       "      <th></th>\n",
       "      <th></th>\n",
       "      <th></th>\n",
       "      <th></th>\n",
       "      <th></th>\n",
       "      <th></th>\n",
       "      <th></th>\n",
       "      <th></th>\n",
       "      <th></th>\n",
       "      <th></th>\n",
       "      <th></th>\n",
       "      <th></th>\n",
       "    </tr>\n",
       "  </thead>\n",
       "  <tbody>\n",
       "    <tr>\n",
       "      <th>2022-01-01</th>\n",
       "      <td>112.30</td>\n",
       "      <td>112.30</td>\n",
       "      <td>112.30</td>\n",
       "      <td>112.30</td>\n",
       "      <td>107.41</td>\n",
       "      <td>112.30</td>\n",
       "      <td>112.30</td>\n",
       "      <td>112.30</td>\n",
       "      <td>112.30</td>\n",
       "      <td>112.30</td>\n",
       "      <td>...</td>\n",
       "      <td>99.27</td>\n",
       "      <td>86.97</td>\n",
       "      <td>112.30</td>\n",
       "      <td>120.76</td>\n",
       "      <td>13.25</td>\n",
       "      <td>13.25</td>\n",
       "      <td>112.30</td>\n",
       "      <td>112.30</td>\n",
       "      <td>133.23</td>\n",
       "      <td>0 days</td>\n",
       "    </tr>\n",
       "    <tr>\n",
       "      <th>2022-01-02</th>\n",
       "      <td>65.84</td>\n",
       "      <td>40.53</td>\n",
       "      <td>65.84</td>\n",
       "      <td>65.84</td>\n",
       "      <td>56.86</td>\n",
       "      <td>65.84</td>\n",
       "      <td>65.84</td>\n",
       "      <td>65.84</td>\n",
       "      <td>65.84</td>\n",
       "      <td>40.53</td>\n",
       "      <td>...</td>\n",
       "      <td>235.30</td>\n",
       "      <td>117.22</td>\n",
       "      <td>65.84</td>\n",
       "      <td>105.40</td>\n",
       "      <td>21.89</td>\n",
       "      <td>21.89</td>\n",
       "      <td>65.84</td>\n",
       "      <td>65.84</td>\n",
       "      <td>110.41</td>\n",
       "      <td>0 days</td>\n",
       "    </tr>\n",
       "    <tr>\n",
       "      <th>2022-01-03</th>\n",
       "      <td>141.42</td>\n",
       "      <td>163.95</td>\n",
       "      <td>285.29</td>\n",
       "      <td>141.42</td>\n",
       "      <td>137.56</td>\n",
       "      <td>139.47</td>\n",
       "      <td>130.33</td>\n",
       "      <td>128.67</td>\n",
       "      <td>119.75</td>\n",
       "      <td>180.30</td>\n",
       "      <td>...</td>\n",
       "      <td>173.00</td>\n",
       "      <td>192.43</td>\n",
       "      <td>285.29</td>\n",
       "      <td>88.90</td>\n",
       "      <td>28.85</td>\n",
       "      <td>28.85</td>\n",
       "      <td>119.75</td>\n",
       "      <td>119.75</td>\n",
       "      <td>223.51</td>\n",
       "      <td>0 days</td>\n",
       "    </tr>\n",
       "    <tr>\n",
       "      <th>2022-01-04</th>\n",
       "      <td>90.53</td>\n",
       "      <td>91.90</td>\n",
       "      <td>90.53</td>\n",
       "      <td>92.44</td>\n",
       "      <td>93.44</td>\n",
       "      <td>98.53</td>\n",
       "      <td>148.78</td>\n",
       "      <td>99.58</td>\n",
       "      <td>131.22</td>\n",
       "      <td>85.00</td>\n",
       "      <td>...</td>\n",
       "      <td>190.32</td>\n",
       "      <td>155.45</td>\n",
       "      <td>90.53</td>\n",
       "      <td>85.00</td>\n",
       "      <td>12.41</td>\n",
       "      <td>12.41</td>\n",
       "      <td>131.22</td>\n",
       "      <td>148.78</td>\n",
       "      <td>115.05</td>\n",
       "      <td>0 days</td>\n",
       "    </tr>\n",
       "    <tr>\n",
       "      <th>2022-01-05</th>\n",
       "      <td>104.18</td>\n",
       "      <td>165.17</td>\n",
       "      <td>104.18</td>\n",
       "      <td>94.62</td>\n",
       "      <td>113.59</td>\n",
       "      <td>98.56</td>\n",
       "      <td>98.56</td>\n",
       "      <td>84.63</td>\n",
       "      <td>84.63</td>\n",
       "      <td>189.62</td>\n",
       "      <td>...</td>\n",
       "      <td>126.09</td>\n",
       "      <td>86.43</td>\n",
       "      <td>104.18</td>\n",
       "      <td>174.96</td>\n",
       "      <td>27.12</td>\n",
       "      <td>27.12</td>\n",
       "      <td>98.56</td>\n",
       "      <td>98.56</td>\n",
       "      <td>151.03</td>\n",
       "      <td>0 days</td>\n",
       "    </tr>\n",
       "  </tbody>\n",
       "</table>\n",
       "<p>5 rows × 36 columns</p>\n",
       "</div>"
      ],
      "text/plain": [
       "            Austria  Belgium  Croatia   Czech   De-Lu  Denmark 1  Denmark 2  \\\n",
       "date                                                                          \n",
       "2022-01-01   112.30   112.30   112.30  112.30  107.41     112.30     112.30   \n",
       "2022-01-02    65.84    40.53    65.84   65.84   56.86      65.84      65.84   \n",
       "2022-01-03   141.42   163.95   285.29  141.42  137.56     139.47     130.33   \n",
       "2022-01-04    90.53    91.90    90.53   92.44   93.44      98.53     148.78   \n",
       "2022-01-05   104.18   165.17   104.18   94.62  113.59      98.56      98.56   \n",
       "\n",
       "            Estonia  Finland  France  ...  Romania  Serbia  Slovenia   Spain  \\\n",
       "date                                  ...                                      \n",
       "2022-01-01   112.30   112.30  112.30  ...    99.27   86.97    112.30  120.76   \n",
       "2022-01-02    65.84    65.84   40.53  ...   235.30  117.22     65.84  105.40   \n",
       "2022-01-03   128.67   119.75  180.30  ...   173.00  192.43    285.29   88.90   \n",
       "2022-01-04    99.58   131.22   85.00  ...   190.32  155.45     90.53   85.00   \n",
       "2022-01-05    84.63    84.63  189.62  ...   126.09   86.43    104.18  174.96   \n",
       "\n",
       "            Sweden 1  Sweden 2  Sweden 3  Sweden 4  Switzerland   date  \n",
       "date                                                                    \n",
       "2022-01-01     13.25     13.25    112.30    112.30       133.23 0 days  \n",
       "2022-01-02     21.89     21.89     65.84     65.84       110.41 0 days  \n",
       "2022-01-03     28.85     28.85    119.75    119.75       223.51 0 days  \n",
       "2022-01-04     12.41     12.41    131.22    148.78       115.05 0 days  \n",
       "2022-01-05     27.12     27.12     98.56     98.56       151.03 0 days  \n",
       "\n",
       "[5 rows x 36 columns]"
      ]
     },
     "execution_count": 239,
     "metadata": {},
     "output_type": "execute_result"
    }
   ],
   "source": [
    "cycle_1_hour_1 = df.drop(['hour', 'datetime'], axis=1).groupby('date').apply(lambda x: x.max() - x.min())\n",
    "cycle_1_hour_1.head()"
   ]
  },
  {
   "cell_type": "code",
   "execution_count": 240,
   "metadata": {},
   "outputs": [
    {
     "data": {
      "text/plain": [
       "Estonia        89550.03\n",
       "Lithuania      86886.37\n",
       "Latvia         86331.48\n",
       "Romania        85421.37\n",
       "Greece         76838.35\n",
       "Netherlands    74865.43\n",
       "Hungary        74368.99\n",
       "Sweden 4       73867.40\n",
       "Finland        73432.29\n",
       "Belgium        72030.46\n",
       "Denmark 2      70884.84\n",
       "Croatia        70608.34\n",
       "Germany        68252.06\n",
       "Sweden 3       67474.05\n",
       "Slovenia       67368.71\n",
       "Czech          66943.99\n",
       "GB             65669.67\n",
       "Denmark 1      65157.15\n",
       "France         63843.47\n",
       "Serbia         63552.16\n",
       "Austria        59681.02\n",
       "Italy          58954.95\n",
       "De-Lu          54973.29\n",
       "Poland         52234.22\n",
       "Ireland        50453.39\n",
       "Switzerland    46144.21\n",
       "Norway 2       38806.75\n",
       "Spain          34469.21\n",
       "Portugal       33851.06\n",
       "Norway 1       31746.80\n",
       "Norway 5       30420.15\n",
       "Sweden 2       23643.61\n",
       "Sweden 1       21563.66\n",
       "Norway 3       14615.68\n",
       "Norway 4        8066.02\n",
       "dtype: float64"
      ]
     },
     "execution_count": 240,
     "metadata": {},
     "output_type": "execute_result"
    }
   ],
   "source": [
    "cycle_1_hour_1_rev = cycle_1_hour_1.sum()\n",
    "cycle_1_hour_1_rev = cycle_1_hour_1_rev.drop('date').astype(float).sort_values(ascending=False)\n",
    "cycle_1_hour_1_rev"
   ]
  },
  {
   "cell_type": "markdown",
   "metadata": {},
   "source": [
    "### Dual cycle 1 hour"
   ]
  },
  {
   "cell_type": "code",
   "execution_count": 241,
   "metadata": {},
   "outputs": [],
   "source": [
    "cycle_2_hour_1 = df.copy()\n",
    "cycle_2_hour_1['am_pm'] = cycle_2_hour_1.hour.apply(lambda x: 'am' if x < 13 else 'pm')\n",
    "cycle_2_hour_1_am = cycle_2_hour_1.loc[cycle_2_hour_1.am_pm == 'am']\n",
    "cycle_2_hour_1_pm = cycle_2_hour_1.loc[cycle_2_hour_1.am_pm == 'pm']"
   ]
  },
  {
   "cell_type": "code",
   "execution_count": 242,
   "metadata": {},
   "outputs": [
    {
     "data": {
      "text/html": [
       "<div>\n",
       "<style scoped>\n",
       "    .dataframe tbody tr th:only-of-type {\n",
       "        vertical-align: middle;\n",
       "    }\n",
       "\n",
       "    .dataframe tbody tr th {\n",
       "        vertical-align: top;\n",
       "    }\n",
       "\n",
       "    .dataframe thead th {\n",
       "        text-align: right;\n",
       "    }\n",
       "</style>\n",
       "<table border=\"1\" class=\"dataframe\">\n",
       "  <thead>\n",
       "    <tr style=\"text-align: right;\">\n",
       "      <th></th>\n",
       "      <th></th>\n",
       "      <th>Austria</th>\n",
       "      <th>Belgium</th>\n",
       "      <th>Croatia</th>\n",
       "      <th>Czech</th>\n",
       "      <th>De-Lu</th>\n",
       "      <th>Denmark 1</th>\n",
       "      <th>Denmark 2</th>\n",
       "      <th>Estonia</th>\n",
       "      <th>Finland</th>\n",
       "      <th>France</th>\n",
       "      <th>...</th>\n",
       "      <th>Portugal</th>\n",
       "      <th>Romania</th>\n",
       "      <th>Serbia</th>\n",
       "      <th>Slovenia</th>\n",
       "      <th>Spain</th>\n",
       "      <th>Sweden 1</th>\n",
       "      <th>Sweden 2</th>\n",
       "      <th>Sweden 3</th>\n",
       "      <th>Sweden 4</th>\n",
       "      <th>Switzerland</th>\n",
       "    </tr>\n",
       "    <tr>\n",
       "      <th>date</th>\n",
       "      <th>am_pm</th>\n",
       "      <th></th>\n",
       "      <th></th>\n",
       "      <th></th>\n",
       "      <th></th>\n",
       "      <th></th>\n",
       "      <th></th>\n",
       "      <th></th>\n",
       "      <th></th>\n",
       "      <th></th>\n",
       "      <th></th>\n",
       "      <th></th>\n",
       "      <th></th>\n",
       "      <th></th>\n",
       "      <th></th>\n",
       "      <th></th>\n",
       "      <th></th>\n",
       "      <th></th>\n",
       "      <th></th>\n",
       "      <th></th>\n",
       "      <th></th>\n",
       "      <th></th>\n",
       "    </tr>\n",
       "  </thead>\n",
       "  <tbody>\n",
       "    <tr>\n",
       "      <th rowspan=\"2\" valign=\"top\">2022-01-01</th>\n",
       "      <th>am</th>\n",
       "      <td>46.43</td>\n",
       "      <td>46.43</td>\n",
       "      <td>46.43</td>\n",
       "      <td>46.43</td>\n",
       "      <td>42.53</td>\n",
       "      <td>46.43</td>\n",
       "      <td>46.43</td>\n",
       "      <td>46.43</td>\n",
       "      <td>45.96</td>\n",
       "      <td>51.39</td>\n",
       "      <td>...</td>\n",
       "      <td>75.81</td>\n",
       "      <td>24.77</td>\n",
       "      <td>67.07</td>\n",
       "      <td>46.43</td>\n",
       "      <td>75.81</td>\n",
       "      <td>11.79</td>\n",
       "      <td>11.79</td>\n",
       "      <td>46.43</td>\n",
       "      <td>46.43</td>\n",
       "      <td>104.31</td>\n",
       "    </tr>\n",
       "    <tr>\n",
       "      <th>pm</th>\n",
       "      <td>64.81</td>\n",
       "      <td>64.81</td>\n",
       "      <td>64.81</td>\n",
       "      <td>64.81</td>\n",
       "      <td>56.64</td>\n",
       "      <td>66.86</td>\n",
       "      <td>66.86</td>\n",
       "      <td>64.81</td>\n",
       "      <td>64.81</td>\n",
       "      <td>64.81</td>\n",
       "      <td>...</td>\n",
       "      <td>96.07</td>\n",
       "      <td>93.86</td>\n",
       "      <td>62.53</td>\n",
       "      <td>64.81</td>\n",
       "      <td>96.07</td>\n",
       "      <td>4.18</td>\n",
       "      <td>4.18</td>\n",
       "      <td>66.86</td>\n",
       "      <td>66.86</td>\n",
       "      <td>78.17</td>\n",
       "    </tr>\n",
       "    <tr>\n",
       "      <th rowspan=\"2\" valign=\"top\">2022-01-02</th>\n",
       "      <th>am</th>\n",
       "      <td>40.53</td>\n",
       "      <td>40.53</td>\n",
       "      <td>40.53</td>\n",
       "      <td>40.53</td>\n",
       "      <td>40.13</td>\n",
       "      <td>40.53</td>\n",
       "      <td>40.53</td>\n",
       "      <td>40.53</td>\n",
       "      <td>40.53</td>\n",
       "      <td>40.53</td>\n",
       "      <td>...</td>\n",
       "      <td>22.69</td>\n",
       "      <td>60.39</td>\n",
       "      <td>88.29</td>\n",
       "      <td>40.53</td>\n",
       "      <td>29.51</td>\n",
       "      <td>20.45</td>\n",
       "      <td>20.45</td>\n",
       "      <td>40.53</td>\n",
       "      <td>40.53</td>\n",
       "      <td>72.67</td>\n",
       "    </tr>\n",
       "    <tr>\n",
       "      <th>pm</th>\n",
       "      <td>62.47</td>\n",
       "      <td>36.57</td>\n",
       "      <td>62.47</td>\n",
       "      <td>62.47</td>\n",
       "      <td>46.76</td>\n",
       "      <td>62.47</td>\n",
       "      <td>62.47</td>\n",
       "      <td>62.47</td>\n",
       "      <td>62.47</td>\n",
       "      <td>34.92</td>\n",
       "      <td>...</td>\n",
       "      <td>99.30</td>\n",
       "      <td>212.07</td>\n",
       "      <td>61.23</td>\n",
       "      <td>62.47</td>\n",
       "      <td>105.40</td>\n",
       "      <td>18.52</td>\n",
       "      <td>18.52</td>\n",
       "      <td>62.47</td>\n",
       "      <td>62.47</td>\n",
       "      <td>77.49</td>\n",
       "    </tr>\n",
       "    <tr>\n",
       "      <th>2022-01-03</th>\n",
       "      <th>am</th>\n",
       "      <td>124.40</td>\n",
       "      <td>103.16</td>\n",
       "      <td>232.44</td>\n",
       "      <td>128.46</td>\n",
       "      <td>114.75</td>\n",
       "      <td>122.83</td>\n",
       "      <td>113.69</td>\n",
       "      <td>115.71</td>\n",
       "      <td>103.11</td>\n",
       "      <td>180.30</td>\n",
       "      <td>...</td>\n",
       "      <td>44.77</td>\n",
       "      <td>134.01</td>\n",
       "      <td>115.17</td>\n",
       "      <td>232.44</td>\n",
       "      <td>44.77</td>\n",
       "      <td>28.66</td>\n",
       "      <td>28.66</td>\n",
       "      <td>103.11</td>\n",
       "      <td>103.11</td>\n",
       "      <td>214.78</td>\n",
       "    </tr>\n",
       "    <tr>\n",
       "      <th>...</th>\n",
       "      <th>...</th>\n",
       "      <td>...</td>\n",
       "      <td>...</td>\n",
       "      <td>...</td>\n",
       "      <td>...</td>\n",
       "      <td>...</td>\n",
       "      <td>...</td>\n",
       "      <td>...</td>\n",
       "      <td>...</td>\n",
       "      <td>...</td>\n",
       "      <td>...</td>\n",
       "      <td>...</td>\n",
       "      <td>...</td>\n",
       "      <td>...</td>\n",
       "      <td>...</td>\n",
       "      <td>...</td>\n",
       "      <td>...</td>\n",
       "      <td>...</td>\n",
       "      <td>...</td>\n",
       "      <td>...</td>\n",
       "      <td>...</td>\n",
       "      <td>...</td>\n",
       "    </tr>\n",
       "    <tr>\n",
       "      <th>2022-12-29</th>\n",
       "      <th>pm</th>\n",
       "      <td>48.06</td>\n",
       "      <td>51.91</td>\n",
       "      <td>100.97</td>\n",
       "      <td>45.18</td>\n",
       "      <td>37.01</td>\n",
       "      <td>49.42</td>\n",
       "      <td>13.95</td>\n",
       "      <td>120.02</td>\n",
       "      <td>12.23</td>\n",
       "      <td>46.37</td>\n",
       "      <td>...</td>\n",
       "      <td>22.50</td>\n",
       "      <td>337.85</td>\n",
       "      <td>61.74</td>\n",
       "      <td>70.15</td>\n",
       "      <td>22.50</td>\n",
       "      <td>12.23</td>\n",
       "      <td>12.23</td>\n",
       "      <td>12.23</td>\n",
       "      <td>12.23</td>\n",
       "      <td>37.51</td>\n",
       "    </tr>\n",
       "    <tr>\n",
       "      <th rowspan=\"2\" valign=\"top\">2022-12-30</th>\n",
       "      <th>am</th>\n",
       "      <td>54.63</td>\n",
       "      <td>29.09</td>\n",
       "      <td>56.37</td>\n",
       "      <td>45.97</td>\n",
       "      <td>34.99</td>\n",
       "      <td>28.51</td>\n",
       "      <td>28.51</td>\n",
       "      <td>94.51</td>\n",
       "      <td>28.51</td>\n",
       "      <td>38.40</td>\n",
       "      <td>...</td>\n",
       "      <td>7.43</td>\n",
       "      <td>62.14</td>\n",
       "      <td>82.95</td>\n",
       "      <td>53.39</td>\n",
       "      <td>7.43</td>\n",
       "      <td>28.51</td>\n",
       "      <td>28.51</td>\n",
       "      <td>28.51</td>\n",
       "      <td>28.51</td>\n",
       "      <td>32.40</td>\n",
       "    </tr>\n",
       "    <tr>\n",
       "      <th>pm</th>\n",
       "      <td>50.02</td>\n",
       "      <td>30.81</td>\n",
       "      <td>95.19</td>\n",
       "      <td>46.49</td>\n",
       "      <td>40.16</td>\n",
       "      <td>30.78</td>\n",
       "      <td>30.77</td>\n",
       "      <td>105.91</td>\n",
       "      <td>30.77</td>\n",
       "      <td>30.16</td>\n",
       "      <td>...</td>\n",
       "      <td>17.67</td>\n",
       "      <td>197.87</td>\n",
       "      <td>104.54</td>\n",
       "      <td>72.56</td>\n",
       "      <td>17.67</td>\n",
       "      <td>30.77</td>\n",
       "      <td>30.77</td>\n",
       "      <td>30.77</td>\n",
       "      <td>30.77</td>\n",
       "      <td>31.00</td>\n",
       "    </tr>\n",
       "    <tr>\n",
       "      <th rowspan=\"2\" valign=\"top\">2022-12-31</th>\n",
       "      <th>am</th>\n",
       "      <td>10.28</td>\n",
       "      <td>1.54</td>\n",
       "      <td>11.37</td>\n",
       "      <td>4.01</td>\n",
       "      <td>12.73</td>\n",
       "      <td>6.83</td>\n",
       "      <td>4.10</td>\n",
       "      <td>4.12</td>\n",
       "      <td>4.10</td>\n",
       "      <td>1.06</td>\n",
       "      <td>...</td>\n",
       "      <td>1.06</td>\n",
       "      <td>18.01</td>\n",
       "      <td>50.06</td>\n",
       "      <td>9.29</td>\n",
       "      <td>1.06</td>\n",
       "      <td>4.10</td>\n",
       "      <td>4.10</td>\n",
       "      <td>4.10</td>\n",
       "      <td>4.10</td>\n",
       "      <td>10.00</td>\n",
       "    </tr>\n",
       "    <tr>\n",
       "      <th>pm</th>\n",
       "      <td>15.36</td>\n",
       "      <td>27.80</td>\n",
       "      <td>83.90</td>\n",
       "      <td>29.80</td>\n",
       "      <td>28.42</td>\n",
       "      <td>63.26</td>\n",
       "      <td>21.81</td>\n",
       "      <td>54.45</td>\n",
       "      <td>21.81</td>\n",
       "      <td>20.37</td>\n",
       "      <td>...</td>\n",
       "      <td>10.99</td>\n",
       "      <td>196.70</td>\n",
       "      <td>115.86</td>\n",
       "      <td>46.86</td>\n",
       "      <td>19.90</td>\n",
       "      <td>21.81</td>\n",
       "      <td>21.81</td>\n",
       "      <td>21.81</td>\n",
       "      <td>21.81</td>\n",
       "      <td>15.68</td>\n",
       "    </tr>\n",
       "  </tbody>\n",
       "</table>\n",
       "<p>730 rows × 35 columns</p>\n",
       "</div>"
      ],
      "text/plain": [
       "                  Austria  Belgium  Croatia   Czech   De-Lu  Denmark 1  \\\n",
       "date       am_pm                                                         \n",
       "2022-01-01 am       46.43    46.43    46.43   46.43   42.53      46.43   \n",
       "           pm       64.81    64.81    64.81   64.81   56.64      66.86   \n",
       "2022-01-02 am       40.53    40.53    40.53   40.53   40.13      40.53   \n",
       "           pm       62.47    36.57    62.47   62.47   46.76      62.47   \n",
       "2022-01-03 am      124.40   103.16   232.44  128.46  114.75     122.83   \n",
       "...                   ...      ...      ...     ...     ...        ...   \n",
       "2022-12-29 pm       48.06    51.91   100.97   45.18   37.01      49.42   \n",
       "2022-12-30 am       54.63    29.09    56.37   45.97   34.99      28.51   \n",
       "           pm       50.02    30.81    95.19   46.49   40.16      30.78   \n",
       "2022-12-31 am       10.28     1.54    11.37    4.01   12.73       6.83   \n",
       "           pm       15.36    27.80    83.90   29.80   28.42      63.26   \n",
       "\n",
       "                  Denmark 2  Estonia  Finland  France  ...  Portugal  Romania  \\\n",
       "date       am_pm                                       ...                      \n",
       "2022-01-01 am         46.43    46.43    45.96   51.39  ...     75.81    24.77   \n",
       "           pm         66.86    64.81    64.81   64.81  ...     96.07    93.86   \n",
       "2022-01-02 am         40.53    40.53    40.53   40.53  ...     22.69    60.39   \n",
       "           pm         62.47    62.47    62.47   34.92  ...     99.30   212.07   \n",
       "2022-01-03 am        113.69   115.71   103.11  180.30  ...     44.77   134.01   \n",
       "...                     ...      ...      ...     ...  ...       ...      ...   \n",
       "2022-12-29 pm         13.95   120.02    12.23   46.37  ...     22.50   337.85   \n",
       "2022-12-30 am         28.51    94.51    28.51   38.40  ...      7.43    62.14   \n",
       "           pm         30.77   105.91    30.77   30.16  ...     17.67   197.87   \n",
       "2022-12-31 am          4.10     4.12     4.10    1.06  ...      1.06    18.01   \n",
       "           pm         21.81    54.45    21.81   20.37  ...     10.99   196.70   \n",
       "\n",
       "                  Serbia  Slovenia   Spain  Sweden 1  Sweden 2  Sweden 3  \\\n",
       "date       am_pm                                                           \n",
       "2022-01-01 am      67.07     46.43   75.81     11.79     11.79     46.43   \n",
       "           pm      62.53     64.81   96.07      4.18      4.18     66.86   \n",
       "2022-01-02 am      88.29     40.53   29.51     20.45     20.45     40.53   \n",
       "           pm      61.23     62.47  105.40     18.52     18.52     62.47   \n",
       "2022-01-03 am     115.17    232.44   44.77     28.66     28.66    103.11   \n",
       "...                  ...       ...     ...       ...       ...       ...   \n",
       "2022-12-29 pm      61.74     70.15   22.50     12.23     12.23     12.23   \n",
       "2022-12-30 am      82.95     53.39    7.43     28.51     28.51     28.51   \n",
       "           pm     104.54     72.56   17.67     30.77     30.77     30.77   \n",
       "2022-12-31 am      50.06      9.29    1.06      4.10      4.10      4.10   \n",
       "           pm     115.86     46.86   19.90     21.81     21.81     21.81   \n",
       "\n",
       "                  Sweden 4  Switzerland  \n",
       "date       am_pm                         \n",
       "2022-01-01 am        46.43       104.31  \n",
       "           pm        66.86        78.17  \n",
       "2022-01-02 am        40.53        72.67  \n",
       "           pm        62.47        77.49  \n",
       "2022-01-03 am       103.11       214.78  \n",
       "...                    ...          ...  \n",
       "2022-12-29 pm        12.23        37.51  \n",
       "2022-12-30 am        28.51        32.40  \n",
       "           pm        30.77        31.00  \n",
       "2022-12-31 am         4.10        10.00  \n",
       "           pm        21.81        15.68  \n",
       "\n",
       "[730 rows x 35 columns]"
      ]
     },
     "execution_count": 242,
     "metadata": {},
     "output_type": "execute_result"
    }
   ],
   "source": [
    "cycle_2_hour_1 = cycle_2_hour_1.drop(['hour', 'datetime'], axis=1).groupby(['date', 'am_pm']).apply(lambda x: x.max() - x.min())\n",
    "cycle_2_hour_1"
   ]
  },
  {
   "cell_type": "code",
   "execution_count": 243,
   "metadata": {},
   "outputs": [
    {
     "data": {
      "text/plain": [
       "Estonia        140843.65\n",
       "Latvia         135008.54\n",
       "Lithuania      134765.28\n",
       "Romania        126538.62\n",
       "Netherlands    118202.57\n",
       "Greece         115454.81\n",
       "Finland        114307.22\n",
       "Sweden 4       112972.29\n",
       "Belgium        112553.58\n",
       "Hungary        111015.74\n",
       "Denmark 2      105492.89\n",
       "Croatia        105484.06\n",
       "Sweden 3       105323.18\n",
       "Germany        104827.20\n",
       "Czech          104274.78\n",
       "Slovenia       100646.10\n",
       "Denmark 1       97049.84\n",
       "GB              96427.40\n",
       "France          93747.97\n",
       "Serbia          92445.58\n",
       "Austria         91186.56\n",
       "Italy           86987.76\n",
       "De-Lu           84288.07\n",
       "Poland          76592.56\n",
       "Ireland         70484.63\n",
       "Switzerland     69728.75\n",
       "Norway 2        58146.63\n",
       "Spain           52218.84\n",
       "Portugal        51180.50\n",
       "Norway 1        47613.89\n",
       "Norway 5        45728.59\n",
       "Sweden 2        33558.24\n",
       "Sweden 1        30666.29\n",
       "Norway 3        20288.17\n",
       "Norway 4        11429.60\n",
       "dtype: float64"
      ]
     },
     "execution_count": 243,
     "metadata": {},
     "output_type": "execute_result"
    }
   ],
   "source": [
    "cycle_2_hour_1_rev = cycle_2_hour_1.sum().sort_values(ascending=False)\n",
    "cycle_2_hour_1_rev"
   ]
  },
  {
   "cell_type": "markdown",
   "metadata": {},
   "source": [
    "### Single cycle 2 hour\n",
    "\n",
    "(Dis)charging times based on average price profile"
   ]
  },
  {
   "cell_type": "code",
   "execution_count": 244,
   "metadata": {},
   "outputs": [
    {
     "data": {
      "text/plain": [
       "{'Austria': [4, 5],\n",
       " 'Belgium': [14, 15],\n",
       " 'Croatia': [4, 5],\n",
       " 'Czech': [4, 5],\n",
       " 'De-Lu': [4, 5],\n",
       " 'Denmark 1': [15, 14],\n",
       " 'Denmark 2': [4, 5],\n",
       " 'Estonia': [4, 3],\n",
       " 'Finland': [3, 4],\n",
       " 'France': [5, 4],\n",
       " 'GB': [4, 5],\n",
       " 'Germany': [4, 5],\n",
       " 'Greece': [4, 5],\n",
       " 'Hungary': [4, 5],\n",
       " 'Ireland': [5, 6],\n",
       " 'Italy': [4, 5],\n",
       " 'Latvia': [4, 3],\n",
       " 'Lithuania': [4, 3],\n",
       " 'Netherlands': [14, 15],\n",
       " 'Norway 1': [4, 5],\n",
       " 'Norway 2': [4, 5],\n",
       " 'Norway 3': [4, 3],\n",
       " 'Norway 4': [4, 3],\n",
       " 'Norway 5': [4, 5],\n",
       " 'Poland': [4, 3],\n",
       " 'Portugal': [16, 17],\n",
       " 'Romania': [4, 3],\n",
       " 'Serbia': [4, 5],\n",
       " 'Slovenia': [4, 5],\n",
       " 'Spain': [16, 17],\n",
       " 'Sweden 1': [4, 3],\n",
       " 'Sweden 2': [4, 3],\n",
       " 'Sweden 3': [4, 3],\n",
       " 'Sweden 4': [4, 3],\n",
       " 'Switzerland': [5, 4]}"
      ]
     },
     "execution_count": 244,
     "metadata": {},
     "output_type": "execute_result"
    }
   ],
   "source": [
    "hour_ave = df.groupby('hour').mean()\n",
    "single_cycle_charging_times = dict()\n",
    "single_cycle_discharging_times = dict()\n",
    "\n",
    "for market in hour_ave.columns:\n",
    "    min_hour = hour_ave[market].idxmin()\n",
    "    second_min_price = min(hour_ave[market][min_hour-1], hour_ave[market][min_hour+1])\n",
    "    second_min_hour = hour_ave[market].loc[hour_ave[market] == second_min_price].index.item()\n",
    "    max_hour = hour_ave[market].idxmax()\n",
    "    second_max_price = max(hour_ave[market][max_hour-1], hour_ave[market][max_hour+1])\n",
    "    second_max_hour = hour_ave[market].loc[hour_ave[market] == second_max_price].index.item()\n",
    "\n",
    "    single_cycle_charging_times[market] = [min_hour, second_min_hour]\n",
    "    single_cycle_discharging_times[market] = [max_hour, second_max_hour]\n",
    "    \n",
    "single_cycle_charging_times"
   ]
  },
  {
   "cell_type": "code",
   "execution_count": 245,
   "metadata": {},
   "outputs": [
    {
     "data": {
      "text/plain": [
       "Romania        122265.96\n",
       "Hungary        109157.07\n",
       "Estonia        106434.91\n",
       "Latvia         105627.40\n",
       "Croatia        105086.52\n",
       "Serbia         103918.13\n",
       "Lithuania      103527.63\n",
       "GB             102684.70\n",
       "Finland        100640.20\n",
       "Slovenia       100491.01\n",
       "Greece          98996.23\n",
       "Sweden 4        98068.84\n",
       "Sweden 3        94899.09\n",
       "Netherlands     93562.84\n",
       "France          90023.46\n",
       "Czech           89933.57\n",
       "Belgium         86047.09\n",
       "Austria         85339.86\n",
       "Italy           85073.47\n",
       "Germany         83651.41\n",
       "Denmark 2       81789.71\n",
       "De-Lu           78160.33\n",
       "Denmark 1       73885.56\n",
       "Poland          71850.68\n",
       "Ireland         71368.00\n",
       "Switzerland     71004.23\n",
       "Spain           48371.17\n",
       "Portugal        47751.59\n",
       "Norway 2        41564.46\n",
       "Norway 1        35412.23\n",
       "Norway 5        33843.51\n",
       "Sweden 2        26745.43\n",
       "Sweden 1        25484.86\n",
       "Norway 3        14069.02\n",
       "Norway 4         8627.91\n",
       "dtype: float64"
      ]
     },
     "execution_count": 245,
     "metadata": {},
     "output_type": "execute_result"
    }
   ],
   "source": [
    "def calculate_rev(df, hour_ave, charging_dict, discharging_dict):\n",
    "    rev_dict = dict()\n",
    "    for market in hour_ave.columns:\n",
    "        chargin_cost = df.loc[df.hour.isin(charging_dict[market])][market].sum()\n",
    "        dischargin_cost = df.loc[df.hour.isin(discharging_dict[market])][market].sum()\n",
    "        rev_dict[market] = dischargin_cost - chargin_cost\n",
    "    rev_df = pd.Series(rev_dict).sort_values(ascending=False)\n",
    "    return rev_df\n",
    "cycle_1_hour_2_rev = calculate_rev(df, hour_ave, single_cycle_charging_times, single_cycle_discharging_times)\n",
    "cycle_1_hour_2_rev"
   ]
  },
  {
   "cell_type": "markdown",
   "metadata": {},
   "source": [
    "### Single cycle 1 hour based on preset times\n",
    "\n",
    "(Dis)charging times based on average price profile"
   ]
  },
  {
   "cell_type": "code",
   "execution_count": 246,
   "metadata": {},
   "outputs": [
    {
     "data": {
      "text/plain": [
       "Romania        65516.76\n",
       "Hungary        58719.99\n",
       "Croatia        56765.93\n",
       "Latvia         56048.55\n",
       "Lithuania      55482.23\n",
       "Serbia         55119.71\n",
       "Estonia        54889.32\n",
       "Slovenia       54271.70\n",
       "GB             53701.80\n",
       "Greece         53467.39\n",
       "Finland        52114.88\n",
       "Sweden 4       49484.66\n",
       "Netherlands    49459.67\n",
       "Sweden 3       49011.17\n",
       "Czech          48427.18\n",
       "France         48341.74\n",
       "Belgium        46217.34\n",
       "Austria        45873.30\n",
       "Germany        45353.43\n",
       "Italy          45200.68\n",
       "Denmark 2      43560.14\n",
       "De-Lu          41458.34\n",
       "Denmark 1      39566.18\n",
       "Switzerland    37493.06\n",
       "Ireland        36879.05\n",
       "Poland         36227.82\n",
       "Spain          25033.63\n",
       "Portugal       24701.92\n",
       "Norway 2       21415.79\n",
       "Norway 1       18746.55\n",
       "Norway 5       17954.32\n",
       "Sweden 2       13614.78\n",
       "Sweden 1       13168.00\n",
       "Norway 3        7345.61\n",
       "Norway 4        4384.81\n",
       "dtype: float64"
      ]
     },
     "execution_count": 246,
     "metadata": {},
     "output_type": "execute_result"
    }
   ],
   "source": [
    "hour_ave = df.groupby('hour').mean()\n",
    "single_cycle_1hr_charging_times = dict()\n",
    "single_cycle_1hr_discharging_times = dict()\n",
    "\n",
    "for market in hour_ave.columns:\n",
    "    min_hour = hour_ave[market].idxmin()\n",
    "    max_hour = hour_ave[market].idxmax()\n",
    "    single_cycle_1hr_charging_times[market] = [min_hour]\n",
    "    single_cycle_1hr_discharging_times[market] = [max_hour]\n",
    "    \n",
    "cycle_1_hour_1_rev_preset = calculate_rev(df, hour_ave, single_cycle_1hr_charging_times, single_cycle_1hr_discharging_times)\n",
    "cycle_1_hour_1_rev_preset"
   ]
  },
  {
   "cell_type": "markdown",
   "metadata": {},
   "source": [
    "### Dual cycle 1 hour based on preset times\n",
    "\n",
    "(Dis)charging times based on average price profile"
   ]
  },
  {
   "cell_type": "code",
   "execution_count": 247,
   "metadata": {},
   "outputs": [],
   "source": [
    "hour_ave_am_charge = df.groupby('hour').mean().iloc[:6]\n",
    "hour_ave_am_discharge = df.groupby('hour').mean().iloc[6:12]\n",
    "hour_ave_pm_charge = df.groupby('hour').mean().iloc[12:17]\n",
    "hour_ave_pm_discharge = df.groupby('hour').mean().iloc[16:24]"
   ]
  },
  {
   "cell_type": "code",
   "execution_count": 248,
   "metadata": {},
   "outputs": [
    {
     "data": {
      "text/plain": [
       "Romania        89586.43\n",
       "Netherlands    81522.63\n",
       "Hungary        81390.12\n",
       "Lithuania      80999.75\n",
       "Latvia         80880.21\n",
       "Belgium        79103.44\n",
       "Greece         78962.77\n",
       "Germany        78823.34\n",
       "Estonia        76340.95\n",
       "Croatia        76278.18\n",
       "Czech          75366.50\n",
       "Denmark 2      74986.00\n",
       "Slovenia       73978.49\n",
       "Sweden 4       73937.36\n",
       "GB             72586.78\n",
       "France         71091.18\n",
       "Serbia         70932.63\n",
       "Denmark 1      70359.89\n",
       "Sweden 3       68307.52\n",
       "Italy          67791.77\n",
       "Finland        67426.92\n",
       "De-Lu          66273.52\n",
       "Austria        64923.52\n",
       "Switzerland    55283.33\n",
       "Poland         49620.10\n",
       "Ireland        48572.08\n",
       "Spain          38757.33\n",
       "Portugal       38216.80\n",
       "Norway 2       37599.55\n",
       "Norway 1       29457.09\n",
       "Norway 5       28434.89\n",
       "Sweden 2       15624.47\n",
       "Sweden 1       14882.85\n",
       "Norway 3        8549.24\n",
       "Norway 4        4771.65\n",
       "dtype: float64"
      ]
     },
     "execution_count": 248,
     "metadata": {},
     "output_type": "execute_result"
    }
   ],
   "source": [
    "dual_cycle_1hr_charging_times = dict()\n",
    "dual_cycle_1hr_discharging_times = dict()\n",
    "\n",
    "for market in hour_ave.columns:\n",
    "    min_hour_am = hour_ave_am_charge[market].idxmin()\n",
    "    max_hour_am = hour_ave_am_discharge[market].idxmax()\n",
    "\n",
    "    min_hour_pm = hour_ave_pm_charge[market].idxmin()\n",
    "    max_hour_pm = hour_ave_pm_discharge[market].idxmax()\n",
    "\n",
    "    dual_cycle_1hr_charging_times[market] = [min_hour_am, min_hour_pm]\n",
    "    dual_cycle_1hr_discharging_times[market] = [max_hour_am, max_hour_pm]\n",
    "    \n",
    "cycle_2_hour_2_rev_preset = calculate_rev(df, hour_ave, dual_cycle_1hr_charging_times, dual_cycle_1hr_discharging_times)\n",
    "cycle_2_hour_2_rev_preset"
   ]
  },
  {
   "cell_type": "markdown",
   "metadata": {},
   "source": [
    "### Dual cycle 2 hour\n",
    "\n",
    "(Dis)charging times based on average price profile"
   ]
  },
  {
   "cell_type": "code",
   "execution_count": 249,
   "metadata": {},
   "outputs": [],
   "source": [
    "hour_ave_am_charge = df.groupby('hour').mean().iloc[:6]\n",
    "hour_ave_am_discharge = df.groupby('hour').mean().iloc[6:12]\n",
    "hour_ave_pm_charge = df.groupby('hour').mean().iloc[12:17]\n",
    "hour_ave_pm_discharge = df.groupby('hour').mean().iloc[16:24]"
   ]
  },
  {
   "cell_type": "code",
   "execution_count": 250,
   "metadata": {},
   "outputs": [
    {
     "data": {
      "text/plain": [
       "{'Austria': [4, 5, 15, 14],\n",
       " 'Belgium': [4, 5, 14, 15],\n",
       " 'Croatia': [4, 5, 14, 15],\n",
       " 'Czech': [4, 5, 15, 14],\n",
       " 'De-Lu': [4, 5, 15, 14],\n",
       " 'Denmark 1': [4, 5, 15, 14],\n",
       " 'Denmark 2': [4, 5, 15, 14],\n",
       " 'Estonia': [4, 3, 14, 15],\n",
       " 'Finland': [3, 4, 15, 14],\n",
       " 'France': [5, 4, 16, 15],\n",
       " 'GB': [4, 5, 15, 14],\n",
       " 'Germany': [4, 5, 15, 14],\n",
       " 'Greece': [4, 5, 14, 15],\n",
       " 'Hungary': [4, 5, 14, 15],\n",
       " 'Ireland': [5, 6, 16, 17],\n",
       " 'Italy': [4, 5, 14, 15],\n",
       " 'Latvia': [4, 3, 14, 15],\n",
       " 'Lithuania': [4, 3, 14, 15],\n",
       " 'Netherlands': [5, 4, 14, 15],\n",
       " 'Norway 1': [4, 5, 15, 14],\n",
       " 'Norway 2': [4, 5, 15, 14],\n",
       " 'Norway 3': [4, 3, 15, 14],\n",
       " 'Norway 4': [4, 3, 14, 13],\n",
       " 'Norway 5': [4, 5, 15, 14],\n",
       " 'Poland': [4, 3, 14, 15],\n",
       " 'Portugal': [5, 4, 16, 17],\n",
       " 'Romania': [4, 3, 14, 15],\n",
       " 'Serbia': [4, 5, 14, 15],\n",
       " 'Slovenia': [4, 5, 14, 15],\n",
       " 'Spain': [5, 4, 16, 17],\n",
       " 'Sweden 1': [4, 3, 16, 15],\n",
       " 'Sweden 2': [4, 3, 15, 16],\n",
       " 'Sweden 3': [4, 3, 15, 14],\n",
       " 'Sweden 4': [4, 3, 15, 14],\n",
       " 'Switzerland': [5, 4, 15, 14]}"
      ]
     },
     "execution_count": 250,
     "metadata": {},
     "output_type": "execute_result"
    }
   ],
   "source": [
    "dual_cycle_charging_times = dict()\n",
    "dual_cycle_discharging_times = dict()\n",
    "\n",
    "for market in hour_ave.columns:\n",
    "    min_hour_am = hour_ave_am_charge[market].idxmin()\n",
    "    second_min_price_am = min(hour_ave_am_charge[market][min_hour_am-1], hour_ave_am_charge[market][min_hour_am+1])\n",
    "    second_min_hour_am = hour_ave_am_charge[market].loc[hour_ave_am_charge[market] == second_min_price_am].index.item()\n",
    "    max_hour_am = hour_ave_am_discharge[market].idxmax()\n",
    "    second_max_price_am = max(hour_ave_am_discharge[market][max_hour_am-1], hour_ave_am_discharge[market][max_hour_am+1])\n",
    "    second_max_hour_am = hour_ave_am_discharge[market].loc[hour_ave_am_discharge[market] == second_max_price_am].index.item()\n",
    "\n",
    "    min_hour_pm = hour_ave_pm_charge[market].idxmin()\n",
    "    second_min_price_pm = min(hour_ave_pm_charge[market][min_hour_pm-1], hour_ave_pm_charge[market][min_hour_pm+1])\n",
    "    second_min_hour_pm = hour_ave_pm_charge[market].loc[hour_ave_pm_charge[market] == second_min_price_pm].index.item()\n",
    "    max_hour_pm = hour_ave_pm_discharge[market].idxmax()\n",
    "    try:\n",
    "        second_max_price_pm = max(hour_ave_pm_discharge[market][max_hour_pm-1], hour_ave_pm_discharge[market][max_hour_pm+1])\n",
    "        second_max_hour_pm = hour_ave_pm_discharge[market].loc[hour_ave_pm_discharge[market] == second_max_price_pm].index.item()\n",
    "    except KeyError:  # Account for Norway 4's profile\n",
    "        second_max_hour_pm = max_hour_pm + 1\n",
    "\n",
    "    dual_cycle_charging_times[market] = [min_hour_am, second_min_hour_am, min_hour_pm, second_min_hour_pm]\n",
    "    dual_cycle_discharging_times[market] = [max_hour_am, second_max_hour_am, max_hour_pm, second_max_hour_pm]\n",
    "    \n",
    "dual_cycle_charging_times"
   ]
  },
  {
   "cell_type": "code",
   "execution_count": 251,
   "metadata": {},
   "outputs": [
    {
     "data": {
      "text/plain": [
       "Romania        167740.92\n",
       "Netherlands    154473.69\n",
       "Hungary        152026.51\n",
       "Latvia         151910.35\n",
       "Lithuania      151203.16\n",
       "Belgium        148824.17\n",
       "Germany        147985.57\n",
       "Estonia        146825.94\n",
       "Greece         144067.19\n",
       "Czech          141544.86\n",
       "Sweden 4       141253.27\n",
       "Croatia        140617.00\n",
       "Denmark 2      140135.54\n",
       "GB             136589.51\n",
       "Slovenia       136507.05\n",
       "Denmark 1      132450.91\n",
       "Serbia         131854.59\n",
       "France         129589.58\n",
       "Sweden 3       129459.28\n",
       "Finland        127576.53\n",
       "De-Lu          124151.99\n",
       "Italy          122916.79\n",
       "Austria        120721.43\n",
       "Switzerland    103073.66\n",
       "Poland          95016.17\n",
       "Ireland         93277.09\n",
       "Spain           73965.41\n",
       "Portugal        72975.49\n",
       "Norway 2        70328.01\n",
       "Norway 1        55436.93\n",
       "Norway 5        53793.92\n",
       "Sweden 2        30279.35\n",
       "Sweden 1        28385.98\n",
       "Norway 3        16095.33\n",
       "Norway 4         8989.56\n",
       "dtype: float64"
      ]
     },
     "execution_count": 251,
     "metadata": {},
     "output_type": "execute_result"
    }
   ],
   "source": [
    "cycle_2_hour_2_rev = calculate_rev(df, hour_ave, dual_cycle_charging_times, dual_cycle_discharging_times)\n",
    "cycle_2_hour_2_rev"
   ]
  },
  {
   "cell_type": "markdown",
   "metadata": {},
   "source": [
    "### Plots"
   ]
  },
  {
   "cell_type": "code",
   "execution_count": 256,
   "metadata": {},
   "outputs": [
    {
     "data": {
      "application/vnd.plotly.v1+json": {
       "config": {
        "plotlyServerURL": "https://plot.ly"
       },
       "data": [
        {
         "marker": {
          "color": [
           89550.03,
           86886.37,
           86331.48,
           85421.37,
           76838.35,
           74865.43,
           74368.98999999999,
           73867.4,
           73432.29,
           72030.46,
           70884.84,
           70608.34,
           68252.06,
           67474.04999999999,
           67368.70999999999,
           66943.99,
           65669.67000000001,
           65157.149999999994,
           63843.47,
           63552.16,
           59681.020000000004,
           58954.95,
           54973.28999999999,
           52234.22,
           50453.39,
           46144.21,
           38806.75,
           34469.21,
           33851.06,
           31746.8,
           30420.149999999998,
           23643.61,
           21563.66,
           14615.68,
           8066.0199999999995
          ],
          "colorscale": [
           [
            0,
            "#000004"
           ],
           [
            0.1111111111111111,
            "#1b0c41"
           ],
           [
            0.2222222222222222,
            "#4a0c6b"
           ],
           [
            0.3333333333333333,
            "#781c6d"
           ],
           [
            0.4444444444444444,
            "#a52c60"
           ],
           [
            0.5555555555555556,
            "#cf4446"
           ],
           [
            0.6666666666666666,
            "#ed6925"
           ],
           [
            0.7777777777777778,
            "#fb9b06"
           ],
           [
            0.8888888888888888,
            "#f7d13d"
           ],
           [
            1,
            "#fcffa4"
           ]
          ]
         },
         "textangle": -90,
         "texttemplate": "%{value: .3r}",
         "type": "bar",
         "x": [
          "Estonia",
          "Lithuania",
          "Latvia",
          "Romania",
          "Greece",
          "Netherlands",
          "Hungary",
          "Sweden 4",
          "Finland",
          "Belgium",
          "Denmark 2",
          "Croatia",
          "Germany",
          "Sweden 3",
          "Slovenia",
          "Czech",
          "GB",
          "Denmark 1",
          "France",
          "Serbia",
          "Austria",
          "Italy",
          "De-Lu",
          "Poland",
          "Ireland",
          "Switzerland",
          "Norway 2",
          "Spain",
          "Portugal",
          "Norway 1",
          "Norway 5",
          "Sweden 2",
          "Sweden 1",
          "Norway 3",
          "Norway 4"
         ],
         "xaxis": "x",
         "y": [
          89.55002999999999,
          86.88637,
          86.33148,
          85.42137,
          76.83835,
          74.86542999999999,
          74.36899,
          73.86739999999999,
          73.43229,
          72.03046,
          70.88484,
          70.60834,
          68.25206,
          67.47404999999999,
          67.36871,
          66.94399,
          65.66967000000001,
          65.15714999999999,
          63.84347,
          63.55216,
          59.681020000000004,
          58.95495,
          54.97328999999999,
          52.23422,
          50.45339,
          46.14421,
          38.80675,
          34.46921,
          33.85106,
          31.7468,
          30.42015,
          23.64361,
          21.56366,
          14.615680000000001,
          8.06602
         ],
         "yaxis": "y"
        },
        {
         "marker": {
          "color": [
           140843.65000000002,
           135008.53999999998,
           134765.28,
           126538.62,
           118202.56999999999,
           115454.81,
           114307.22,
           112972.29000000001,
           112553.58000000002,
           111015.73999999999,
           105492.88999999998,
           105484.06,
           105323.18,
           104827.20000000001,
           104274.78000000001,
           100646.1,
           97049.84,
           96427.4,
           93747.97,
           92445.58,
           91186.56,
           86987.76000000001,
           84288.07,
           76592.56,
           70484.63,
           69728.75,
           58146.630000000005,
           52218.84,
           51180.5,
           47613.89,
           45728.59,
           33558.24,
           30666.29,
           20288.170000000002,
           11429.600000000002
          ],
          "colorscale": [
           [
            0,
            "#000004"
           ],
           [
            0.1111111111111111,
            "#1b0c41"
           ],
           [
            0.2222222222222222,
            "#4a0c6b"
           ],
           [
            0.3333333333333333,
            "#781c6d"
           ],
           [
            0.4444444444444444,
            "#a52c60"
           ],
           [
            0.5555555555555556,
            "#cf4446"
           ],
           [
            0.6666666666666666,
            "#ed6925"
           ],
           [
            0.7777777777777778,
            "#fb9b06"
           ],
           [
            0.8888888888888888,
            "#f7d13d"
           ],
           [
            1,
            "#fcffa4"
           ]
          ]
         },
         "textangle": -90,
         "texttemplate": "%{value: .3r}",
         "type": "bar",
         "x": [
          "Estonia",
          "Latvia",
          "Lithuania",
          "Romania",
          "Netherlands",
          "Greece",
          "Finland",
          "Sweden 4",
          "Belgium",
          "Hungary",
          "Denmark 2",
          "Croatia",
          "Sweden 3",
          "Germany",
          "Czech",
          "Slovenia",
          "Denmark 1",
          "GB",
          "France",
          "Serbia",
          "Austria",
          "Italy",
          "De-Lu",
          "Poland",
          "Ireland",
          "Switzerland",
          "Norway 2",
          "Spain",
          "Portugal",
          "Norway 1",
          "Norway 5",
          "Sweden 2",
          "Sweden 1",
          "Norway 3",
          "Norway 4"
         ],
         "xaxis": "x2",
         "y": [
          140.84365000000003,
          135.00853999999998,
          134.76528,
          126.53862,
          118.20257,
          115.45481,
          114.30722,
          112.97229000000002,
          112.55358000000001,
          111.01574,
          105.49288999999999,
          105.48406,
          105.32318,
          104.8272,
          104.27478,
          100.6461,
          97.04984,
          96.42739999999999,
          93.74797,
          92.44558,
          91.18656,
          86.98776000000001,
          84.28807,
          76.59255999999999,
          70.48463000000001,
          69.72875,
          58.14663,
          52.21883999999999,
          51.1805,
          47.61389,
          45.72859,
          33.55824,
          30.66629,
          20.28817,
          11.429600000000002
         ],
         "yaxis": "y2"
        }
       ],
       "layout": {
        "annotations": [
         {
          "font": {
           "size": 16
          },
          "showarrow": false,
          "text": "Single cycle",
          "x": 0.5,
          "xanchor": "center",
          "xref": "paper",
          "y": 1,
          "yanchor": "bottom",
          "yref": "paper"
         },
         {
          "font": {
           "size": 16
          },
          "showarrow": false,
          "text": "Dual cycle",
          "x": 0.5,
          "xanchor": "center",
          "xref": "paper",
          "y": 0.375,
          "yanchor": "bottom",
          "yref": "paper"
         }
        ],
        "coloraxis": {
         "showscale": false
        },
        "height": 600,
        "showlegend": false,
        "template": {
         "data": {
          "bar": [
           {
            "error_x": {
             "color": "#2a3f5f"
            },
            "error_y": {
             "color": "#2a3f5f"
            },
            "marker": {
             "line": {
              "color": "white",
              "width": 0.5
             },
             "pattern": {
              "fillmode": "overlay",
              "size": 10,
              "solidity": 0.2
             }
            },
            "type": "bar"
           }
          ],
          "barpolar": [
           {
            "marker": {
             "line": {
              "color": "white",
              "width": 0.5
             },
             "pattern": {
              "fillmode": "overlay",
              "size": 10,
              "solidity": 0.2
             }
            },
            "type": "barpolar"
           }
          ],
          "carpet": [
           {
            "aaxis": {
             "endlinecolor": "#2a3f5f",
             "gridcolor": "#C8D4E3",
             "linecolor": "#C8D4E3",
             "minorgridcolor": "#C8D4E3",
             "startlinecolor": "#2a3f5f"
            },
            "baxis": {
             "endlinecolor": "#2a3f5f",
             "gridcolor": "#C8D4E3",
             "linecolor": "#C8D4E3",
             "minorgridcolor": "#C8D4E3",
             "startlinecolor": "#2a3f5f"
            },
            "type": "carpet"
           }
          ],
          "choropleth": [
           {
            "colorbar": {
             "outlinewidth": 0,
             "ticks": ""
            },
            "type": "choropleth"
           }
          ],
          "contour": [
           {
            "colorbar": {
             "outlinewidth": 0,
             "ticks": ""
            },
            "colorscale": [
             [
              0,
              "#0d0887"
             ],
             [
              0.1111111111111111,
              "#46039f"
             ],
             [
              0.2222222222222222,
              "#7201a8"
             ],
             [
              0.3333333333333333,
              "#9c179e"
             ],
             [
              0.4444444444444444,
              "#bd3786"
             ],
             [
              0.5555555555555556,
              "#d8576b"
             ],
             [
              0.6666666666666666,
              "#ed7953"
             ],
             [
              0.7777777777777778,
              "#fb9f3a"
             ],
             [
              0.8888888888888888,
              "#fdca26"
             ],
             [
              1,
              "#f0f921"
             ]
            ],
            "type": "contour"
           }
          ],
          "contourcarpet": [
           {
            "colorbar": {
             "outlinewidth": 0,
             "ticks": ""
            },
            "type": "contourcarpet"
           }
          ],
          "heatmap": [
           {
            "colorbar": {
             "outlinewidth": 0,
             "ticks": ""
            },
            "colorscale": [
             [
              0,
              "#0d0887"
             ],
             [
              0.1111111111111111,
              "#46039f"
             ],
             [
              0.2222222222222222,
              "#7201a8"
             ],
             [
              0.3333333333333333,
              "#9c179e"
             ],
             [
              0.4444444444444444,
              "#bd3786"
             ],
             [
              0.5555555555555556,
              "#d8576b"
             ],
             [
              0.6666666666666666,
              "#ed7953"
             ],
             [
              0.7777777777777778,
              "#fb9f3a"
             ],
             [
              0.8888888888888888,
              "#fdca26"
             ],
             [
              1,
              "#f0f921"
             ]
            ],
            "type": "heatmap"
           }
          ],
          "heatmapgl": [
           {
            "colorbar": {
             "outlinewidth": 0,
             "ticks": ""
            },
            "colorscale": [
             [
              0,
              "#0d0887"
             ],
             [
              0.1111111111111111,
              "#46039f"
             ],
             [
              0.2222222222222222,
              "#7201a8"
             ],
             [
              0.3333333333333333,
              "#9c179e"
             ],
             [
              0.4444444444444444,
              "#bd3786"
             ],
             [
              0.5555555555555556,
              "#d8576b"
             ],
             [
              0.6666666666666666,
              "#ed7953"
             ],
             [
              0.7777777777777778,
              "#fb9f3a"
             ],
             [
              0.8888888888888888,
              "#fdca26"
             ],
             [
              1,
              "#f0f921"
             ]
            ],
            "type": "heatmapgl"
           }
          ],
          "histogram": [
           {
            "marker": {
             "pattern": {
              "fillmode": "overlay",
              "size": 10,
              "solidity": 0.2
             }
            },
            "type": "histogram"
           }
          ],
          "histogram2d": [
           {
            "colorbar": {
             "outlinewidth": 0,
             "ticks": ""
            },
            "colorscale": [
             [
              0,
              "#0d0887"
             ],
             [
              0.1111111111111111,
              "#46039f"
             ],
             [
              0.2222222222222222,
              "#7201a8"
             ],
             [
              0.3333333333333333,
              "#9c179e"
             ],
             [
              0.4444444444444444,
              "#bd3786"
             ],
             [
              0.5555555555555556,
              "#d8576b"
             ],
             [
              0.6666666666666666,
              "#ed7953"
             ],
             [
              0.7777777777777778,
              "#fb9f3a"
             ],
             [
              0.8888888888888888,
              "#fdca26"
             ],
             [
              1,
              "#f0f921"
             ]
            ],
            "type": "histogram2d"
           }
          ],
          "histogram2dcontour": [
           {
            "colorbar": {
             "outlinewidth": 0,
             "ticks": ""
            },
            "colorscale": [
             [
              0,
              "#0d0887"
             ],
             [
              0.1111111111111111,
              "#46039f"
             ],
             [
              0.2222222222222222,
              "#7201a8"
             ],
             [
              0.3333333333333333,
              "#9c179e"
             ],
             [
              0.4444444444444444,
              "#bd3786"
             ],
             [
              0.5555555555555556,
              "#d8576b"
             ],
             [
              0.6666666666666666,
              "#ed7953"
             ],
             [
              0.7777777777777778,
              "#fb9f3a"
             ],
             [
              0.8888888888888888,
              "#fdca26"
             ],
             [
              1,
              "#f0f921"
             ]
            ],
            "type": "histogram2dcontour"
           }
          ],
          "mesh3d": [
           {
            "colorbar": {
             "outlinewidth": 0,
             "ticks": ""
            },
            "type": "mesh3d"
           }
          ],
          "parcoords": [
           {
            "line": {
             "colorbar": {
              "outlinewidth": 0,
              "ticks": ""
             }
            },
            "type": "parcoords"
           }
          ],
          "pie": [
           {
            "automargin": true,
            "type": "pie"
           }
          ],
          "scatter": [
           {
            "fillpattern": {
             "fillmode": "overlay",
             "size": 10,
             "solidity": 0.2
            },
            "type": "scatter"
           }
          ],
          "scatter3d": [
           {
            "line": {
             "colorbar": {
              "outlinewidth": 0,
              "ticks": ""
             }
            },
            "marker": {
             "colorbar": {
              "outlinewidth": 0,
              "ticks": ""
             }
            },
            "type": "scatter3d"
           }
          ],
          "scattercarpet": [
           {
            "marker": {
             "colorbar": {
              "outlinewidth": 0,
              "ticks": ""
             }
            },
            "type": "scattercarpet"
           }
          ],
          "scattergeo": [
           {
            "marker": {
             "colorbar": {
              "outlinewidth": 0,
              "ticks": ""
             }
            },
            "type": "scattergeo"
           }
          ],
          "scattergl": [
           {
            "marker": {
             "colorbar": {
              "outlinewidth": 0,
              "ticks": ""
             }
            },
            "type": "scattergl"
           }
          ],
          "scattermapbox": [
           {
            "marker": {
             "colorbar": {
              "outlinewidth": 0,
              "ticks": ""
             }
            },
            "type": "scattermapbox"
           }
          ],
          "scatterpolar": [
           {
            "marker": {
             "colorbar": {
              "outlinewidth": 0,
              "ticks": ""
             }
            },
            "type": "scatterpolar"
           }
          ],
          "scatterpolargl": [
           {
            "marker": {
             "colorbar": {
              "outlinewidth": 0,
              "ticks": ""
             }
            },
            "type": "scatterpolargl"
           }
          ],
          "scatterternary": [
           {
            "marker": {
             "colorbar": {
              "outlinewidth": 0,
              "ticks": ""
             }
            },
            "type": "scatterternary"
           }
          ],
          "surface": [
           {
            "colorbar": {
             "outlinewidth": 0,
             "ticks": ""
            },
            "colorscale": [
             [
              0,
              "#0d0887"
             ],
             [
              0.1111111111111111,
              "#46039f"
             ],
             [
              0.2222222222222222,
              "#7201a8"
             ],
             [
              0.3333333333333333,
              "#9c179e"
             ],
             [
              0.4444444444444444,
              "#bd3786"
             ],
             [
              0.5555555555555556,
              "#d8576b"
             ],
             [
              0.6666666666666666,
              "#ed7953"
             ],
             [
              0.7777777777777778,
              "#fb9f3a"
             ],
             [
              0.8888888888888888,
              "#fdca26"
             ],
             [
              1,
              "#f0f921"
             ]
            ],
            "type": "surface"
           }
          ],
          "table": [
           {
            "cells": {
             "fill": {
              "color": "#EBF0F8"
             },
             "line": {
              "color": "white"
             }
            },
            "header": {
             "fill": {
              "color": "#C8D4E3"
             },
             "line": {
              "color": "white"
             }
            },
            "type": "table"
           }
          ]
         },
         "layout": {
          "annotationdefaults": {
           "arrowcolor": "#2a3f5f",
           "arrowhead": 0,
           "arrowwidth": 1
          },
          "autotypenumbers": "strict",
          "coloraxis": {
           "colorbar": {
            "outlinewidth": 0,
            "ticks": ""
           }
          },
          "colorscale": {
           "diverging": [
            [
             0,
             "#8e0152"
            ],
            [
             0.1,
             "#c51b7d"
            ],
            [
             0.2,
             "#de77ae"
            ],
            [
             0.3,
             "#f1b6da"
            ],
            [
             0.4,
             "#fde0ef"
            ],
            [
             0.5,
             "#f7f7f7"
            ],
            [
             0.6,
             "#e6f5d0"
            ],
            [
             0.7,
             "#b8e186"
            ],
            [
             0.8,
             "#7fbc41"
            ],
            [
             0.9,
             "#4d9221"
            ],
            [
             1,
             "#276419"
            ]
           ],
           "sequential": [
            [
             0,
             "#0d0887"
            ],
            [
             0.1111111111111111,
             "#46039f"
            ],
            [
             0.2222222222222222,
             "#7201a8"
            ],
            [
             0.3333333333333333,
             "#9c179e"
            ],
            [
             0.4444444444444444,
             "#bd3786"
            ],
            [
             0.5555555555555556,
             "#d8576b"
            ],
            [
             0.6666666666666666,
             "#ed7953"
            ],
            [
             0.7777777777777778,
             "#fb9f3a"
            ],
            [
             0.8888888888888888,
             "#fdca26"
            ],
            [
             1,
             "#f0f921"
            ]
           ],
           "sequentialminus": [
            [
             0,
             "#0d0887"
            ],
            [
             0.1111111111111111,
             "#46039f"
            ],
            [
             0.2222222222222222,
             "#7201a8"
            ],
            [
             0.3333333333333333,
             "#9c179e"
            ],
            [
             0.4444444444444444,
             "#bd3786"
            ],
            [
             0.5555555555555556,
             "#d8576b"
            ],
            [
             0.6666666666666666,
             "#ed7953"
            ],
            [
             0.7777777777777778,
             "#fb9f3a"
            ],
            [
             0.8888888888888888,
             "#fdca26"
            ],
            [
             1,
             "#f0f921"
            ]
           ]
          },
          "colorway": [
           "#636efa",
           "#EF553B",
           "#00cc96",
           "#ab63fa",
           "#FFA15A",
           "#19d3f3",
           "#FF6692",
           "#B6E880",
           "#FF97FF",
           "#FECB52"
          ],
          "font": {
           "color": "#2a3f5f"
          },
          "geo": {
           "bgcolor": "white",
           "lakecolor": "white",
           "landcolor": "white",
           "showlakes": true,
           "showland": true,
           "subunitcolor": "#C8D4E3"
          },
          "hoverlabel": {
           "align": "left"
          },
          "hovermode": "closest",
          "mapbox": {
           "style": "light"
          },
          "paper_bgcolor": "white",
          "plot_bgcolor": "white",
          "polar": {
           "angularaxis": {
            "gridcolor": "#EBF0F8",
            "linecolor": "#EBF0F8",
            "ticks": ""
           },
           "bgcolor": "white",
           "radialaxis": {
            "gridcolor": "#EBF0F8",
            "linecolor": "#EBF0F8",
            "ticks": ""
           }
          },
          "scene": {
           "xaxis": {
            "backgroundcolor": "white",
            "gridcolor": "#DFE8F3",
            "gridwidth": 2,
            "linecolor": "#EBF0F8",
            "showbackground": true,
            "ticks": "",
            "zerolinecolor": "#EBF0F8"
           },
           "yaxis": {
            "backgroundcolor": "white",
            "gridcolor": "#DFE8F3",
            "gridwidth": 2,
            "linecolor": "#EBF0F8",
            "showbackground": true,
            "ticks": "",
            "zerolinecolor": "#EBF0F8"
           },
           "zaxis": {
            "backgroundcolor": "white",
            "gridcolor": "#DFE8F3",
            "gridwidth": 2,
            "linecolor": "#EBF0F8",
            "showbackground": true,
            "ticks": "",
            "zerolinecolor": "#EBF0F8"
           }
          },
          "shapedefaults": {
           "line": {
            "color": "#2a3f5f"
           }
          },
          "ternary": {
           "aaxis": {
            "gridcolor": "#DFE8F3",
            "linecolor": "#A2B1C6",
            "ticks": ""
           },
           "baxis": {
            "gridcolor": "#DFE8F3",
            "linecolor": "#A2B1C6",
            "ticks": ""
           },
           "bgcolor": "white",
           "caxis": {
            "gridcolor": "#DFE8F3",
            "linecolor": "#A2B1C6",
            "ticks": ""
           }
          },
          "title": {
           "x": 0.05
          },
          "xaxis": {
           "automargin": true,
           "gridcolor": "#EBF0F8",
           "linecolor": "#EBF0F8",
           "ticks": "",
           "title": {
            "standoff": 15
           },
           "zerolinecolor": "#EBF0F8",
           "zerolinewidth": 2
          },
          "yaxis": {
           "automargin": true,
           "gridcolor": "#EBF0F8",
           "linecolor": "#EBF0F8",
           "ticks": "",
           "title": {
            "standoff": 15
           },
           "zerolinecolor": "#EBF0F8",
           "zerolinewidth": 2
          }
         }
        },
        "title": {
         "text": "Potential revenue for a 1 hour battery in 2022"
        },
        "width": 1200,
        "xaxis": {
         "anchor": "y",
         "domain": [
          0,
          1
         ],
         "tickangle": -45
        },
        "xaxis2": {
         "anchor": "y2",
         "domain": [
          0,
          1
         ],
         "tickangle": -45
        },
        "yaxis": {
         "anchor": "x",
         "domain": [
          0.625,
          1
         ],
         "title": {
          "text": "k€/MW"
         }
        },
        "yaxis2": {
         "anchor": "x2",
         "domain": [
          0,
          0.375
         ],
         "title": {
          "text": "k€/MW"
         }
        }
       }
      }
     },
     "metadata": {},
     "output_type": "display_data"
    }
   ],
   "source": [
    "fig = make_subplots(\n",
    "    rows=2, cols=1,\n",
    "    shared_yaxes=True,\n",
    "    subplot_titles=('Single cycle', 'Dual cycle')\n",
    ")\n",
    "\n",
    "fig.add_trace(go.Bar(\n",
    "    x=cycle_1_hour_1_rev.index,\n",
    "    y=cycle_1_hour_1_rev.values/1000,\n",
    "    marker=dict(color=cycle_1_hour_1_rev.values, colorscale='inferno')\n",
    "), row=1, col=1)\n",
    "\n",
    "fig.add_trace(go.Bar(\n",
    "    x=cycle_2_hour_1_rev.index,\n",
    "    y=cycle_2_hour_1_rev.values/1000,\n",
    "    marker=dict(color=cycle_2_hour_1_rev.values, colorscale='inferno'),\n",
    "), row=2, col=1)\n",
    "\n",
    "fig.update_yaxes(title='k€/MW')\n",
    "fig.update_xaxes(tickangle=-45)\n",
    "fig.update_traces(texttemplate='%{value: .3r}', textangle=270)\n",
    "fig.update_coloraxes(showscale=False)\n",
    "fig.update_layout(\n",
    "    title='Potential revenue for a 1 hour battery in 2022',\n",
    "    yaxis_title='k€/MW',\n",
    "    showlegend=False,\n",
    "    template='plotly_white',\n",
    "    width=1200,\n",
    "    height=600\n",
    ")\n",
    "\n",
    "fig.write_image('../figures/1-hour-potential-rev.jpeg', scale=5, engine='orca')\n",
    "fig"
   ]
  },
  {
   "cell_type": "code",
   "execution_count": 253,
   "metadata": {},
   "outputs": [
    {
     "data": {
      "application/vnd.plotly.v1+json": {
       "config": {
        "plotlyServerURL": "https://plot.ly"
       },
       "data": [
        {
         "marker": {
          "color": [
           65516.76000000001,
           58719.98999999999,
           56765.93000000001,
           56048.55,
           55482.23000000001,
           55119.70999999999,
           54889.32000000001,
           54271.7,
           53701.8,
           53467.39000000003,
           52114.87999999999,
           49484.65999999999,
           49459.67,
           49011.17,
           48427.17999999999,
           48341.73999999999,
           46217.34,
           45873.29999999999,
           45353.42999999999,
           45200.67999999999,
           43560.140000000014,
           41458.34,
           39566.18,
           37493.06,
           36879.05,
           36227.82,
           25033.630000000005,
           24701.92,
           21415.789999999994,
           18746.550000000003,
           17954.319999999992,
           13614.780000000004,
           13168.000000000002,
           7345.610000000001,
           4384.810000000001
          ],
          "colorscale": [
           [
            0,
            "rgb(51, 19, 23)"
           ],
           [
            0.09090909090909091,
            "rgb(79, 28, 33)"
           ],
           [
            0.18181818181818182,
            "rgb(108, 36, 36)"
           ],
           [
            0.2727272727272727,
            "rgb(135, 47, 32)"
           ],
           [
            0.36363636363636365,
            "rgb(157, 66, 25)"
           ],
           [
            0.45454545454545453,
            "rgb(174, 88, 20)"
           ],
           [
            0.5454545454545454,
            "rgb(188, 111, 19)"
           ],
           [
            0.6363636363636364,
            "rgb(199, 137, 22)"
           ],
           [
            0.7272727272727273,
            "rgb(209, 164, 32)"
           ],
           [
            0.8181818181818182,
            "rgb(217, 192, 44)"
           ],
           [
            0.9090909090909091,
            "rgb(222, 222, 59)"
           ],
           [
            1,
            "rgb(224, 253, 74)"
           ]
          ]
         },
         "textangle": -90,
         "texttemplate": "%{value: .3r}",
         "type": "bar",
         "x": [
          "Romania",
          "Hungary",
          "Croatia",
          "Latvia",
          "Lithuania",
          "Serbia",
          "Estonia",
          "Slovenia",
          "GB",
          "Greece",
          "Finland",
          "Sweden 4",
          "Netherlands",
          "Sweden 3",
          "Czech",
          "France",
          "Belgium",
          "Austria",
          "Germany",
          "Italy",
          "Denmark 2",
          "De-Lu",
          "Denmark 1",
          "Switzerland",
          "Ireland",
          "Poland",
          "Spain",
          "Portugal",
          "Norway 2",
          "Norway 1",
          "Norway 5",
          "Sweden 2",
          "Sweden 1",
          "Norway 3",
          "Norway 4"
         ],
         "xaxis": "x",
         "y": [
          65.51676,
          58.71998999999999,
          56.765930000000004,
          56.048550000000006,
          55.48223000000001,
          55.11970999999999,
          54.889320000000005,
          54.271699999999996,
          53.701800000000006,
          53.46739000000003,
          52.11487999999999,
          49.48465999999999,
          49.459669999999996,
          49.01117,
          48.42717999999999,
          48.34173999999999,
          46.21733999999999,
          45.873299999999986,
          45.353429999999996,
          45.20067999999999,
          43.56014000000001,
          41.45834,
          39.56618,
          37.49306,
          36.87905,
          36.22782,
          25.033630000000006,
          24.701919999999998,
          21.415789999999994,
          18.746550000000003,
          17.954319999999992,
          13.614780000000005,
          13.168000000000001,
          7.345610000000001,
          4.384810000000002
         ],
         "yaxis": "y"
        },
        {
         "marker": {
          "color": [
           89586.43,
           81522.63,
           81390.12,
           80999.75000000003,
           80880.21000000002,
           79103.44,
           78962.77000000002,
           78823.34,
           76340.95000000001,
           76278.18000000002,
           75366.49999999997,
           74986,
           73978.49000000002,
           73937.35999999999,
           72586.77999999997,
           71091.18000000002,
           70932.63000000003,
           70359.88999999998,
           68307.51999999999,
           67791.77000000002,
           67426.92000000001,
           66273.51999999999,
           64923.52000000002,
           55283.32999999999,
           49620.100000000006,
           48572.07999999999,
           38757.32999999999,
           38216.80000000002,
           37599.54999999999,
           29457.089999999997,
           28434.889999999985,
           15624.470000000001,
           14882.849999999999,
           8549.240000000002,
           4771.649999999998
          ],
          "colorscale": [
           [
            0,
            "rgb(51, 19, 23)"
           ],
           [
            0.09090909090909091,
            "rgb(79, 28, 33)"
           ],
           [
            0.18181818181818182,
            "rgb(108, 36, 36)"
           ],
           [
            0.2727272727272727,
            "rgb(135, 47, 32)"
           ],
           [
            0.36363636363636365,
            "rgb(157, 66, 25)"
           ],
           [
            0.45454545454545453,
            "rgb(174, 88, 20)"
           ],
           [
            0.5454545454545454,
            "rgb(188, 111, 19)"
           ],
           [
            0.6363636363636364,
            "rgb(199, 137, 22)"
           ],
           [
            0.7272727272727273,
            "rgb(209, 164, 32)"
           ],
           [
            0.8181818181818182,
            "rgb(217, 192, 44)"
           ],
           [
            0.9090909090909091,
            "rgb(222, 222, 59)"
           ],
           [
            1,
            "rgb(224, 253, 74)"
           ]
          ]
         },
         "textangle": -90,
         "texttemplate": "%{value: .3r}",
         "type": "bar",
         "x": [
          "Romania",
          "Netherlands",
          "Hungary",
          "Lithuania",
          "Latvia",
          "Belgium",
          "Greece",
          "Germany",
          "Estonia",
          "Croatia",
          "Czech",
          "Denmark 2",
          "Slovenia",
          "Sweden 4",
          "GB",
          "France",
          "Serbia",
          "Denmark 1",
          "Sweden 3",
          "Italy",
          "Finland",
          "De-Lu",
          "Austria",
          "Switzerland",
          "Poland",
          "Ireland",
          "Spain",
          "Portugal",
          "Norway 2",
          "Norway 1",
          "Norway 5",
          "Sweden 2",
          "Sweden 1",
          "Norway 3",
          "Norway 4"
         ],
         "xaxis": "x2",
         "y": [
          89.58643,
          81.52263,
          81.39012,
          80.99975000000003,
          80.88021000000002,
          79.10344,
          78.96277000000002,
          78.82334,
          76.34095,
          76.27818000000002,
          75.36649999999997,
          74.986,
          73.97849000000002,
          73.93735999999998,
          72.58677999999998,
          71.09118000000002,
          70.93263000000003,
          70.35988999999998,
          68.30751999999998,
          67.79177000000001,
          67.42692000000001,
          66.27351999999999,
          64.92352000000002,
          55.283329999999985,
          49.62010000000001,
          48.572079999999985,
          38.75732999999999,
          38.21680000000002,
          37.59954999999999,
          29.457089999999997,
          28.434889999999985,
          15.62447,
          14.882849999999998,
          8.549240000000001,
          4.7716499999999975
         ],
         "yaxis": "y2"
        }
       ],
       "layout": {
        "annotations": [
         {
          "font": {
           "size": 16
          },
          "showarrow": false,
          "text": "Single cycle",
          "x": 0.5,
          "xanchor": "center",
          "xref": "paper",
          "y": 1,
          "yanchor": "bottom",
          "yref": "paper"
         },
         {
          "font": {
           "size": 16
          },
          "showarrow": false,
          "text": "Dual cycle",
          "x": 0.5,
          "xanchor": "center",
          "xref": "paper",
          "y": 0.375,
          "yanchor": "bottom",
          "yref": "paper"
         }
        ],
        "coloraxis": {
         "showscale": false
        },
        "height": 600,
        "showlegend": false,
        "template": {
         "data": {
          "bar": [
           {
            "error_x": {
             "color": "#2a3f5f"
            },
            "error_y": {
             "color": "#2a3f5f"
            },
            "marker": {
             "line": {
              "color": "white",
              "width": 0.5
             },
             "pattern": {
              "fillmode": "overlay",
              "size": 10,
              "solidity": 0.2
             }
            },
            "type": "bar"
           }
          ],
          "barpolar": [
           {
            "marker": {
             "line": {
              "color": "white",
              "width": 0.5
             },
             "pattern": {
              "fillmode": "overlay",
              "size": 10,
              "solidity": 0.2
             }
            },
            "type": "barpolar"
           }
          ],
          "carpet": [
           {
            "aaxis": {
             "endlinecolor": "#2a3f5f",
             "gridcolor": "#C8D4E3",
             "linecolor": "#C8D4E3",
             "minorgridcolor": "#C8D4E3",
             "startlinecolor": "#2a3f5f"
            },
            "baxis": {
             "endlinecolor": "#2a3f5f",
             "gridcolor": "#C8D4E3",
             "linecolor": "#C8D4E3",
             "minorgridcolor": "#C8D4E3",
             "startlinecolor": "#2a3f5f"
            },
            "type": "carpet"
           }
          ],
          "choropleth": [
           {
            "colorbar": {
             "outlinewidth": 0,
             "ticks": ""
            },
            "type": "choropleth"
           }
          ],
          "contour": [
           {
            "colorbar": {
             "outlinewidth": 0,
             "ticks": ""
            },
            "colorscale": [
             [
              0,
              "#0d0887"
             ],
             [
              0.1111111111111111,
              "#46039f"
             ],
             [
              0.2222222222222222,
              "#7201a8"
             ],
             [
              0.3333333333333333,
              "#9c179e"
             ],
             [
              0.4444444444444444,
              "#bd3786"
             ],
             [
              0.5555555555555556,
              "#d8576b"
             ],
             [
              0.6666666666666666,
              "#ed7953"
             ],
             [
              0.7777777777777778,
              "#fb9f3a"
             ],
             [
              0.8888888888888888,
              "#fdca26"
             ],
             [
              1,
              "#f0f921"
             ]
            ],
            "type": "contour"
           }
          ],
          "contourcarpet": [
           {
            "colorbar": {
             "outlinewidth": 0,
             "ticks": ""
            },
            "type": "contourcarpet"
           }
          ],
          "heatmap": [
           {
            "colorbar": {
             "outlinewidth": 0,
             "ticks": ""
            },
            "colorscale": [
             [
              0,
              "#0d0887"
             ],
             [
              0.1111111111111111,
              "#46039f"
             ],
             [
              0.2222222222222222,
              "#7201a8"
             ],
             [
              0.3333333333333333,
              "#9c179e"
             ],
             [
              0.4444444444444444,
              "#bd3786"
             ],
             [
              0.5555555555555556,
              "#d8576b"
             ],
             [
              0.6666666666666666,
              "#ed7953"
             ],
             [
              0.7777777777777778,
              "#fb9f3a"
             ],
             [
              0.8888888888888888,
              "#fdca26"
             ],
             [
              1,
              "#f0f921"
             ]
            ],
            "type": "heatmap"
           }
          ],
          "heatmapgl": [
           {
            "colorbar": {
             "outlinewidth": 0,
             "ticks": ""
            },
            "colorscale": [
             [
              0,
              "#0d0887"
             ],
             [
              0.1111111111111111,
              "#46039f"
             ],
             [
              0.2222222222222222,
              "#7201a8"
             ],
             [
              0.3333333333333333,
              "#9c179e"
             ],
             [
              0.4444444444444444,
              "#bd3786"
             ],
             [
              0.5555555555555556,
              "#d8576b"
             ],
             [
              0.6666666666666666,
              "#ed7953"
             ],
             [
              0.7777777777777778,
              "#fb9f3a"
             ],
             [
              0.8888888888888888,
              "#fdca26"
             ],
             [
              1,
              "#f0f921"
             ]
            ],
            "type": "heatmapgl"
           }
          ],
          "histogram": [
           {
            "marker": {
             "pattern": {
              "fillmode": "overlay",
              "size": 10,
              "solidity": 0.2
             }
            },
            "type": "histogram"
           }
          ],
          "histogram2d": [
           {
            "colorbar": {
             "outlinewidth": 0,
             "ticks": ""
            },
            "colorscale": [
             [
              0,
              "#0d0887"
             ],
             [
              0.1111111111111111,
              "#46039f"
             ],
             [
              0.2222222222222222,
              "#7201a8"
             ],
             [
              0.3333333333333333,
              "#9c179e"
             ],
             [
              0.4444444444444444,
              "#bd3786"
             ],
             [
              0.5555555555555556,
              "#d8576b"
             ],
             [
              0.6666666666666666,
              "#ed7953"
             ],
             [
              0.7777777777777778,
              "#fb9f3a"
             ],
             [
              0.8888888888888888,
              "#fdca26"
             ],
             [
              1,
              "#f0f921"
             ]
            ],
            "type": "histogram2d"
           }
          ],
          "histogram2dcontour": [
           {
            "colorbar": {
             "outlinewidth": 0,
             "ticks": ""
            },
            "colorscale": [
             [
              0,
              "#0d0887"
             ],
             [
              0.1111111111111111,
              "#46039f"
             ],
             [
              0.2222222222222222,
              "#7201a8"
             ],
             [
              0.3333333333333333,
              "#9c179e"
             ],
             [
              0.4444444444444444,
              "#bd3786"
             ],
             [
              0.5555555555555556,
              "#d8576b"
             ],
             [
              0.6666666666666666,
              "#ed7953"
             ],
             [
              0.7777777777777778,
              "#fb9f3a"
             ],
             [
              0.8888888888888888,
              "#fdca26"
             ],
             [
              1,
              "#f0f921"
             ]
            ],
            "type": "histogram2dcontour"
           }
          ],
          "mesh3d": [
           {
            "colorbar": {
             "outlinewidth": 0,
             "ticks": ""
            },
            "type": "mesh3d"
           }
          ],
          "parcoords": [
           {
            "line": {
             "colorbar": {
              "outlinewidth": 0,
              "ticks": ""
             }
            },
            "type": "parcoords"
           }
          ],
          "pie": [
           {
            "automargin": true,
            "type": "pie"
           }
          ],
          "scatter": [
           {
            "fillpattern": {
             "fillmode": "overlay",
             "size": 10,
             "solidity": 0.2
            },
            "type": "scatter"
           }
          ],
          "scatter3d": [
           {
            "line": {
             "colorbar": {
              "outlinewidth": 0,
              "ticks": ""
             }
            },
            "marker": {
             "colorbar": {
              "outlinewidth": 0,
              "ticks": ""
             }
            },
            "type": "scatter3d"
           }
          ],
          "scattercarpet": [
           {
            "marker": {
             "colorbar": {
              "outlinewidth": 0,
              "ticks": ""
             }
            },
            "type": "scattercarpet"
           }
          ],
          "scattergeo": [
           {
            "marker": {
             "colorbar": {
              "outlinewidth": 0,
              "ticks": ""
             }
            },
            "type": "scattergeo"
           }
          ],
          "scattergl": [
           {
            "marker": {
             "colorbar": {
              "outlinewidth": 0,
              "ticks": ""
             }
            },
            "type": "scattergl"
           }
          ],
          "scattermapbox": [
           {
            "marker": {
             "colorbar": {
              "outlinewidth": 0,
              "ticks": ""
             }
            },
            "type": "scattermapbox"
           }
          ],
          "scatterpolar": [
           {
            "marker": {
             "colorbar": {
              "outlinewidth": 0,
              "ticks": ""
             }
            },
            "type": "scatterpolar"
           }
          ],
          "scatterpolargl": [
           {
            "marker": {
             "colorbar": {
              "outlinewidth": 0,
              "ticks": ""
             }
            },
            "type": "scatterpolargl"
           }
          ],
          "scatterternary": [
           {
            "marker": {
             "colorbar": {
              "outlinewidth": 0,
              "ticks": ""
             }
            },
            "type": "scatterternary"
           }
          ],
          "surface": [
           {
            "colorbar": {
             "outlinewidth": 0,
             "ticks": ""
            },
            "colorscale": [
             [
              0,
              "#0d0887"
             ],
             [
              0.1111111111111111,
              "#46039f"
             ],
             [
              0.2222222222222222,
              "#7201a8"
             ],
             [
              0.3333333333333333,
              "#9c179e"
             ],
             [
              0.4444444444444444,
              "#bd3786"
             ],
             [
              0.5555555555555556,
              "#d8576b"
             ],
             [
              0.6666666666666666,
              "#ed7953"
             ],
             [
              0.7777777777777778,
              "#fb9f3a"
             ],
             [
              0.8888888888888888,
              "#fdca26"
             ],
             [
              1,
              "#f0f921"
             ]
            ],
            "type": "surface"
           }
          ],
          "table": [
           {
            "cells": {
             "fill": {
              "color": "#EBF0F8"
             },
             "line": {
              "color": "white"
             }
            },
            "header": {
             "fill": {
              "color": "#C8D4E3"
             },
             "line": {
              "color": "white"
             }
            },
            "type": "table"
           }
          ]
         },
         "layout": {
          "annotationdefaults": {
           "arrowcolor": "#2a3f5f",
           "arrowhead": 0,
           "arrowwidth": 1
          },
          "autotypenumbers": "strict",
          "coloraxis": {
           "colorbar": {
            "outlinewidth": 0,
            "ticks": ""
           }
          },
          "colorscale": {
           "diverging": [
            [
             0,
             "#8e0152"
            ],
            [
             0.1,
             "#c51b7d"
            ],
            [
             0.2,
             "#de77ae"
            ],
            [
             0.3,
             "#f1b6da"
            ],
            [
             0.4,
             "#fde0ef"
            ],
            [
             0.5,
             "#f7f7f7"
            ],
            [
             0.6,
             "#e6f5d0"
            ],
            [
             0.7,
             "#b8e186"
            ],
            [
             0.8,
             "#7fbc41"
            ],
            [
             0.9,
             "#4d9221"
            ],
            [
             1,
             "#276419"
            ]
           ],
           "sequential": [
            [
             0,
             "#0d0887"
            ],
            [
             0.1111111111111111,
             "#46039f"
            ],
            [
             0.2222222222222222,
             "#7201a8"
            ],
            [
             0.3333333333333333,
             "#9c179e"
            ],
            [
             0.4444444444444444,
             "#bd3786"
            ],
            [
             0.5555555555555556,
             "#d8576b"
            ],
            [
             0.6666666666666666,
             "#ed7953"
            ],
            [
             0.7777777777777778,
             "#fb9f3a"
            ],
            [
             0.8888888888888888,
             "#fdca26"
            ],
            [
             1,
             "#f0f921"
            ]
           ],
           "sequentialminus": [
            [
             0,
             "#0d0887"
            ],
            [
             0.1111111111111111,
             "#46039f"
            ],
            [
             0.2222222222222222,
             "#7201a8"
            ],
            [
             0.3333333333333333,
             "#9c179e"
            ],
            [
             0.4444444444444444,
             "#bd3786"
            ],
            [
             0.5555555555555556,
             "#d8576b"
            ],
            [
             0.6666666666666666,
             "#ed7953"
            ],
            [
             0.7777777777777778,
             "#fb9f3a"
            ],
            [
             0.8888888888888888,
             "#fdca26"
            ],
            [
             1,
             "#f0f921"
            ]
           ]
          },
          "colorway": [
           "#636efa",
           "#EF553B",
           "#00cc96",
           "#ab63fa",
           "#FFA15A",
           "#19d3f3",
           "#FF6692",
           "#B6E880",
           "#FF97FF",
           "#FECB52"
          ],
          "font": {
           "color": "#2a3f5f"
          },
          "geo": {
           "bgcolor": "white",
           "lakecolor": "white",
           "landcolor": "white",
           "showlakes": true,
           "showland": true,
           "subunitcolor": "#C8D4E3"
          },
          "hoverlabel": {
           "align": "left"
          },
          "hovermode": "closest",
          "mapbox": {
           "style": "light"
          },
          "paper_bgcolor": "white",
          "plot_bgcolor": "white",
          "polar": {
           "angularaxis": {
            "gridcolor": "#EBF0F8",
            "linecolor": "#EBF0F8",
            "ticks": ""
           },
           "bgcolor": "white",
           "radialaxis": {
            "gridcolor": "#EBF0F8",
            "linecolor": "#EBF0F8",
            "ticks": ""
           }
          },
          "scene": {
           "xaxis": {
            "backgroundcolor": "white",
            "gridcolor": "#DFE8F3",
            "gridwidth": 2,
            "linecolor": "#EBF0F8",
            "showbackground": true,
            "ticks": "",
            "zerolinecolor": "#EBF0F8"
           },
           "yaxis": {
            "backgroundcolor": "white",
            "gridcolor": "#DFE8F3",
            "gridwidth": 2,
            "linecolor": "#EBF0F8",
            "showbackground": true,
            "ticks": "",
            "zerolinecolor": "#EBF0F8"
           },
           "zaxis": {
            "backgroundcolor": "white",
            "gridcolor": "#DFE8F3",
            "gridwidth": 2,
            "linecolor": "#EBF0F8",
            "showbackground": true,
            "ticks": "",
            "zerolinecolor": "#EBF0F8"
           }
          },
          "shapedefaults": {
           "line": {
            "color": "#2a3f5f"
           }
          },
          "ternary": {
           "aaxis": {
            "gridcolor": "#DFE8F3",
            "linecolor": "#A2B1C6",
            "ticks": ""
           },
           "baxis": {
            "gridcolor": "#DFE8F3",
            "linecolor": "#A2B1C6",
            "ticks": ""
           },
           "bgcolor": "white",
           "caxis": {
            "gridcolor": "#DFE8F3",
            "linecolor": "#A2B1C6",
            "ticks": ""
           }
          },
          "title": {
           "x": 0.05
          },
          "xaxis": {
           "automargin": true,
           "gridcolor": "#EBF0F8",
           "linecolor": "#EBF0F8",
           "ticks": "",
           "title": {
            "standoff": 15
           },
           "zerolinecolor": "#EBF0F8",
           "zerolinewidth": 2
          },
          "yaxis": {
           "automargin": true,
           "gridcolor": "#EBF0F8",
           "linecolor": "#EBF0F8",
           "ticks": "",
           "title": {
            "standoff": 15
           },
           "zerolinecolor": "#EBF0F8",
           "zerolinewidth": 2
          }
         }
        },
        "title": {
         "text": "Revenue for a 2 hour battery with preset flow hours in 2022"
        },
        "width": 1200,
        "xaxis": {
         "anchor": "y",
         "domain": [
          0,
          1
         ],
         "tickangle": -45
        },
        "xaxis2": {
         "anchor": "y2",
         "domain": [
          0,
          1
         ],
         "tickangle": -45
        },
        "yaxis": {
         "anchor": "x",
         "domain": [
          0.625,
          1
         ],
         "title": {
          "text": "k€/MW"
         }
        },
        "yaxis2": {
         "anchor": "x2",
         "domain": [
          0,
          0.375
         ],
         "title": {
          "text": "k€/MW"
         }
        }
       }
      }
     },
     "metadata": {},
     "output_type": "display_data"
    }
   ],
   "source": [
    "fig = make_subplots(\n",
    "    rows=2, cols=1,\n",
    "    shared_yaxes=True,\n",
    "    subplot_titles=('Single cycle', 'Dual cycle')\n",
    ")\n",
    "\n",
    "fig.add_trace(go.Bar(\n",
    "    x=cycle_1_hour_2_rev_preset.index,\n",
    "    y=cycle_1_hour_2_rev_preset.values/1000,\n",
    "    marker=dict(color=cycle_1_hour_2_rev_preset.values, colorscale='solar'),\n",
    "), row=1, col=1)\n",
    "\n",
    "fig.add_trace(go.Bar(\n",
    "    x=cycle_2_hour_2_rev_preset.index,\n",
    "    y=cycle_2_hour_2_rev_preset.values.reshape(-1)/1000,\n",
    "    marker=dict(color=cycle_2_hour_2_rev_preset.values.reshape(-1), colorscale='solar'),\n",
    "), row=2, col=1)\n",
    "\n",
    "fig.update_xaxes(tickangle=-45)\n",
    "fig.update_yaxes(title='k€/MW')\n",
    "fig.update_traces(texttemplate='%{value: .3r}', textangle=270)\n",
    "fig.update_coloraxes(showscale=False)\n",
    "fig.update_layout(\n",
    "    title='Revenue for a 2 hour battery with preset flow hours in 2022',\n",
    "    showlegend=False,\n",
    "    template='plotly_white',\n",
    "    width=1200,\n",
    "    height=600\n",
    ")\n",
    "\n",
    "fig.write_image('../figures/1-hour-rev.jpeg', scale=5, engine='orca')\n",
    "fig"
   ]
  },
  {
   "cell_type": "code",
   "execution_count": 254,
   "metadata": {},
   "outputs": [
    {
     "data": {
      "application/vnd.plotly.v1+json": {
       "config": {
        "plotlyServerURL": "https://plot.ly"
       },
       "data": [
        {
         "marker": {
          "color": [
           122265.95999999999,
           109157.07,
           106434.90999999999,
           105627.40000000002,
           105086.52000000002,
           103918.12999999998,
           103527.62999999998,
           102684.69999999998,
           100640.19999999998,
           100491.01000000001,
           98996.23000000001,
           98068.83999999998,
           94899.09,
           93562.84,
           90023.45999999999,
           89933.57,
           86047.09000000003,
           85339.85999999999,
           85073.47000000003,
           83651.41,
           81789.70999999999,
           78160.32999999999,
           73885.56,
           71850.68,
           71367.99999999997,
           71004.23000000001,
           48371.17,
           47751.59,
           41564.46000000002,
           35412.23000000001,
           33843.509999999995,
           26745.429999999993,
           25484.860000000008,
           14069.019999999993,
           8627.909999999996
          ],
          "colorscale": [
           [
            0,
            "rgb(51, 19, 23)"
           ],
           [
            0.09090909090909091,
            "rgb(79, 28, 33)"
           ],
           [
            0.18181818181818182,
            "rgb(108, 36, 36)"
           ],
           [
            0.2727272727272727,
            "rgb(135, 47, 32)"
           ],
           [
            0.36363636363636365,
            "rgb(157, 66, 25)"
           ],
           [
            0.45454545454545453,
            "rgb(174, 88, 20)"
           ],
           [
            0.5454545454545454,
            "rgb(188, 111, 19)"
           ],
           [
            0.6363636363636364,
            "rgb(199, 137, 22)"
           ],
           [
            0.7272727272727273,
            "rgb(209, 164, 32)"
           ],
           [
            0.8181818181818182,
            "rgb(217, 192, 44)"
           ],
           [
            0.9090909090909091,
            "rgb(222, 222, 59)"
           ],
           [
            1,
            "rgb(224, 253, 74)"
           ]
          ]
         },
         "textangle": -90,
         "texttemplate": "%{value: .3r}",
         "type": "bar",
         "x": [
          "Romania",
          "Hungary",
          "Estonia",
          "Latvia",
          "Croatia",
          "Serbia",
          "Lithuania",
          "GB",
          "Finland",
          "Slovenia",
          "Greece",
          "Sweden 4",
          "Sweden 3",
          "Netherlands",
          "France",
          "Czech",
          "Belgium",
          "Austria",
          "Italy",
          "Germany",
          "Denmark 2",
          "De-Lu",
          "Denmark 1",
          "Poland",
          "Ireland",
          "Switzerland",
          "Spain",
          "Portugal",
          "Norway 2",
          "Norway 1",
          "Norway 5",
          "Sweden 2",
          "Sweden 1",
          "Norway 3",
          "Norway 4"
         ],
         "xaxis": "x",
         "y": [
          122.26595999999999,
          109.15707,
          106.43490999999999,
          105.62740000000002,
          105.08652000000002,
          103.91812999999998,
          103.52762999999997,
          102.68469999999998,
          100.64019999999998,
          100.49101,
          98.99623000000001,
          98.06883999999998,
          94.89909,
          93.56284,
          90.02345999999999,
          89.93357,
          86.04709000000003,
          85.33985999999999,
          85.07347000000003,
          83.65141,
          81.78970999999999,
          78.16032999999999,
          73.88556,
          71.85068,
          71.36799999999997,
          71.00423,
          48.37117,
          47.75158999999999,
          41.56446000000002,
          35.41223000000001,
          33.843509999999995,
          26.745429999999992,
          25.48486000000001,
          14.069019999999993,
          8.627909999999996
         ],
         "yaxis": "y"
        },
        {
         "marker": {
          "color": [
           167740.91999999998,
           154473.69,
           152026.51,
           151910.35000000003,
           151203.16000000003,
           148824.17000000004,
           147985.57000000007,
           146825.94000000006,
           144067.19,
           141544.86,
           141253.27,
           140617,
           140135.54000000004,
           136589.51,
           136507.05,
           132450.91000000003,
           131854.59000000003,
           129589.57999999996,
           129459.28,
           127576.53,
           124151.98999999999,
           122916.79000000004,
           120721.43000000005,
           103073.66000000003,
           95016.17000000001,
           93277.09000000003,
           73965.40999999997,
           72975.48999999996,
           70328.01000000001,
           55436.929999999935,
           53793.919999999984,
           30279.350000000006,
           28385.979999999996,
           16095.330000000002,
           8989.559999999998
          ],
          "colorscale": [
           [
            0,
            "rgb(51, 19, 23)"
           ],
           [
            0.09090909090909091,
            "rgb(79, 28, 33)"
           ],
           [
            0.18181818181818182,
            "rgb(108, 36, 36)"
           ],
           [
            0.2727272727272727,
            "rgb(135, 47, 32)"
           ],
           [
            0.36363636363636365,
            "rgb(157, 66, 25)"
           ],
           [
            0.45454545454545453,
            "rgb(174, 88, 20)"
           ],
           [
            0.5454545454545454,
            "rgb(188, 111, 19)"
           ],
           [
            0.6363636363636364,
            "rgb(199, 137, 22)"
           ],
           [
            0.7272727272727273,
            "rgb(209, 164, 32)"
           ],
           [
            0.8181818181818182,
            "rgb(217, 192, 44)"
           ],
           [
            0.9090909090909091,
            "rgb(222, 222, 59)"
           ],
           [
            1,
            "rgb(224, 253, 74)"
           ]
          ]
         },
         "textangle": -90,
         "texttemplate": "%{value: .3r}",
         "type": "bar",
         "x": [
          "Romania",
          "Netherlands",
          "Hungary",
          "Latvia",
          "Lithuania",
          "Belgium",
          "Germany",
          "Estonia",
          "Greece",
          "Czech",
          "Sweden 4",
          "Croatia",
          "Denmark 2",
          "GB",
          "Slovenia",
          "Denmark 1",
          "Serbia",
          "France",
          "Sweden 3",
          "Finland",
          "De-Lu",
          "Italy",
          "Austria",
          "Switzerland",
          "Poland",
          "Ireland",
          "Spain",
          "Portugal",
          "Norway 2",
          "Norway 1",
          "Norway 5",
          "Sweden 2",
          "Sweden 1",
          "Norway 3",
          "Norway 4"
         ],
         "xaxis": "x2",
         "y": [
          167.74092,
          154.47369,
          152.02651,
          151.91035000000002,
          151.20316000000003,
          148.82417000000004,
          147.98557000000005,
          146.82594000000006,
          144.06719,
          141.54486,
          141.25327,
          140.617,
          140.13554000000005,
          136.58951000000002,
          136.50705,
          132.45091000000002,
          131.85459000000003,
          129.58957999999996,
          129.45928,
          127.57653,
          124.15198999999998,
          122.91679000000003,
          120.72143000000005,
          103.07366000000003,
          95.01617000000002,
          93.27709000000003,
          73.96540999999998,
          72.97548999999997,
          70.32801,
          55.43692999999993,
          53.793919999999986,
          30.279350000000004,
          28.385979999999996,
          16.09533,
          8.989559999999997
         ],
         "yaxis": "y2"
        }
       ],
       "layout": {
        "annotations": [
         {
          "font": {
           "size": 16
          },
          "showarrow": false,
          "text": "Single cycle",
          "x": 0.5,
          "xanchor": "center",
          "xref": "paper",
          "y": 1,
          "yanchor": "bottom",
          "yref": "paper"
         },
         {
          "font": {
           "size": 16
          },
          "showarrow": false,
          "text": "Dual cycle",
          "x": 0.5,
          "xanchor": "center",
          "xref": "paper",
          "y": 0.375,
          "yanchor": "bottom",
          "yref": "paper"
         }
        ],
        "coloraxis": {
         "showscale": false
        },
        "height": 600,
        "showlegend": false,
        "template": {
         "data": {
          "bar": [
           {
            "error_x": {
             "color": "#2a3f5f"
            },
            "error_y": {
             "color": "#2a3f5f"
            },
            "marker": {
             "line": {
              "color": "white",
              "width": 0.5
             },
             "pattern": {
              "fillmode": "overlay",
              "size": 10,
              "solidity": 0.2
             }
            },
            "type": "bar"
           }
          ],
          "barpolar": [
           {
            "marker": {
             "line": {
              "color": "white",
              "width": 0.5
             },
             "pattern": {
              "fillmode": "overlay",
              "size": 10,
              "solidity": 0.2
             }
            },
            "type": "barpolar"
           }
          ],
          "carpet": [
           {
            "aaxis": {
             "endlinecolor": "#2a3f5f",
             "gridcolor": "#C8D4E3",
             "linecolor": "#C8D4E3",
             "minorgridcolor": "#C8D4E3",
             "startlinecolor": "#2a3f5f"
            },
            "baxis": {
             "endlinecolor": "#2a3f5f",
             "gridcolor": "#C8D4E3",
             "linecolor": "#C8D4E3",
             "minorgridcolor": "#C8D4E3",
             "startlinecolor": "#2a3f5f"
            },
            "type": "carpet"
           }
          ],
          "choropleth": [
           {
            "colorbar": {
             "outlinewidth": 0,
             "ticks": ""
            },
            "type": "choropleth"
           }
          ],
          "contour": [
           {
            "colorbar": {
             "outlinewidth": 0,
             "ticks": ""
            },
            "colorscale": [
             [
              0,
              "#0d0887"
             ],
             [
              0.1111111111111111,
              "#46039f"
             ],
             [
              0.2222222222222222,
              "#7201a8"
             ],
             [
              0.3333333333333333,
              "#9c179e"
             ],
             [
              0.4444444444444444,
              "#bd3786"
             ],
             [
              0.5555555555555556,
              "#d8576b"
             ],
             [
              0.6666666666666666,
              "#ed7953"
             ],
             [
              0.7777777777777778,
              "#fb9f3a"
             ],
             [
              0.8888888888888888,
              "#fdca26"
             ],
             [
              1,
              "#f0f921"
             ]
            ],
            "type": "contour"
           }
          ],
          "contourcarpet": [
           {
            "colorbar": {
             "outlinewidth": 0,
             "ticks": ""
            },
            "type": "contourcarpet"
           }
          ],
          "heatmap": [
           {
            "colorbar": {
             "outlinewidth": 0,
             "ticks": ""
            },
            "colorscale": [
             [
              0,
              "#0d0887"
             ],
             [
              0.1111111111111111,
              "#46039f"
             ],
             [
              0.2222222222222222,
              "#7201a8"
             ],
             [
              0.3333333333333333,
              "#9c179e"
             ],
             [
              0.4444444444444444,
              "#bd3786"
             ],
             [
              0.5555555555555556,
              "#d8576b"
             ],
             [
              0.6666666666666666,
              "#ed7953"
             ],
             [
              0.7777777777777778,
              "#fb9f3a"
             ],
             [
              0.8888888888888888,
              "#fdca26"
             ],
             [
              1,
              "#f0f921"
             ]
            ],
            "type": "heatmap"
           }
          ],
          "heatmapgl": [
           {
            "colorbar": {
             "outlinewidth": 0,
             "ticks": ""
            },
            "colorscale": [
             [
              0,
              "#0d0887"
             ],
             [
              0.1111111111111111,
              "#46039f"
             ],
             [
              0.2222222222222222,
              "#7201a8"
             ],
             [
              0.3333333333333333,
              "#9c179e"
             ],
             [
              0.4444444444444444,
              "#bd3786"
             ],
             [
              0.5555555555555556,
              "#d8576b"
             ],
             [
              0.6666666666666666,
              "#ed7953"
             ],
             [
              0.7777777777777778,
              "#fb9f3a"
             ],
             [
              0.8888888888888888,
              "#fdca26"
             ],
             [
              1,
              "#f0f921"
             ]
            ],
            "type": "heatmapgl"
           }
          ],
          "histogram": [
           {
            "marker": {
             "pattern": {
              "fillmode": "overlay",
              "size": 10,
              "solidity": 0.2
             }
            },
            "type": "histogram"
           }
          ],
          "histogram2d": [
           {
            "colorbar": {
             "outlinewidth": 0,
             "ticks": ""
            },
            "colorscale": [
             [
              0,
              "#0d0887"
             ],
             [
              0.1111111111111111,
              "#46039f"
             ],
             [
              0.2222222222222222,
              "#7201a8"
             ],
             [
              0.3333333333333333,
              "#9c179e"
             ],
             [
              0.4444444444444444,
              "#bd3786"
             ],
             [
              0.5555555555555556,
              "#d8576b"
             ],
             [
              0.6666666666666666,
              "#ed7953"
             ],
             [
              0.7777777777777778,
              "#fb9f3a"
             ],
             [
              0.8888888888888888,
              "#fdca26"
             ],
             [
              1,
              "#f0f921"
             ]
            ],
            "type": "histogram2d"
           }
          ],
          "histogram2dcontour": [
           {
            "colorbar": {
             "outlinewidth": 0,
             "ticks": ""
            },
            "colorscale": [
             [
              0,
              "#0d0887"
             ],
             [
              0.1111111111111111,
              "#46039f"
             ],
             [
              0.2222222222222222,
              "#7201a8"
             ],
             [
              0.3333333333333333,
              "#9c179e"
             ],
             [
              0.4444444444444444,
              "#bd3786"
             ],
             [
              0.5555555555555556,
              "#d8576b"
             ],
             [
              0.6666666666666666,
              "#ed7953"
             ],
             [
              0.7777777777777778,
              "#fb9f3a"
             ],
             [
              0.8888888888888888,
              "#fdca26"
             ],
             [
              1,
              "#f0f921"
             ]
            ],
            "type": "histogram2dcontour"
           }
          ],
          "mesh3d": [
           {
            "colorbar": {
             "outlinewidth": 0,
             "ticks": ""
            },
            "type": "mesh3d"
           }
          ],
          "parcoords": [
           {
            "line": {
             "colorbar": {
              "outlinewidth": 0,
              "ticks": ""
             }
            },
            "type": "parcoords"
           }
          ],
          "pie": [
           {
            "automargin": true,
            "type": "pie"
           }
          ],
          "scatter": [
           {
            "fillpattern": {
             "fillmode": "overlay",
             "size": 10,
             "solidity": 0.2
            },
            "type": "scatter"
           }
          ],
          "scatter3d": [
           {
            "line": {
             "colorbar": {
              "outlinewidth": 0,
              "ticks": ""
             }
            },
            "marker": {
             "colorbar": {
              "outlinewidth": 0,
              "ticks": ""
             }
            },
            "type": "scatter3d"
           }
          ],
          "scattercarpet": [
           {
            "marker": {
             "colorbar": {
              "outlinewidth": 0,
              "ticks": ""
             }
            },
            "type": "scattercarpet"
           }
          ],
          "scattergeo": [
           {
            "marker": {
             "colorbar": {
              "outlinewidth": 0,
              "ticks": ""
             }
            },
            "type": "scattergeo"
           }
          ],
          "scattergl": [
           {
            "marker": {
             "colorbar": {
              "outlinewidth": 0,
              "ticks": ""
             }
            },
            "type": "scattergl"
           }
          ],
          "scattermapbox": [
           {
            "marker": {
             "colorbar": {
              "outlinewidth": 0,
              "ticks": ""
             }
            },
            "type": "scattermapbox"
           }
          ],
          "scatterpolar": [
           {
            "marker": {
             "colorbar": {
              "outlinewidth": 0,
              "ticks": ""
             }
            },
            "type": "scatterpolar"
           }
          ],
          "scatterpolargl": [
           {
            "marker": {
             "colorbar": {
              "outlinewidth": 0,
              "ticks": ""
             }
            },
            "type": "scatterpolargl"
           }
          ],
          "scatterternary": [
           {
            "marker": {
             "colorbar": {
              "outlinewidth": 0,
              "ticks": ""
             }
            },
            "type": "scatterternary"
           }
          ],
          "surface": [
           {
            "colorbar": {
             "outlinewidth": 0,
             "ticks": ""
            },
            "colorscale": [
             [
              0,
              "#0d0887"
             ],
             [
              0.1111111111111111,
              "#46039f"
             ],
             [
              0.2222222222222222,
              "#7201a8"
             ],
             [
              0.3333333333333333,
              "#9c179e"
             ],
             [
              0.4444444444444444,
              "#bd3786"
             ],
             [
              0.5555555555555556,
              "#d8576b"
             ],
             [
              0.6666666666666666,
              "#ed7953"
             ],
             [
              0.7777777777777778,
              "#fb9f3a"
             ],
             [
              0.8888888888888888,
              "#fdca26"
             ],
             [
              1,
              "#f0f921"
             ]
            ],
            "type": "surface"
           }
          ],
          "table": [
           {
            "cells": {
             "fill": {
              "color": "#EBF0F8"
             },
             "line": {
              "color": "white"
             }
            },
            "header": {
             "fill": {
              "color": "#C8D4E3"
             },
             "line": {
              "color": "white"
             }
            },
            "type": "table"
           }
          ]
         },
         "layout": {
          "annotationdefaults": {
           "arrowcolor": "#2a3f5f",
           "arrowhead": 0,
           "arrowwidth": 1
          },
          "autotypenumbers": "strict",
          "coloraxis": {
           "colorbar": {
            "outlinewidth": 0,
            "ticks": ""
           }
          },
          "colorscale": {
           "diverging": [
            [
             0,
             "#8e0152"
            ],
            [
             0.1,
             "#c51b7d"
            ],
            [
             0.2,
             "#de77ae"
            ],
            [
             0.3,
             "#f1b6da"
            ],
            [
             0.4,
             "#fde0ef"
            ],
            [
             0.5,
             "#f7f7f7"
            ],
            [
             0.6,
             "#e6f5d0"
            ],
            [
             0.7,
             "#b8e186"
            ],
            [
             0.8,
             "#7fbc41"
            ],
            [
             0.9,
             "#4d9221"
            ],
            [
             1,
             "#276419"
            ]
           ],
           "sequential": [
            [
             0,
             "#0d0887"
            ],
            [
             0.1111111111111111,
             "#46039f"
            ],
            [
             0.2222222222222222,
             "#7201a8"
            ],
            [
             0.3333333333333333,
             "#9c179e"
            ],
            [
             0.4444444444444444,
             "#bd3786"
            ],
            [
             0.5555555555555556,
             "#d8576b"
            ],
            [
             0.6666666666666666,
             "#ed7953"
            ],
            [
             0.7777777777777778,
             "#fb9f3a"
            ],
            [
             0.8888888888888888,
             "#fdca26"
            ],
            [
             1,
             "#f0f921"
            ]
           ],
           "sequentialminus": [
            [
             0,
             "#0d0887"
            ],
            [
             0.1111111111111111,
             "#46039f"
            ],
            [
             0.2222222222222222,
             "#7201a8"
            ],
            [
             0.3333333333333333,
             "#9c179e"
            ],
            [
             0.4444444444444444,
             "#bd3786"
            ],
            [
             0.5555555555555556,
             "#d8576b"
            ],
            [
             0.6666666666666666,
             "#ed7953"
            ],
            [
             0.7777777777777778,
             "#fb9f3a"
            ],
            [
             0.8888888888888888,
             "#fdca26"
            ],
            [
             1,
             "#f0f921"
            ]
           ]
          },
          "colorway": [
           "#636efa",
           "#EF553B",
           "#00cc96",
           "#ab63fa",
           "#FFA15A",
           "#19d3f3",
           "#FF6692",
           "#B6E880",
           "#FF97FF",
           "#FECB52"
          ],
          "font": {
           "color": "#2a3f5f"
          },
          "geo": {
           "bgcolor": "white",
           "lakecolor": "white",
           "landcolor": "white",
           "showlakes": true,
           "showland": true,
           "subunitcolor": "#C8D4E3"
          },
          "hoverlabel": {
           "align": "left"
          },
          "hovermode": "closest",
          "mapbox": {
           "style": "light"
          },
          "paper_bgcolor": "white",
          "plot_bgcolor": "white",
          "polar": {
           "angularaxis": {
            "gridcolor": "#EBF0F8",
            "linecolor": "#EBF0F8",
            "ticks": ""
           },
           "bgcolor": "white",
           "radialaxis": {
            "gridcolor": "#EBF0F8",
            "linecolor": "#EBF0F8",
            "ticks": ""
           }
          },
          "scene": {
           "xaxis": {
            "backgroundcolor": "white",
            "gridcolor": "#DFE8F3",
            "gridwidth": 2,
            "linecolor": "#EBF0F8",
            "showbackground": true,
            "ticks": "",
            "zerolinecolor": "#EBF0F8"
           },
           "yaxis": {
            "backgroundcolor": "white",
            "gridcolor": "#DFE8F3",
            "gridwidth": 2,
            "linecolor": "#EBF0F8",
            "showbackground": true,
            "ticks": "",
            "zerolinecolor": "#EBF0F8"
           },
           "zaxis": {
            "backgroundcolor": "white",
            "gridcolor": "#DFE8F3",
            "gridwidth": 2,
            "linecolor": "#EBF0F8",
            "showbackground": true,
            "ticks": "",
            "zerolinecolor": "#EBF0F8"
           }
          },
          "shapedefaults": {
           "line": {
            "color": "#2a3f5f"
           }
          },
          "ternary": {
           "aaxis": {
            "gridcolor": "#DFE8F3",
            "linecolor": "#A2B1C6",
            "ticks": ""
           },
           "baxis": {
            "gridcolor": "#DFE8F3",
            "linecolor": "#A2B1C6",
            "ticks": ""
           },
           "bgcolor": "white",
           "caxis": {
            "gridcolor": "#DFE8F3",
            "linecolor": "#A2B1C6",
            "ticks": ""
           }
          },
          "title": {
           "x": 0.05
          },
          "xaxis": {
           "automargin": true,
           "gridcolor": "#EBF0F8",
           "linecolor": "#EBF0F8",
           "ticks": "",
           "title": {
            "standoff": 15
           },
           "zerolinecolor": "#EBF0F8",
           "zerolinewidth": 2
          },
          "yaxis": {
           "automargin": true,
           "gridcolor": "#EBF0F8",
           "linecolor": "#EBF0F8",
           "ticks": "",
           "title": {
            "standoff": 15
           },
           "zerolinecolor": "#EBF0F8",
           "zerolinewidth": 2
          }
         }
        },
        "title": {
         "text": "Revenue for a 2 hour battery with preset flow hours in 2022"
        },
        "width": 1200,
        "xaxis": {
         "anchor": "y",
         "domain": [
          0,
          1
         ],
         "tickangle": -45
        },
        "xaxis2": {
         "anchor": "y2",
         "domain": [
          0,
          1
         ],
         "tickangle": -45
        },
        "yaxis": {
         "anchor": "x",
         "domain": [
          0.625,
          1
         ],
         "title": {
          "text": "k€/MW"
         }
        },
        "yaxis2": {
         "anchor": "x2",
         "domain": [
          0,
          0.375
         ],
         "title": {
          "text": "k€/MW"
         }
        }
       }
      }
     },
     "metadata": {},
     "output_type": "display_data"
    }
   ],
   "source": [
    "fig = make_subplots(\n",
    "    rows=2, cols=1,\n",
    "    shared_yaxes=True,\n",
    "    subplot_titles=('Single cycle', 'Dual cycle')\n",
    ")\n",
    "\n",
    "fig.add_trace(go.Bar(\n",
    "    x=cycle_1_hour_2_rev.index,\n",
    "    y=cycle_1_hour_2_rev.values/1000,\n",
    "    marker=dict(color=cycle_1_hour_2_rev.values, colorscale='solar'),\n",
    "), row=1, col=1)\n",
    "\n",
    "fig.add_trace(go.Bar(\n",
    "    x=cycle_2_hour_2_rev.index,\n",
    "    y=cycle_2_hour_2_rev.values.reshape(-1)/1000,\n",
    "    marker=dict(color=cycle_2_hour_2_rev.values.reshape(-1), colorscale='solar'),\n",
    "), row=2, col=1)\n",
    "\n",
    "fig.update_xaxes(tickangle=-45)\n",
    "fig.update_yaxes(title='k€/MW')\n",
    "fig.update_traces(texttemplate='%{value: .3r}', textangle=270)\n",
    "fig.update_coloraxes(showscale=False)\n",
    "fig.update_layout(\n",
    "    title='Revenue for a 2 hour battery with preset flow hours in 2022',\n",
    "    showlegend=False,\n",
    "    template='plotly_white',\n",
    "    width=1200,\n",
    "    height=600\n",
    ")\n",
    "\n",
    "fig.write_image('../figures/2-hour-rev.jpeg', scale=5, engine='orca')\n",
    "fig"
   ]
  }
 ],
 "metadata": {
  "kernelspec": {
   "display_name": "Python 3.9.13 ('base')",
   "language": "python",
   "name": "python3"
  },
  "language_info": {
   "codemirror_mode": {
    "name": "ipython",
    "version": 3
   },
   "file_extension": ".py",
   "mimetype": "text/x-python",
   "name": "python",
   "nbconvert_exporter": "python",
   "pygments_lexer": "ipython3",
   "version": "3.9.13"
  },
  "orig_nbformat": 4,
  "vscode": {
   "interpreter": {
    "hash": "0bcf432da8243f285952ce707b599979cf2470b8ebb1a85ff9103c3a3adc60f6"
   }
  }
 },
 "nbformat": 4,
 "nbformat_minor": 2
}
