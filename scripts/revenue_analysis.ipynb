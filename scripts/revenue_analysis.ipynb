{
 "cells": [
  {
   "cell_type": "markdown",
   "metadata": {},
   "source": [
    "# Calculating the potential revenue of each market"
   ]
  },
  {
   "cell_type": "code",
   "execution_count": 31,
   "metadata": {},
   "outputs": [],
   "source": [
    "import pandas as pd\n",
    "import plotly.express as px\n",
    "import plotly.graph_objects as go"
   ]
  },
  {
   "cell_type": "code",
   "execution_count": 32,
   "metadata": {},
   "outputs": [
    {
     "data": {
      "text/html": [
       "<div>\n",
       "<style scoped>\n",
       "    .dataframe tbody tr th:only-of-type {\n",
       "        vertical-align: middle;\n",
       "    }\n",
       "\n",
       "    .dataframe tbody tr th {\n",
       "        vertical-align: top;\n",
       "    }\n",
       "\n",
       "    .dataframe thead th {\n",
       "        text-align: right;\n",
       "    }\n",
       "</style>\n",
       "<table border=\"1\" class=\"dataframe\">\n",
       "  <thead>\n",
       "    <tr style=\"text-align: right;\">\n",
       "      <th></th>\n",
       "      <th>date</th>\n",
       "      <th>hour</th>\n",
       "      <th>datetime</th>\n",
       "      <th>De-Lu</th>\n",
       "      <th>De-Lu Neighbours</th>\n",
       "      <th>Belgium</th>\n",
       "      <th>Denmark 1</th>\n",
       "      <th>Denmark 2</th>\n",
       "      <th>France</th>\n",
       "      <th>Netherlands</th>\n",
       "      <th>Norway 2</th>\n",
       "      <th>Austria</th>\n",
       "      <th>Poland</th>\n",
       "      <th>Sweden 4</th>\n",
       "      <th>Switzerland</th>\n",
       "      <th>Czech</th>\n",
       "      <th>Italy</th>\n",
       "      <th>Slovenia</th>\n",
       "      <th>Hungary</th>\n",
       "      <th>GB</th>\n",
       "    </tr>\n",
       "  </thead>\n",
       "  <tbody>\n",
       "    <tr>\n",
       "      <th>26304</th>\n",
       "      <td>2022-01-01</td>\n",
       "      <td>1</td>\n",
       "      <td>2022-01-01 00:00:00</td>\n",
       "      <td>50.05</td>\n",
       "      <td>78.44</td>\n",
       "      <td>82.02</td>\n",
       "      <td>50.05</td>\n",
       "      <td>46.60</td>\n",
       "      <td>89.06</td>\n",
       "      <td>124.70</td>\n",
       "      <td>132.89</td>\n",
       "      <td>61.84</td>\n",
       "      <td>59.03</td>\n",
       "      <td>46.60</td>\n",
       "      <td>119.97</td>\n",
       "      <td>50.05</td>\n",
       "      <td>170.28</td>\n",
       "      <td>61.84</td>\n",
       "      <td>61.84</td>\n",
       "      <td>81.87</td>\n",
       "    </tr>\n",
       "    <tr>\n",
       "      <th>26305</th>\n",
       "      <td>2022-01-01</td>\n",
       "      <td>2</td>\n",
       "      <td>2022-01-01 01:00:00</td>\n",
       "      <td>41.33</td>\n",
       "      <td>69.75</td>\n",
       "      <td>67.07</td>\n",
       "      <td>41.33</td>\n",
       "      <td>41.33</td>\n",
       "      <td>78.48</td>\n",
       "      <td>124.70</td>\n",
       "      <td>129.30</td>\n",
       "      <td>51.44</td>\n",
       "      <td>49.37</td>\n",
       "      <td>41.33</td>\n",
       "      <td>101.54</td>\n",
       "      <td>41.33</td>\n",
       "      <td>155.72</td>\n",
       "      <td>51.44</td>\n",
       "      <td>41.33</td>\n",
       "      <td>64.49</td>\n",
       "    </tr>\n",
       "    <tr>\n",
       "      <th>26306</th>\n",
       "      <td>2022-01-01</td>\n",
       "      <td>3</td>\n",
       "      <td>2022-01-01 02:00:00</td>\n",
       "      <td>43.22</td>\n",
       "      <td>68.04</td>\n",
       "      <td>75.11</td>\n",
       "      <td>43.22</td>\n",
       "      <td>42.18</td>\n",
       "      <td>85.16</td>\n",
       "      <td>134.00</td>\n",
       "      <td>132.08</td>\n",
       "      <td>55.91</td>\n",
       "      <td>43.22</td>\n",
       "      <td>42.18</td>\n",
       "      <td>52.13</td>\n",
       "      <td>43.22</td>\n",
       "      <td>147.09</td>\n",
       "      <td>55.91</td>\n",
       "      <td>43.22</td>\n",
       "      <td>24.99</td>\n",
       "    </tr>\n",
       "    <tr>\n",
       "      <th>26307</th>\n",
       "      <td>2022-01-01</td>\n",
       "      <td>4</td>\n",
       "      <td>2022-01-01 03:00:00</td>\n",
       "      <td>45.46</td>\n",
       "      <td>51.27</td>\n",
       "      <td>50.91</td>\n",
       "      <td>45.46</td>\n",
       "      <td>44.37</td>\n",
       "      <td>50.00</td>\n",
       "      <td>58.80</td>\n",
       "      <td>111.44</td>\n",
       "      <td>46.94</td>\n",
       "      <td>45.46</td>\n",
       "      <td>44.37</td>\n",
       "      <td>20.78</td>\n",
       "      <td>45.46</td>\n",
       "      <td>91.00</td>\n",
       "      <td>46.94</td>\n",
       "      <td>45.46</td>\n",
       "      <td>7.02</td>\n",
       "    </tr>\n",
       "    <tr>\n",
       "      <th>26308</th>\n",
       "      <td>2022-01-01</td>\n",
       "      <td>5</td>\n",
       "      <td>2022-01-01 04:00:00</td>\n",
       "      <td>37.67</td>\n",
       "      <td>42.46</td>\n",
       "      <td>37.67</td>\n",
       "      <td>37.67</td>\n",
       "      <td>37.67</td>\n",
       "      <td>37.67</td>\n",
       "      <td>37.67</td>\n",
       "      <td>112.35</td>\n",
       "      <td>37.67</td>\n",
       "      <td>37.67</td>\n",
       "      <td>37.67</td>\n",
       "      <td>15.66</td>\n",
       "      <td>37.67</td>\n",
       "      <td>104.00</td>\n",
       "      <td>37.67</td>\n",
       "      <td>37.67</td>\n",
       "      <td>2.74</td>\n",
       "    </tr>\n",
       "  </tbody>\n",
       "</table>\n",
       "</div>"
      ],
      "text/plain": [
       "            date  hour             datetime  De-Lu  De-Lu Neighbours  Belgium  \\\n",
       "26304 2022-01-01     1  2022-01-01 00:00:00  50.05             78.44    82.02   \n",
       "26305 2022-01-01     2  2022-01-01 01:00:00  41.33             69.75    67.07   \n",
       "26306 2022-01-01     3  2022-01-01 02:00:00  43.22             68.04    75.11   \n",
       "26307 2022-01-01     4  2022-01-01 03:00:00  45.46             51.27    50.91   \n",
       "26308 2022-01-01     5  2022-01-01 04:00:00  37.67             42.46    37.67   \n",
       "\n",
       "       Denmark 1  Denmark 2  France  Netherlands  Norway 2  Austria  Poland  \\\n",
       "26304      50.05      46.60   89.06       124.70    132.89    61.84   59.03   \n",
       "26305      41.33      41.33   78.48       124.70    129.30    51.44   49.37   \n",
       "26306      43.22      42.18   85.16       134.00    132.08    55.91   43.22   \n",
       "26307      45.46      44.37   50.00        58.80    111.44    46.94   45.46   \n",
       "26308      37.67      37.67   37.67        37.67    112.35    37.67   37.67   \n",
       "\n",
       "       Sweden 4  Switzerland  Czech   Italy  Slovenia  Hungary     GB  \n",
       "26304     46.60       119.97  50.05  170.28     61.84    61.84  81.87  \n",
       "26305     41.33       101.54  41.33  155.72     51.44    41.33  64.49  \n",
       "26306     42.18        52.13  43.22  147.09     55.91    43.22  24.99  \n",
       "26307     44.37        20.78  45.46   91.00     46.94    45.46   7.02  \n",
       "26308     37.67        15.66  37.67  104.00     37.67    37.67   2.74  "
      ]
     },
     "execution_count": 32,
     "metadata": {},
     "output_type": "execute_result"
    }
   ],
   "source": [
    "df = pd.read_csv('../data/cleaned_data/eu_da_prices_clean.csv', index_col=0)\n",
    "df.date = pd.to_datetime(df.date)\n",
    "df = df.loc[df.date >= pd.to_datetime('2022-01-01')]\n",
    "df.head()"
   ]
  },
  {
   "cell_type": "markdown",
   "metadata": {},
   "source": [
    "### Single cycle 1 hour"
   ]
  },
  {
   "cell_type": "code",
   "execution_count": 77,
   "metadata": {},
   "outputs": [
    {
     "data": {
      "text/html": [
       "<div>\n",
       "<style scoped>\n",
       "    .dataframe tbody tr th:only-of-type {\n",
       "        vertical-align: middle;\n",
       "    }\n",
       "\n",
       "    .dataframe tbody tr th {\n",
       "        vertical-align: top;\n",
       "    }\n",
       "\n",
       "    .dataframe thead th {\n",
       "        text-align: right;\n",
       "    }\n",
       "</style>\n",
       "<table border=\"1\" class=\"dataframe\">\n",
       "  <thead>\n",
       "    <tr style=\"text-align: right;\">\n",
       "      <th></th>\n",
       "      <th>date</th>\n",
       "      <th>De-Lu</th>\n",
       "      <th>De-Lu Neighbours</th>\n",
       "      <th>Belgium</th>\n",
       "      <th>Denmark 1</th>\n",
       "      <th>Denmark 2</th>\n",
       "      <th>France</th>\n",
       "      <th>Netherlands</th>\n",
       "      <th>Norway 2</th>\n",
       "      <th>Austria</th>\n",
       "      <th>Poland</th>\n",
       "      <th>Sweden 4</th>\n",
       "      <th>Switzerland</th>\n",
       "      <th>Czech</th>\n",
       "      <th>Italy</th>\n",
       "      <th>Slovenia</th>\n",
       "      <th>Hungary</th>\n",
       "      <th>GB</th>\n",
       "    </tr>\n",
       "    <tr>\n",
       "      <th>date</th>\n",
       "      <th></th>\n",
       "      <th></th>\n",
       "      <th></th>\n",
       "      <th></th>\n",
       "      <th></th>\n",
       "      <th></th>\n",
       "      <th></th>\n",
       "      <th></th>\n",
       "      <th></th>\n",
       "      <th></th>\n",
       "      <th></th>\n",
       "      <th></th>\n",
       "      <th></th>\n",
       "      <th></th>\n",
       "      <th></th>\n",
       "      <th></th>\n",
       "      <th></th>\n",
       "      <th></th>\n",
       "    </tr>\n",
       "  </thead>\n",
       "  <tbody>\n",
       "    <tr>\n",
       "      <th>2022-01-01</th>\n",
       "      <td>0 days</td>\n",
       "      <td>112.30</td>\n",
       "      <td>107.41</td>\n",
       "      <td>112.30</td>\n",
       "      <td>112.30</td>\n",
       "      <td>112.30</td>\n",
       "      <td>112.30</td>\n",
       "      <td>112.30</td>\n",
       "      <td>39.27</td>\n",
       "      <td>112.30</td>\n",
       "      <td>112.30</td>\n",
       "      <td>112.30</td>\n",
       "      <td>133.23</td>\n",
       "      <td>112.30</td>\n",
       "      <td>146.67</td>\n",
       "      <td>112.30</td>\n",
       "      <td>112.30</td>\n",
       "      <td>225.96</td>\n",
       "    </tr>\n",
       "    <tr>\n",
       "      <th>2022-01-02</th>\n",
       "      <td>0 days</td>\n",
       "      <td>40.98</td>\n",
       "      <td>56.86</td>\n",
       "      <td>40.53</td>\n",
       "      <td>65.84</td>\n",
       "      <td>65.84</td>\n",
       "      <td>40.53</td>\n",
       "      <td>80.34</td>\n",
       "      <td>31.91</td>\n",
       "      <td>65.84</td>\n",
       "      <td>44.90</td>\n",
       "      <td>65.84</td>\n",
       "      <td>110.41</td>\n",
       "      <td>65.84</td>\n",
       "      <td>145.00</td>\n",
       "      <td>65.84</td>\n",
       "      <td>215.44</td>\n",
       "      <td>143.45</td>\n",
       "    </tr>\n",
       "    <tr>\n",
       "      <th>2022-01-03</th>\n",
       "      <td>0 days</td>\n",
       "      <td>149.54</td>\n",
       "      <td>137.56</td>\n",
       "      <td>163.95</td>\n",
       "      <td>139.47</td>\n",
       "      <td>130.33</td>\n",
       "      <td>180.30</td>\n",
       "      <td>215.05</td>\n",
       "      <td>31.49</td>\n",
       "      <td>141.42</td>\n",
       "      <td>100.65</td>\n",
       "      <td>119.75</td>\n",
       "      <td>223.51</td>\n",
       "      <td>141.42</td>\n",
       "      <td>216.73</td>\n",
       "      <td>285.29</td>\n",
       "      <td>173.00</td>\n",
       "      <td>186.21</td>\n",
       "    </tr>\n",
       "    <tr>\n",
       "      <th>2022-01-04</th>\n",
       "      <td>0 days</td>\n",
       "      <td>92.44</td>\n",
       "      <td>93.44</td>\n",
       "      <td>91.90</td>\n",
       "      <td>98.53</td>\n",
       "      <td>148.78</td>\n",
       "      <td>85.00</td>\n",
       "      <td>88.90</td>\n",
       "      <td>54.50</td>\n",
       "      <td>90.53</td>\n",
       "      <td>96.03</td>\n",
       "      <td>148.78</td>\n",
       "      <td>115.05</td>\n",
       "      <td>92.44</td>\n",
       "      <td>96.21</td>\n",
       "      <td>90.53</td>\n",
       "      <td>143.64</td>\n",
       "      <td>132.33</td>\n",
       "    </tr>\n",
       "    <tr>\n",
       "      <th>2022-01-05</th>\n",
       "      <td>0 days</td>\n",
       "      <td>72.71</td>\n",
       "      <td>113.59</td>\n",
       "      <td>165.17</td>\n",
       "      <td>98.56</td>\n",
       "      <td>98.56</td>\n",
       "      <td>189.62</td>\n",
       "      <td>239.87</td>\n",
       "      <td>44.72</td>\n",
       "      <td>104.18</td>\n",
       "      <td>53.37</td>\n",
       "      <td>98.56</td>\n",
       "      <td>151.03</td>\n",
       "      <td>94.62</td>\n",
       "      <td>189.62</td>\n",
       "      <td>104.18</td>\n",
       "      <td>104.18</td>\n",
       "      <td>116.59</td>\n",
       "    </tr>\n",
       "  </tbody>\n",
       "</table>\n",
       "</div>"
      ],
      "text/plain": [
       "             date   De-Lu  De-Lu Neighbours  Belgium  Denmark 1  Denmark 2  \\\n",
       "date                                                                         \n",
       "2022-01-01 0 days  112.30            107.41   112.30     112.30     112.30   \n",
       "2022-01-02 0 days   40.98             56.86    40.53      65.84      65.84   \n",
       "2022-01-03 0 days  149.54            137.56   163.95     139.47     130.33   \n",
       "2022-01-04 0 days   92.44             93.44    91.90      98.53     148.78   \n",
       "2022-01-05 0 days   72.71            113.59   165.17      98.56      98.56   \n",
       "\n",
       "            France  Netherlands  Norway 2  Austria  Poland  Sweden 4  \\\n",
       "date                                                                   \n",
       "2022-01-01  112.30       112.30     39.27   112.30  112.30    112.30   \n",
       "2022-01-02   40.53        80.34     31.91    65.84   44.90     65.84   \n",
       "2022-01-03  180.30       215.05     31.49   141.42  100.65    119.75   \n",
       "2022-01-04   85.00        88.90     54.50    90.53   96.03    148.78   \n",
       "2022-01-05  189.62       239.87     44.72   104.18   53.37     98.56   \n",
       "\n",
       "            Switzerland   Czech   Italy  Slovenia  Hungary      GB  \n",
       "date                                                                \n",
       "2022-01-01       133.23  112.30  146.67    112.30   112.30  225.96  \n",
       "2022-01-02       110.41   65.84  145.00     65.84   215.44  143.45  \n",
       "2022-01-03       223.51  141.42  216.73    285.29   173.00  186.21  \n",
       "2022-01-04       115.05   92.44   96.21     90.53   143.64  132.33  \n",
       "2022-01-05       151.03   94.62  189.62    104.18   104.18  116.59  "
      ]
     },
     "execution_count": 77,
     "metadata": {},
     "output_type": "execute_result"
    }
   ],
   "source": [
    "cycle_1_hour_1 = df.drop(['hour', 'datetime'], axis=1).groupby('date').apply(lambda x: x.max() - x.min())\n",
    "cycle_1_hour_1.head()"
   ]
  },
  {
   "cell_type": "code",
   "execution_count": 81,
   "metadata": {},
   "outputs": [
    {
     "data": {
      "text/plain": [
       "De-Lu               68252.06\n",
       "De-Lu Neighbours    54973.29\n",
       "Belgium             72030.46\n",
       "Denmark 1           65157.15\n",
       "Denmark 2           70884.84\n",
       "France              63843.47\n",
       "Netherlands         74865.43\n",
       "Norway 2            38806.75\n",
       "Austria             59681.02\n",
       "Poland              52234.22\n",
       "Sweden 4            73867.40\n",
       "Switzerland         46144.21\n",
       "Czech               66943.99\n",
       "Italy               58954.95\n",
       "Slovenia            67368.71\n",
       "Hungary             74368.99\n",
       "GB                  65669.67\n",
       "dtype: float64"
      ]
     },
     "execution_count": 81,
     "metadata": {},
     "output_type": "execute_result"
    }
   ],
   "source": [
    "cycle_1_hour_1_rev = cycle_1_hour_1.sum()\n",
    "cycle_1_hour_1_rev = cycle_1_hour_1_rev.drop('date').astype(float)\n",
    "cycle_1_hour_1_rev"
   ]
  },
  {
   "cell_type": "code",
   "execution_count": 83,
   "metadata": {},
   "outputs": [
    {
     "data": {
      "application/vnd.plotly.v1+json": {
       "config": {
        "plotlyServerURL": "https://plot.ly"
       },
       "data": [
        {
         "alignmentgroup": "True",
         "hovertemplate": "=%{x}<br>€/MW=%{y}<br>color=%{marker.color}<extra></extra>",
         "legendgroup": "",
         "marker": {
          "color": [
           68252.06,
           54973.28999999999,
           72030.46,
           65157.149999999994,
           70884.84,
           63843.47,
           74865.43,
           38806.75,
           59681.020000000004,
           52234.22,
           73867.4,
           46144.21,
           66943.99,
           58954.95,
           67368.70999999999,
           74368.98999999999,
           65669.67000000001
          ],
          "coloraxis": "coloraxis",
          "pattern": {
           "shape": ""
          }
         },
         "name": "",
         "offsetgroup": "",
         "orientation": "v",
         "showlegend": false,
         "textposition": "auto",
         "texttemplate": "%{y:.3s}",
         "type": "bar",
         "x": [
          "De-Lu",
          "De-Lu Neighbours",
          "Belgium",
          "Denmark 1",
          "Denmark 2",
          "France",
          "Netherlands",
          "Norway 2",
          "Austria",
          "Poland",
          "Sweden 4",
          "Switzerland",
          "Czech",
          "Italy",
          "Slovenia",
          "Hungary",
          "GB"
         ],
         "xaxis": "x",
         "y": [
          68252.06,
          54973.28999999999,
          72030.46,
          65157.149999999994,
          70884.84,
          63843.47,
          74865.43,
          38806.75,
          59681.020000000004,
          52234.22,
          73867.4,
          46144.21,
          66943.99,
          58954.95,
          67368.70999999999,
          74368.98999999999,
          65669.67000000001
         ],
         "yaxis": "y"
        }
       ],
       "layout": {
        "barmode": "relative",
        "coloraxis": {
         "colorbar": {
          "title": {
           "text": "color"
          }
         },
         "colorscale": [
          [
           0,
           "rgb(51, 19, 23)"
          ],
          [
           0.09090909090909091,
           "rgb(79, 28, 33)"
          ],
          [
           0.18181818181818182,
           "rgb(108, 36, 36)"
          ],
          [
           0.2727272727272727,
           "rgb(135, 47, 32)"
          ],
          [
           0.36363636363636365,
           "rgb(157, 66, 25)"
          ],
          [
           0.45454545454545453,
           "rgb(174, 88, 20)"
          ],
          [
           0.5454545454545454,
           "rgb(188, 111, 19)"
          ],
          [
           0.6363636363636364,
           "rgb(199, 137, 22)"
          ],
          [
           0.7272727272727273,
           "rgb(209, 164, 32)"
          ],
          [
           0.8181818181818182,
           "rgb(217, 192, 44)"
          ],
          [
           0.9090909090909091,
           "rgb(222, 222, 59)"
          ],
          [
           1,
           "rgb(224, 253, 74)"
          ]
         ],
         "showscale": false
        },
        "height": 400,
        "legend": {
         "tracegroupgap": 0
        },
        "margin": {
         "t": 60
        },
        "template": {
         "data": {
          "bar": [
           {
            "error_x": {
             "color": "#2a3f5f"
            },
            "error_y": {
             "color": "#2a3f5f"
            },
            "marker": {
             "line": {
              "color": "white",
              "width": 0.5
             },
             "pattern": {
              "fillmode": "overlay",
              "size": 10,
              "solidity": 0.2
             }
            },
            "type": "bar"
           }
          ],
          "barpolar": [
           {
            "marker": {
             "line": {
              "color": "white",
              "width": 0.5
             },
             "pattern": {
              "fillmode": "overlay",
              "size": 10,
              "solidity": 0.2
             }
            },
            "type": "barpolar"
           }
          ],
          "carpet": [
           {
            "aaxis": {
             "endlinecolor": "#2a3f5f",
             "gridcolor": "#C8D4E3",
             "linecolor": "#C8D4E3",
             "minorgridcolor": "#C8D4E3",
             "startlinecolor": "#2a3f5f"
            },
            "baxis": {
             "endlinecolor": "#2a3f5f",
             "gridcolor": "#C8D4E3",
             "linecolor": "#C8D4E3",
             "minorgridcolor": "#C8D4E3",
             "startlinecolor": "#2a3f5f"
            },
            "type": "carpet"
           }
          ],
          "choropleth": [
           {
            "colorbar": {
             "outlinewidth": 0,
             "ticks": ""
            },
            "type": "choropleth"
           }
          ],
          "contour": [
           {
            "colorbar": {
             "outlinewidth": 0,
             "ticks": ""
            },
            "colorscale": [
             [
              0,
              "#0d0887"
             ],
             [
              0.1111111111111111,
              "#46039f"
             ],
             [
              0.2222222222222222,
              "#7201a8"
             ],
             [
              0.3333333333333333,
              "#9c179e"
             ],
             [
              0.4444444444444444,
              "#bd3786"
             ],
             [
              0.5555555555555556,
              "#d8576b"
             ],
             [
              0.6666666666666666,
              "#ed7953"
             ],
             [
              0.7777777777777778,
              "#fb9f3a"
             ],
             [
              0.8888888888888888,
              "#fdca26"
             ],
             [
              1,
              "#f0f921"
             ]
            ],
            "type": "contour"
           }
          ],
          "contourcarpet": [
           {
            "colorbar": {
             "outlinewidth": 0,
             "ticks": ""
            },
            "type": "contourcarpet"
           }
          ],
          "heatmap": [
           {
            "colorbar": {
             "outlinewidth": 0,
             "ticks": ""
            },
            "colorscale": [
             [
              0,
              "#0d0887"
             ],
             [
              0.1111111111111111,
              "#46039f"
             ],
             [
              0.2222222222222222,
              "#7201a8"
             ],
             [
              0.3333333333333333,
              "#9c179e"
             ],
             [
              0.4444444444444444,
              "#bd3786"
             ],
             [
              0.5555555555555556,
              "#d8576b"
             ],
             [
              0.6666666666666666,
              "#ed7953"
             ],
             [
              0.7777777777777778,
              "#fb9f3a"
             ],
             [
              0.8888888888888888,
              "#fdca26"
             ],
             [
              1,
              "#f0f921"
             ]
            ],
            "type": "heatmap"
           }
          ],
          "heatmapgl": [
           {
            "colorbar": {
             "outlinewidth": 0,
             "ticks": ""
            },
            "colorscale": [
             [
              0,
              "#0d0887"
             ],
             [
              0.1111111111111111,
              "#46039f"
             ],
             [
              0.2222222222222222,
              "#7201a8"
             ],
             [
              0.3333333333333333,
              "#9c179e"
             ],
             [
              0.4444444444444444,
              "#bd3786"
             ],
             [
              0.5555555555555556,
              "#d8576b"
             ],
             [
              0.6666666666666666,
              "#ed7953"
             ],
             [
              0.7777777777777778,
              "#fb9f3a"
             ],
             [
              0.8888888888888888,
              "#fdca26"
             ],
             [
              1,
              "#f0f921"
             ]
            ],
            "type": "heatmapgl"
           }
          ],
          "histogram": [
           {
            "marker": {
             "pattern": {
              "fillmode": "overlay",
              "size": 10,
              "solidity": 0.2
             }
            },
            "type": "histogram"
           }
          ],
          "histogram2d": [
           {
            "colorbar": {
             "outlinewidth": 0,
             "ticks": ""
            },
            "colorscale": [
             [
              0,
              "#0d0887"
             ],
             [
              0.1111111111111111,
              "#46039f"
             ],
             [
              0.2222222222222222,
              "#7201a8"
             ],
             [
              0.3333333333333333,
              "#9c179e"
             ],
             [
              0.4444444444444444,
              "#bd3786"
             ],
             [
              0.5555555555555556,
              "#d8576b"
             ],
             [
              0.6666666666666666,
              "#ed7953"
             ],
             [
              0.7777777777777778,
              "#fb9f3a"
             ],
             [
              0.8888888888888888,
              "#fdca26"
             ],
             [
              1,
              "#f0f921"
             ]
            ],
            "type": "histogram2d"
           }
          ],
          "histogram2dcontour": [
           {
            "colorbar": {
             "outlinewidth": 0,
             "ticks": ""
            },
            "colorscale": [
             [
              0,
              "#0d0887"
             ],
             [
              0.1111111111111111,
              "#46039f"
             ],
             [
              0.2222222222222222,
              "#7201a8"
             ],
             [
              0.3333333333333333,
              "#9c179e"
             ],
             [
              0.4444444444444444,
              "#bd3786"
             ],
             [
              0.5555555555555556,
              "#d8576b"
             ],
             [
              0.6666666666666666,
              "#ed7953"
             ],
             [
              0.7777777777777778,
              "#fb9f3a"
             ],
             [
              0.8888888888888888,
              "#fdca26"
             ],
             [
              1,
              "#f0f921"
             ]
            ],
            "type": "histogram2dcontour"
           }
          ],
          "mesh3d": [
           {
            "colorbar": {
             "outlinewidth": 0,
             "ticks": ""
            },
            "type": "mesh3d"
           }
          ],
          "parcoords": [
           {
            "line": {
             "colorbar": {
              "outlinewidth": 0,
              "ticks": ""
             }
            },
            "type": "parcoords"
           }
          ],
          "pie": [
           {
            "automargin": true,
            "type": "pie"
           }
          ],
          "scatter": [
           {
            "fillpattern": {
             "fillmode": "overlay",
             "size": 10,
             "solidity": 0.2
            },
            "type": "scatter"
           }
          ],
          "scatter3d": [
           {
            "line": {
             "colorbar": {
              "outlinewidth": 0,
              "ticks": ""
             }
            },
            "marker": {
             "colorbar": {
              "outlinewidth": 0,
              "ticks": ""
             }
            },
            "type": "scatter3d"
           }
          ],
          "scattercarpet": [
           {
            "marker": {
             "colorbar": {
              "outlinewidth": 0,
              "ticks": ""
             }
            },
            "type": "scattercarpet"
           }
          ],
          "scattergeo": [
           {
            "marker": {
             "colorbar": {
              "outlinewidth": 0,
              "ticks": ""
             }
            },
            "type": "scattergeo"
           }
          ],
          "scattergl": [
           {
            "marker": {
             "colorbar": {
              "outlinewidth": 0,
              "ticks": ""
             }
            },
            "type": "scattergl"
           }
          ],
          "scattermapbox": [
           {
            "marker": {
             "colorbar": {
              "outlinewidth": 0,
              "ticks": ""
             }
            },
            "type": "scattermapbox"
           }
          ],
          "scatterpolar": [
           {
            "marker": {
             "colorbar": {
              "outlinewidth": 0,
              "ticks": ""
             }
            },
            "type": "scatterpolar"
           }
          ],
          "scatterpolargl": [
           {
            "marker": {
             "colorbar": {
              "outlinewidth": 0,
              "ticks": ""
             }
            },
            "type": "scatterpolargl"
           }
          ],
          "scatterternary": [
           {
            "marker": {
             "colorbar": {
              "outlinewidth": 0,
              "ticks": ""
             }
            },
            "type": "scatterternary"
           }
          ],
          "surface": [
           {
            "colorbar": {
             "outlinewidth": 0,
             "ticks": ""
            },
            "colorscale": [
             [
              0,
              "#0d0887"
             ],
             [
              0.1111111111111111,
              "#46039f"
             ],
             [
              0.2222222222222222,
              "#7201a8"
             ],
             [
              0.3333333333333333,
              "#9c179e"
             ],
             [
              0.4444444444444444,
              "#bd3786"
             ],
             [
              0.5555555555555556,
              "#d8576b"
             ],
             [
              0.6666666666666666,
              "#ed7953"
             ],
             [
              0.7777777777777778,
              "#fb9f3a"
             ],
             [
              0.8888888888888888,
              "#fdca26"
             ],
             [
              1,
              "#f0f921"
             ]
            ],
            "type": "surface"
           }
          ],
          "table": [
           {
            "cells": {
             "fill": {
              "color": "#EBF0F8"
             },
             "line": {
              "color": "white"
             }
            },
            "header": {
             "fill": {
              "color": "#C8D4E3"
             },
             "line": {
              "color": "white"
             }
            },
            "type": "table"
           }
          ]
         },
         "layout": {
          "annotationdefaults": {
           "arrowcolor": "#2a3f5f",
           "arrowhead": 0,
           "arrowwidth": 1
          },
          "autotypenumbers": "strict",
          "coloraxis": {
           "colorbar": {
            "outlinewidth": 0,
            "ticks": ""
           }
          },
          "colorscale": {
           "diverging": [
            [
             0,
             "#8e0152"
            ],
            [
             0.1,
             "#c51b7d"
            ],
            [
             0.2,
             "#de77ae"
            ],
            [
             0.3,
             "#f1b6da"
            ],
            [
             0.4,
             "#fde0ef"
            ],
            [
             0.5,
             "#f7f7f7"
            ],
            [
             0.6,
             "#e6f5d0"
            ],
            [
             0.7,
             "#b8e186"
            ],
            [
             0.8,
             "#7fbc41"
            ],
            [
             0.9,
             "#4d9221"
            ],
            [
             1,
             "#276419"
            ]
           ],
           "sequential": [
            [
             0,
             "#0d0887"
            ],
            [
             0.1111111111111111,
             "#46039f"
            ],
            [
             0.2222222222222222,
             "#7201a8"
            ],
            [
             0.3333333333333333,
             "#9c179e"
            ],
            [
             0.4444444444444444,
             "#bd3786"
            ],
            [
             0.5555555555555556,
             "#d8576b"
            ],
            [
             0.6666666666666666,
             "#ed7953"
            ],
            [
             0.7777777777777778,
             "#fb9f3a"
            ],
            [
             0.8888888888888888,
             "#fdca26"
            ],
            [
             1,
             "#f0f921"
            ]
           ],
           "sequentialminus": [
            [
             0,
             "#0d0887"
            ],
            [
             0.1111111111111111,
             "#46039f"
            ],
            [
             0.2222222222222222,
             "#7201a8"
            ],
            [
             0.3333333333333333,
             "#9c179e"
            ],
            [
             0.4444444444444444,
             "#bd3786"
            ],
            [
             0.5555555555555556,
             "#d8576b"
            ],
            [
             0.6666666666666666,
             "#ed7953"
            ],
            [
             0.7777777777777778,
             "#fb9f3a"
            ],
            [
             0.8888888888888888,
             "#fdca26"
            ],
            [
             1,
             "#f0f921"
            ]
           ]
          },
          "colorway": [
           "#636efa",
           "#EF553B",
           "#00cc96",
           "#ab63fa",
           "#FFA15A",
           "#19d3f3",
           "#FF6692",
           "#B6E880",
           "#FF97FF",
           "#FECB52"
          ],
          "font": {
           "color": "#2a3f5f"
          },
          "geo": {
           "bgcolor": "white",
           "lakecolor": "white",
           "landcolor": "white",
           "showlakes": true,
           "showland": true,
           "subunitcolor": "#C8D4E3"
          },
          "hoverlabel": {
           "align": "left"
          },
          "hovermode": "closest",
          "mapbox": {
           "style": "light"
          },
          "paper_bgcolor": "white",
          "plot_bgcolor": "white",
          "polar": {
           "angularaxis": {
            "gridcolor": "#EBF0F8",
            "linecolor": "#EBF0F8",
            "ticks": ""
           },
           "bgcolor": "white",
           "radialaxis": {
            "gridcolor": "#EBF0F8",
            "linecolor": "#EBF0F8",
            "ticks": ""
           }
          },
          "scene": {
           "xaxis": {
            "backgroundcolor": "white",
            "gridcolor": "#DFE8F3",
            "gridwidth": 2,
            "linecolor": "#EBF0F8",
            "showbackground": true,
            "ticks": "",
            "zerolinecolor": "#EBF0F8"
           },
           "yaxis": {
            "backgroundcolor": "white",
            "gridcolor": "#DFE8F3",
            "gridwidth": 2,
            "linecolor": "#EBF0F8",
            "showbackground": true,
            "ticks": "",
            "zerolinecolor": "#EBF0F8"
           },
           "zaxis": {
            "backgroundcolor": "white",
            "gridcolor": "#DFE8F3",
            "gridwidth": 2,
            "linecolor": "#EBF0F8",
            "showbackground": true,
            "ticks": "",
            "zerolinecolor": "#EBF0F8"
           }
          },
          "shapedefaults": {
           "line": {
            "color": "#2a3f5f"
           }
          },
          "ternary": {
           "aaxis": {
            "gridcolor": "#DFE8F3",
            "linecolor": "#A2B1C6",
            "ticks": ""
           },
           "baxis": {
            "gridcolor": "#DFE8F3",
            "linecolor": "#A2B1C6",
            "ticks": ""
           },
           "bgcolor": "white",
           "caxis": {
            "gridcolor": "#DFE8F3",
            "linecolor": "#A2B1C6",
            "ticks": ""
           }
          },
          "title": {
           "x": 0.05
          },
          "xaxis": {
           "automargin": true,
           "gridcolor": "#EBF0F8",
           "linecolor": "#EBF0F8",
           "ticks": "",
           "title": {
            "standoff": 15
           },
           "zerolinecolor": "#EBF0F8",
           "zerolinewidth": 2
          },
          "yaxis": {
           "automargin": true,
           "gridcolor": "#EBF0F8",
           "linecolor": "#EBF0F8",
           "ticks": "",
           "title": {
            "standoff": 15
           },
           "zerolinecolor": "#EBF0F8",
           "zerolinewidth": 2
          }
         }
        },
        "title": {
         "text": "2022 potential revenue for a single cycle 1 hour battery"
        },
        "width": 1200,
        "xaxis": {
         "anchor": "y",
         "categoryorder": "total descending",
         "domain": [
          0,
          1
         ],
         "title": {
          "text": ""
         }
        },
        "yaxis": {
         "anchor": "x",
         "domain": [
          0,
          1
         ],
         "title": {
          "text": "€/MW"
         }
        }
       }
      }
     },
     "metadata": {},
     "output_type": "display_data"
    }
   ],
   "source": [
    "fig = px.bar(\n",
    "    cycle_1_hour_1_rev,\n",
    "    labels=dict(value='€/MW', index=''),\n",
    "    text_auto='.3s',\n",
    "    color=cycle_1_hour_1_rev,\n",
    "    color_continuous_scale='solar'\n",
    "    )\n",
    "\n",
    "fig.update_coloraxes(showscale=False)\n",
    "fig.update_layout(\n",
    "    title='2022 potential revenue for a single cycle 1 hour battery',\n",
    "    template='plotly_white',\n",
    "    xaxis_categoryorder='total descending',\n",
    "    width=1200,\n",
    "    height=400\n",
    ")\n",
    "\n",
    "fig.write_image('../figures/single-cycle-1-hour-rev.jpeg', scale=5, engine='orca')\n",
    "fig"
   ]
  },
  {
   "cell_type": "markdown",
   "metadata": {},
   "source": [
    "### Dual cycle 1 hour"
   ]
  },
  {
   "cell_type": "code",
   "execution_count": 95,
   "metadata": {},
   "outputs": [],
   "source": [
    "cycle_2_hour_1 = df.copy()\n",
    "cycle_2_hour_1['am_pm'] = cycle_2_hour_1.hour.apply(lambda x: 'am' if x < 13 else 'pm')\n",
    "cycle_2_hour_1_am = cycle_2_hour_1.loc[cycle_2_hour_1.am_pm == 'am']\n",
    "cycle_2_hour_1_pm = cycle_2_hour_1.loc[cycle_2_hour_1.am_pm == 'pm']"
   ]
  },
  {
   "cell_type": "code",
   "execution_count": 96,
   "metadata": {},
   "outputs": [
    {
     "data": {
      "text/html": [
       "<div>\n",
       "<style scoped>\n",
       "    .dataframe tbody tr th:only-of-type {\n",
       "        vertical-align: middle;\n",
       "    }\n",
       "\n",
       "    .dataframe tbody tr th {\n",
       "        vertical-align: top;\n",
       "    }\n",
       "\n",
       "    .dataframe thead th {\n",
       "        text-align: right;\n",
       "    }\n",
       "</style>\n",
       "<table border=\"1\" class=\"dataframe\">\n",
       "  <thead>\n",
       "    <tr style=\"text-align: right;\">\n",
       "      <th></th>\n",
       "      <th></th>\n",
       "      <th>De-Lu</th>\n",
       "      <th>De-Lu Neighbours</th>\n",
       "      <th>Belgium</th>\n",
       "      <th>Denmark 1</th>\n",
       "      <th>Denmark 2</th>\n",
       "      <th>France</th>\n",
       "      <th>Netherlands</th>\n",
       "      <th>Norway 2</th>\n",
       "      <th>Austria</th>\n",
       "      <th>Poland</th>\n",
       "      <th>Sweden 4</th>\n",
       "      <th>Switzerland</th>\n",
       "      <th>Czech</th>\n",
       "      <th>Italy</th>\n",
       "      <th>Slovenia</th>\n",
       "      <th>Hungary</th>\n",
       "      <th>GB</th>\n",
       "    </tr>\n",
       "    <tr>\n",
       "      <th>date</th>\n",
       "      <th>am_pm</th>\n",
       "      <th></th>\n",
       "      <th></th>\n",
       "      <th></th>\n",
       "      <th></th>\n",
       "      <th></th>\n",
       "      <th></th>\n",
       "      <th></th>\n",
       "      <th></th>\n",
       "      <th></th>\n",
       "      <th></th>\n",
       "      <th></th>\n",
       "      <th></th>\n",
       "      <th></th>\n",
       "      <th></th>\n",
       "      <th></th>\n",
       "      <th></th>\n",
       "      <th></th>\n",
       "    </tr>\n",
       "  </thead>\n",
       "  <tbody>\n",
       "    <tr>\n",
       "      <th rowspan=\"2\" valign=\"top\">2022-01-01</th>\n",
       "      <th>am</th>\n",
       "      <td>46.43</td>\n",
       "      <td>42.53</td>\n",
       "      <td>46.43</td>\n",
       "      <td>46.43</td>\n",
       "      <td>46.43</td>\n",
       "      <td>51.39</td>\n",
       "      <td>96.33</td>\n",
       "      <td>21.45</td>\n",
       "      <td>46.43</td>\n",
       "      <td>46.43</td>\n",
       "      <td>46.43</td>\n",
       "      <td>104.31</td>\n",
       "      <td>46.43</td>\n",
       "      <td>102.29</td>\n",
       "      <td>46.43</td>\n",
       "      <td>46.43</td>\n",
       "      <td>90.31</td>\n",
       "    </tr>\n",
       "    <tr>\n",
       "      <th>pm</th>\n",
       "      <td>64.81</td>\n",
       "      <td>56.64</td>\n",
       "      <td>64.81</td>\n",
       "      <td>66.86</td>\n",
       "      <td>66.86</td>\n",
       "      <td>64.81</td>\n",
       "      <td>64.81</td>\n",
       "      <td>33.54</td>\n",
       "      <td>64.81</td>\n",
       "      <td>64.81</td>\n",
       "      <td>66.86</td>\n",
       "      <td>78.17</td>\n",
       "      <td>64.81</td>\n",
       "      <td>114.66</td>\n",
       "      <td>64.81</td>\n",
       "      <td>64.81</td>\n",
       "      <td>143.62</td>\n",
       "    </tr>\n",
       "    <tr>\n",
       "      <th rowspan=\"2\" valign=\"top\">2022-01-02</th>\n",
       "      <th>am</th>\n",
       "      <td>40.53</td>\n",
       "      <td>40.13</td>\n",
       "      <td>40.53</td>\n",
       "      <td>40.53</td>\n",
       "      <td>40.53</td>\n",
       "      <td>40.53</td>\n",
       "      <td>40.53</td>\n",
       "      <td>17.88</td>\n",
       "      <td>40.53</td>\n",
       "      <td>40.62</td>\n",
       "      <td>40.53</td>\n",
       "      <td>72.67</td>\n",
       "      <td>40.53</td>\n",
       "      <td>75.08</td>\n",
       "      <td>40.53</td>\n",
       "      <td>40.53</td>\n",
       "      <td>99.42</td>\n",
       "    </tr>\n",
       "    <tr>\n",
       "      <th>pm</th>\n",
       "      <td>35.43</td>\n",
       "      <td>46.76</td>\n",
       "      <td>36.57</td>\n",
       "      <td>62.47</td>\n",
       "      <td>62.47</td>\n",
       "      <td>34.92</td>\n",
       "      <td>76.97</td>\n",
       "      <td>31.16</td>\n",
       "      <td>62.47</td>\n",
       "      <td>38.36</td>\n",
       "      <td>62.47</td>\n",
       "      <td>77.49</td>\n",
       "      <td>62.47</td>\n",
       "      <td>100.21</td>\n",
       "      <td>62.47</td>\n",
       "      <td>212.07</td>\n",
       "      <td>110.07</td>\n",
       "    </tr>\n",
       "    <tr>\n",
       "      <th>2022-01-03</th>\n",
       "      <th>am</th>\n",
       "      <td>123.98</td>\n",
       "      <td>114.75</td>\n",
       "      <td>103.16</td>\n",
       "      <td>122.83</td>\n",
       "      <td>113.69</td>\n",
       "      <td>180.30</td>\n",
       "      <td>130.95</td>\n",
       "      <td>11.88</td>\n",
       "      <td>124.40</td>\n",
       "      <td>99.62</td>\n",
       "      <td>103.11</td>\n",
       "      <td>214.78</td>\n",
       "      <td>128.46</td>\n",
       "      <td>156.24</td>\n",
       "      <td>232.44</td>\n",
       "      <td>134.01</td>\n",
       "      <td>70.73</td>\n",
       "    </tr>\n",
       "    <tr>\n",
       "      <th>...</th>\n",
       "      <th>...</th>\n",
       "      <td>...</td>\n",
       "      <td>...</td>\n",
       "      <td>...</td>\n",
       "      <td>...</td>\n",
       "      <td>...</td>\n",
       "      <td>...</td>\n",
       "      <td>...</td>\n",
       "      <td>...</td>\n",
       "      <td>...</td>\n",
       "      <td>...</td>\n",
       "      <td>...</td>\n",
       "      <td>...</td>\n",
       "      <td>...</td>\n",
       "      <td>...</td>\n",
       "      <td>...</td>\n",
       "      <td>...</td>\n",
       "      <td>...</td>\n",
       "    </tr>\n",
       "    <tr>\n",
       "      <th>2022-12-29</th>\n",
       "      <th>pm</th>\n",
       "      <td>49.42</td>\n",
       "      <td>37.01</td>\n",
       "      <td>51.91</td>\n",
       "      <td>49.42</td>\n",
       "      <td>13.95</td>\n",
       "      <td>46.37</td>\n",
       "      <td>85.79</td>\n",
       "      <td>32.87</td>\n",
       "      <td>48.06</td>\n",
       "      <td>17.02</td>\n",
       "      <td>12.23</td>\n",
       "      <td>37.51</td>\n",
       "      <td>45.18</td>\n",
       "      <td>116.00</td>\n",
       "      <td>70.15</td>\n",
       "      <td>80.04</td>\n",
       "      <td>140.46</td>\n",
       "    </tr>\n",
       "    <tr>\n",
       "      <th rowspan=\"2\" valign=\"top\">2022-12-30</th>\n",
       "      <th>am</th>\n",
       "      <td>28.51</td>\n",
       "      <td>34.99</td>\n",
       "      <td>29.09</td>\n",
       "      <td>28.51</td>\n",
       "      <td>28.51</td>\n",
       "      <td>38.40</td>\n",
       "      <td>28.65</td>\n",
       "      <td>62.83</td>\n",
       "      <td>54.63</td>\n",
       "      <td>35.58</td>\n",
       "      <td>28.51</td>\n",
       "      <td>32.40</td>\n",
       "      <td>45.97</td>\n",
       "      <td>106.14</td>\n",
       "      <td>53.39</td>\n",
       "      <td>64.00</td>\n",
       "      <td>140.50</td>\n",
       "    </tr>\n",
       "    <tr>\n",
       "      <th>pm</th>\n",
       "      <td>30.78</td>\n",
       "      <td>40.16</td>\n",
       "      <td>30.81</td>\n",
       "      <td>30.78</td>\n",
       "      <td>30.77</td>\n",
       "      <td>30.16</td>\n",
       "      <td>30.88</td>\n",
       "      <td>120.55</td>\n",
       "      <td>50.02</td>\n",
       "      <td>54.29</td>\n",
       "      <td>30.77</td>\n",
       "      <td>31.00</td>\n",
       "      <td>46.49</td>\n",
       "      <td>99.64</td>\n",
       "      <td>72.56</td>\n",
       "      <td>154.47</td>\n",
       "      <td>158.00</td>\n",
       "    </tr>\n",
       "    <tr>\n",
       "      <th rowspan=\"2\" valign=\"top\">2022-12-31</th>\n",
       "      <th>am</th>\n",
       "      <td>2.29</td>\n",
       "      <td>12.73</td>\n",
       "      <td>1.54</td>\n",
       "      <td>6.83</td>\n",
       "      <td>4.10</td>\n",
       "      <td>1.06</td>\n",
       "      <td>6.82</td>\n",
       "      <td>60.89</td>\n",
       "      <td>10.28</td>\n",
       "      <td>74.39</td>\n",
       "      <td>4.10</td>\n",
       "      <td>10.00</td>\n",
       "      <td>4.01</td>\n",
       "      <td>78.00</td>\n",
       "      <td>9.29</td>\n",
       "      <td>21.69</td>\n",
       "      <td>149.66</td>\n",
       "    </tr>\n",
       "    <tr>\n",
       "      <th>pm</th>\n",
       "      <td>3.78</td>\n",
       "      <td>28.42</td>\n",
       "      <td>27.80</td>\n",
       "      <td>63.26</td>\n",
       "      <td>21.81</td>\n",
       "      <td>20.37</td>\n",
       "      <td>93.39</td>\n",
       "      <td>11.41</td>\n",
       "      <td>15.36</td>\n",
       "      <td>74.18</td>\n",
       "      <td>21.81</td>\n",
       "      <td>15.68</td>\n",
       "      <td>29.80</td>\n",
       "      <td>145.81</td>\n",
       "      <td>46.86</td>\n",
       "      <td>234.51</td>\n",
       "      <td>173.06</td>\n",
       "    </tr>\n",
       "  </tbody>\n",
       "</table>\n",
       "<p>730 rows × 17 columns</p>\n",
       "</div>"
      ],
      "text/plain": [
       "                   De-Lu  De-Lu Neighbours  Belgium  Denmark 1  Denmark 2  \\\n",
       "date       am_pm                                                            \n",
       "2022-01-01 am      46.43             42.53    46.43      46.43      46.43   \n",
       "           pm      64.81             56.64    64.81      66.86      66.86   \n",
       "2022-01-02 am      40.53             40.13    40.53      40.53      40.53   \n",
       "           pm      35.43             46.76    36.57      62.47      62.47   \n",
       "2022-01-03 am     123.98            114.75   103.16     122.83     113.69   \n",
       "...                  ...               ...      ...        ...        ...   \n",
       "2022-12-29 pm      49.42             37.01    51.91      49.42      13.95   \n",
       "2022-12-30 am      28.51             34.99    29.09      28.51      28.51   \n",
       "           pm      30.78             40.16    30.81      30.78      30.77   \n",
       "2022-12-31 am       2.29             12.73     1.54       6.83       4.10   \n",
       "           pm       3.78             28.42    27.80      63.26      21.81   \n",
       "\n",
       "                  France  Netherlands  Norway 2  Austria  Poland  Sweden 4  \\\n",
       "date       am_pm                                                             \n",
       "2022-01-01 am      51.39        96.33     21.45    46.43   46.43     46.43   \n",
       "           pm      64.81        64.81     33.54    64.81   64.81     66.86   \n",
       "2022-01-02 am      40.53        40.53     17.88    40.53   40.62     40.53   \n",
       "           pm      34.92        76.97     31.16    62.47   38.36     62.47   \n",
       "2022-01-03 am     180.30       130.95     11.88   124.40   99.62    103.11   \n",
       "...                  ...          ...       ...      ...     ...       ...   \n",
       "2022-12-29 pm      46.37        85.79     32.87    48.06   17.02     12.23   \n",
       "2022-12-30 am      38.40        28.65     62.83    54.63   35.58     28.51   \n",
       "           pm      30.16        30.88    120.55    50.02   54.29     30.77   \n",
       "2022-12-31 am       1.06         6.82     60.89    10.28   74.39      4.10   \n",
       "           pm      20.37        93.39     11.41    15.36   74.18     21.81   \n",
       "\n",
       "                  Switzerland   Czech   Italy  Slovenia  Hungary      GB  \n",
       "date       am_pm                                                          \n",
       "2022-01-01 am          104.31   46.43  102.29     46.43    46.43   90.31  \n",
       "           pm           78.17   64.81  114.66     64.81    64.81  143.62  \n",
       "2022-01-02 am           72.67   40.53   75.08     40.53    40.53   99.42  \n",
       "           pm           77.49   62.47  100.21     62.47   212.07  110.07  \n",
       "2022-01-03 am          214.78  128.46  156.24    232.44   134.01   70.73  \n",
       "...                       ...     ...     ...       ...      ...     ...  \n",
       "2022-12-29 pm           37.51   45.18  116.00     70.15    80.04  140.46  \n",
       "2022-12-30 am           32.40   45.97  106.14     53.39    64.00  140.50  \n",
       "           pm           31.00   46.49   99.64     72.56   154.47  158.00  \n",
       "2022-12-31 am           10.00    4.01   78.00      9.29    21.69  149.66  \n",
       "           pm           15.68   29.80  145.81     46.86   234.51  173.06  \n",
       "\n",
       "[730 rows x 17 columns]"
      ]
     },
     "execution_count": 96,
     "metadata": {},
     "output_type": "execute_result"
    }
   ],
   "source": [
    "cycle_2_hour_1 = cycle_2_hour_1.drop(['hour', 'datetime'], axis=1).groupby(['date', 'am_pm']).apply(lambda x: x.max() - x.min())\n",
    "cycle_2_hour_1"
   ]
  },
  {
   "cell_type": "code",
   "execution_count": 74,
   "metadata": {},
   "outputs": [
    {
     "data": {
      "text/plain": [
       "De-Lu               104827.20\n",
       "De-Lu Neighbours     84288.07\n",
       "Belgium             112553.58\n",
       "Denmark 1            97049.84\n",
       "Denmark 2           105492.89\n",
       "France               93747.97\n",
       "Netherlands         118202.57\n",
       "Norway 2             58146.63\n",
       "Austria              91186.56\n",
       "Poland               76592.56\n",
       "Sweden 4            112972.29\n",
       "Switzerland          69728.75\n",
       "Czech               104274.78\n",
       "Italy                86987.76\n",
       "Slovenia            100646.10\n",
       "Hungary             111015.74\n",
       "GB                   96427.40\n",
       "dtype: float64"
      ]
     },
     "execution_count": 74,
     "metadata": {},
     "output_type": "execute_result"
    }
   ],
   "source": [
    "cycle_2_hour_1_rev = cycle_2_hour_1.sum()\n",
    "cycle_2_hour_1_rev"
   ]
  },
  {
   "cell_type": "code",
   "execution_count": 84,
   "metadata": {},
   "outputs": [
    {
     "data": {
      "application/vnd.plotly.v1+json": {
       "config": {
        "plotlyServerURL": "https://plot.ly"
       },
       "data": [
        {
         "alignmentgroup": "True",
         "hovertemplate": "=%{x}<br>€/MW=%{y}<br>color=%{marker.color}<extra></extra>",
         "legendgroup": "",
         "marker": {
          "color": [
           104827.19999999991,
           84288.06999999995,
           112553.58,
           97049.83999999995,
           105492.88999999993,
           93747.96999999999,
           118202.56999999989,
           58146.629999999976,
           91186.56,
           76592.56000000003,
           112972.29000000018,
           69728.75,
           104274.77999999996,
           86987.75999999995,
           100646.0999999999,
           111015.73999999989,
           96427.40000000001
          ],
          "coloraxis": "coloraxis",
          "pattern": {
           "shape": ""
          }
         },
         "name": "",
         "offsetgroup": "",
         "orientation": "v",
         "showlegend": false,
         "textposition": "auto",
         "texttemplate": "%{y:.3s}",
         "type": "bar",
         "x": [
          "De-Lu",
          "De-Lu Neighbours",
          "Belgium",
          "Denmark 1",
          "Denmark 2",
          "France",
          "Netherlands",
          "Norway 2",
          "Austria",
          "Poland",
          "Sweden 4",
          "Switzerland",
          "Czech",
          "Italy",
          "Slovenia",
          "Hungary",
          "GB"
         ],
         "xaxis": "x",
         "y": [
          104827.19999999991,
          84288.06999999995,
          112553.58,
          97049.83999999995,
          105492.88999999993,
          93747.96999999999,
          118202.56999999989,
          58146.629999999976,
          91186.56,
          76592.56000000003,
          112972.29000000018,
          69728.75,
          104274.77999999996,
          86987.75999999995,
          100646.0999999999,
          111015.73999999989,
          96427.40000000001
         ],
         "yaxis": "y"
        }
       ],
       "layout": {
        "barmode": "relative",
        "coloraxis": {
         "colorbar": {
          "title": {
           "text": "color"
          }
         },
         "colorscale": [
          [
           0,
           "rgb(51, 19, 23)"
          ],
          [
           0.09090909090909091,
           "rgb(79, 28, 33)"
          ],
          [
           0.18181818181818182,
           "rgb(108, 36, 36)"
          ],
          [
           0.2727272727272727,
           "rgb(135, 47, 32)"
          ],
          [
           0.36363636363636365,
           "rgb(157, 66, 25)"
          ],
          [
           0.45454545454545453,
           "rgb(174, 88, 20)"
          ],
          [
           0.5454545454545454,
           "rgb(188, 111, 19)"
          ],
          [
           0.6363636363636364,
           "rgb(199, 137, 22)"
          ],
          [
           0.7272727272727273,
           "rgb(209, 164, 32)"
          ],
          [
           0.8181818181818182,
           "rgb(217, 192, 44)"
          ],
          [
           0.9090909090909091,
           "rgb(222, 222, 59)"
          ],
          [
           1,
           "rgb(224, 253, 74)"
          ]
         ],
         "showscale": false
        },
        "height": 400,
        "legend": {
         "tracegroupgap": 0
        },
        "margin": {
         "t": 60
        },
        "template": {
         "data": {
          "bar": [
           {
            "error_x": {
             "color": "#2a3f5f"
            },
            "error_y": {
             "color": "#2a3f5f"
            },
            "marker": {
             "line": {
              "color": "white",
              "width": 0.5
             },
             "pattern": {
              "fillmode": "overlay",
              "size": 10,
              "solidity": 0.2
             }
            },
            "type": "bar"
           }
          ],
          "barpolar": [
           {
            "marker": {
             "line": {
              "color": "white",
              "width": 0.5
             },
             "pattern": {
              "fillmode": "overlay",
              "size": 10,
              "solidity": 0.2
             }
            },
            "type": "barpolar"
           }
          ],
          "carpet": [
           {
            "aaxis": {
             "endlinecolor": "#2a3f5f",
             "gridcolor": "#C8D4E3",
             "linecolor": "#C8D4E3",
             "minorgridcolor": "#C8D4E3",
             "startlinecolor": "#2a3f5f"
            },
            "baxis": {
             "endlinecolor": "#2a3f5f",
             "gridcolor": "#C8D4E3",
             "linecolor": "#C8D4E3",
             "minorgridcolor": "#C8D4E3",
             "startlinecolor": "#2a3f5f"
            },
            "type": "carpet"
           }
          ],
          "choropleth": [
           {
            "colorbar": {
             "outlinewidth": 0,
             "ticks": ""
            },
            "type": "choropleth"
           }
          ],
          "contour": [
           {
            "colorbar": {
             "outlinewidth": 0,
             "ticks": ""
            },
            "colorscale": [
             [
              0,
              "#0d0887"
             ],
             [
              0.1111111111111111,
              "#46039f"
             ],
             [
              0.2222222222222222,
              "#7201a8"
             ],
             [
              0.3333333333333333,
              "#9c179e"
             ],
             [
              0.4444444444444444,
              "#bd3786"
             ],
             [
              0.5555555555555556,
              "#d8576b"
             ],
             [
              0.6666666666666666,
              "#ed7953"
             ],
             [
              0.7777777777777778,
              "#fb9f3a"
             ],
             [
              0.8888888888888888,
              "#fdca26"
             ],
             [
              1,
              "#f0f921"
             ]
            ],
            "type": "contour"
           }
          ],
          "contourcarpet": [
           {
            "colorbar": {
             "outlinewidth": 0,
             "ticks": ""
            },
            "type": "contourcarpet"
           }
          ],
          "heatmap": [
           {
            "colorbar": {
             "outlinewidth": 0,
             "ticks": ""
            },
            "colorscale": [
             [
              0,
              "#0d0887"
             ],
             [
              0.1111111111111111,
              "#46039f"
             ],
             [
              0.2222222222222222,
              "#7201a8"
             ],
             [
              0.3333333333333333,
              "#9c179e"
             ],
             [
              0.4444444444444444,
              "#bd3786"
             ],
             [
              0.5555555555555556,
              "#d8576b"
             ],
             [
              0.6666666666666666,
              "#ed7953"
             ],
             [
              0.7777777777777778,
              "#fb9f3a"
             ],
             [
              0.8888888888888888,
              "#fdca26"
             ],
             [
              1,
              "#f0f921"
             ]
            ],
            "type": "heatmap"
           }
          ],
          "heatmapgl": [
           {
            "colorbar": {
             "outlinewidth": 0,
             "ticks": ""
            },
            "colorscale": [
             [
              0,
              "#0d0887"
             ],
             [
              0.1111111111111111,
              "#46039f"
             ],
             [
              0.2222222222222222,
              "#7201a8"
             ],
             [
              0.3333333333333333,
              "#9c179e"
             ],
             [
              0.4444444444444444,
              "#bd3786"
             ],
             [
              0.5555555555555556,
              "#d8576b"
             ],
             [
              0.6666666666666666,
              "#ed7953"
             ],
             [
              0.7777777777777778,
              "#fb9f3a"
             ],
             [
              0.8888888888888888,
              "#fdca26"
             ],
             [
              1,
              "#f0f921"
             ]
            ],
            "type": "heatmapgl"
           }
          ],
          "histogram": [
           {
            "marker": {
             "pattern": {
              "fillmode": "overlay",
              "size": 10,
              "solidity": 0.2
             }
            },
            "type": "histogram"
           }
          ],
          "histogram2d": [
           {
            "colorbar": {
             "outlinewidth": 0,
             "ticks": ""
            },
            "colorscale": [
             [
              0,
              "#0d0887"
             ],
             [
              0.1111111111111111,
              "#46039f"
             ],
             [
              0.2222222222222222,
              "#7201a8"
             ],
             [
              0.3333333333333333,
              "#9c179e"
             ],
             [
              0.4444444444444444,
              "#bd3786"
             ],
             [
              0.5555555555555556,
              "#d8576b"
             ],
             [
              0.6666666666666666,
              "#ed7953"
             ],
             [
              0.7777777777777778,
              "#fb9f3a"
             ],
             [
              0.8888888888888888,
              "#fdca26"
             ],
             [
              1,
              "#f0f921"
             ]
            ],
            "type": "histogram2d"
           }
          ],
          "histogram2dcontour": [
           {
            "colorbar": {
             "outlinewidth": 0,
             "ticks": ""
            },
            "colorscale": [
             [
              0,
              "#0d0887"
             ],
             [
              0.1111111111111111,
              "#46039f"
             ],
             [
              0.2222222222222222,
              "#7201a8"
             ],
             [
              0.3333333333333333,
              "#9c179e"
             ],
             [
              0.4444444444444444,
              "#bd3786"
             ],
             [
              0.5555555555555556,
              "#d8576b"
             ],
             [
              0.6666666666666666,
              "#ed7953"
             ],
             [
              0.7777777777777778,
              "#fb9f3a"
             ],
             [
              0.8888888888888888,
              "#fdca26"
             ],
             [
              1,
              "#f0f921"
             ]
            ],
            "type": "histogram2dcontour"
           }
          ],
          "mesh3d": [
           {
            "colorbar": {
             "outlinewidth": 0,
             "ticks": ""
            },
            "type": "mesh3d"
           }
          ],
          "parcoords": [
           {
            "line": {
             "colorbar": {
              "outlinewidth": 0,
              "ticks": ""
             }
            },
            "type": "parcoords"
           }
          ],
          "pie": [
           {
            "automargin": true,
            "type": "pie"
           }
          ],
          "scatter": [
           {
            "fillpattern": {
             "fillmode": "overlay",
             "size": 10,
             "solidity": 0.2
            },
            "type": "scatter"
           }
          ],
          "scatter3d": [
           {
            "line": {
             "colorbar": {
              "outlinewidth": 0,
              "ticks": ""
             }
            },
            "marker": {
             "colorbar": {
              "outlinewidth": 0,
              "ticks": ""
             }
            },
            "type": "scatter3d"
           }
          ],
          "scattercarpet": [
           {
            "marker": {
             "colorbar": {
              "outlinewidth": 0,
              "ticks": ""
             }
            },
            "type": "scattercarpet"
           }
          ],
          "scattergeo": [
           {
            "marker": {
             "colorbar": {
              "outlinewidth": 0,
              "ticks": ""
             }
            },
            "type": "scattergeo"
           }
          ],
          "scattergl": [
           {
            "marker": {
             "colorbar": {
              "outlinewidth": 0,
              "ticks": ""
             }
            },
            "type": "scattergl"
           }
          ],
          "scattermapbox": [
           {
            "marker": {
             "colorbar": {
              "outlinewidth": 0,
              "ticks": ""
             }
            },
            "type": "scattermapbox"
           }
          ],
          "scatterpolar": [
           {
            "marker": {
             "colorbar": {
              "outlinewidth": 0,
              "ticks": ""
             }
            },
            "type": "scatterpolar"
           }
          ],
          "scatterpolargl": [
           {
            "marker": {
             "colorbar": {
              "outlinewidth": 0,
              "ticks": ""
             }
            },
            "type": "scatterpolargl"
           }
          ],
          "scatterternary": [
           {
            "marker": {
             "colorbar": {
              "outlinewidth": 0,
              "ticks": ""
             }
            },
            "type": "scatterternary"
           }
          ],
          "surface": [
           {
            "colorbar": {
             "outlinewidth": 0,
             "ticks": ""
            },
            "colorscale": [
             [
              0,
              "#0d0887"
             ],
             [
              0.1111111111111111,
              "#46039f"
             ],
             [
              0.2222222222222222,
              "#7201a8"
             ],
             [
              0.3333333333333333,
              "#9c179e"
             ],
             [
              0.4444444444444444,
              "#bd3786"
             ],
             [
              0.5555555555555556,
              "#d8576b"
             ],
             [
              0.6666666666666666,
              "#ed7953"
             ],
             [
              0.7777777777777778,
              "#fb9f3a"
             ],
             [
              0.8888888888888888,
              "#fdca26"
             ],
             [
              1,
              "#f0f921"
             ]
            ],
            "type": "surface"
           }
          ],
          "table": [
           {
            "cells": {
             "fill": {
              "color": "#EBF0F8"
             },
             "line": {
              "color": "white"
             }
            },
            "header": {
             "fill": {
              "color": "#C8D4E3"
             },
             "line": {
              "color": "white"
             }
            },
            "type": "table"
           }
          ]
         },
         "layout": {
          "annotationdefaults": {
           "arrowcolor": "#2a3f5f",
           "arrowhead": 0,
           "arrowwidth": 1
          },
          "autotypenumbers": "strict",
          "coloraxis": {
           "colorbar": {
            "outlinewidth": 0,
            "ticks": ""
           }
          },
          "colorscale": {
           "diverging": [
            [
             0,
             "#8e0152"
            ],
            [
             0.1,
             "#c51b7d"
            ],
            [
             0.2,
             "#de77ae"
            ],
            [
             0.3,
             "#f1b6da"
            ],
            [
             0.4,
             "#fde0ef"
            ],
            [
             0.5,
             "#f7f7f7"
            ],
            [
             0.6,
             "#e6f5d0"
            ],
            [
             0.7,
             "#b8e186"
            ],
            [
             0.8,
             "#7fbc41"
            ],
            [
             0.9,
             "#4d9221"
            ],
            [
             1,
             "#276419"
            ]
           ],
           "sequential": [
            [
             0,
             "#0d0887"
            ],
            [
             0.1111111111111111,
             "#46039f"
            ],
            [
             0.2222222222222222,
             "#7201a8"
            ],
            [
             0.3333333333333333,
             "#9c179e"
            ],
            [
             0.4444444444444444,
             "#bd3786"
            ],
            [
             0.5555555555555556,
             "#d8576b"
            ],
            [
             0.6666666666666666,
             "#ed7953"
            ],
            [
             0.7777777777777778,
             "#fb9f3a"
            ],
            [
             0.8888888888888888,
             "#fdca26"
            ],
            [
             1,
             "#f0f921"
            ]
           ],
           "sequentialminus": [
            [
             0,
             "#0d0887"
            ],
            [
             0.1111111111111111,
             "#46039f"
            ],
            [
             0.2222222222222222,
             "#7201a8"
            ],
            [
             0.3333333333333333,
             "#9c179e"
            ],
            [
             0.4444444444444444,
             "#bd3786"
            ],
            [
             0.5555555555555556,
             "#d8576b"
            ],
            [
             0.6666666666666666,
             "#ed7953"
            ],
            [
             0.7777777777777778,
             "#fb9f3a"
            ],
            [
             0.8888888888888888,
             "#fdca26"
            ],
            [
             1,
             "#f0f921"
            ]
           ]
          },
          "colorway": [
           "#636efa",
           "#EF553B",
           "#00cc96",
           "#ab63fa",
           "#FFA15A",
           "#19d3f3",
           "#FF6692",
           "#B6E880",
           "#FF97FF",
           "#FECB52"
          ],
          "font": {
           "color": "#2a3f5f"
          },
          "geo": {
           "bgcolor": "white",
           "lakecolor": "white",
           "landcolor": "white",
           "showlakes": true,
           "showland": true,
           "subunitcolor": "#C8D4E3"
          },
          "hoverlabel": {
           "align": "left"
          },
          "hovermode": "closest",
          "mapbox": {
           "style": "light"
          },
          "paper_bgcolor": "white",
          "plot_bgcolor": "white",
          "polar": {
           "angularaxis": {
            "gridcolor": "#EBF0F8",
            "linecolor": "#EBF0F8",
            "ticks": ""
           },
           "bgcolor": "white",
           "radialaxis": {
            "gridcolor": "#EBF0F8",
            "linecolor": "#EBF0F8",
            "ticks": ""
           }
          },
          "scene": {
           "xaxis": {
            "backgroundcolor": "white",
            "gridcolor": "#DFE8F3",
            "gridwidth": 2,
            "linecolor": "#EBF0F8",
            "showbackground": true,
            "ticks": "",
            "zerolinecolor": "#EBF0F8"
           },
           "yaxis": {
            "backgroundcolor": "white",
            "gridcolor": "#DFE8F3",
            "gridwidth": 2,
            "linecolor": "#EBF0F8",
            "showbackground": true,
            "ticks": "",
            "zerolinecolor": "#EBF0F8"
           },
           "zaxis": {
            "backgroundcolor": "white",
            "gridcolor": "#DFE8F3",
            "gridwidth": 2,
            "linecolor": "#EBF0F8",
            "showbackground": true,
            "ticks": "",
            "zerolinecolor": "#EBF0F8"
           }
          },
          "shapedefaults": {
           "line": {
            "color": "#2a3f5f"
           }
          },
          "ternary": {
           "aaxis": {
            "gridcolor": "#DFE8F3",
            "linecolor": "#A2B1C6",
            "ticks": ""
           },
           "baxis": {
            "gridcolor": "#DFE8F3",
            "linecolor": "#A2B1C6",
            "ticks": ""
           },
           "bgcolor": "white",
           "caxis": {
            "gridcolor": "#DFE8F3",
            "linecolor": "#A2B1C6",
            "ticks": ""
           }
          },
          "title": {
           "x": 0.05
          },
          "xaxis": {
           "automargin": true,
           "gridcolor": "#EBF0F8",
           "linecolor": "#EBF0F8",
           "ticks": "",
           "title": {
            "standoff": 15
           },
           "zerolinecolor": "#EBF0F8",
           "zerolinewidth": 2
          },
          "yaxis": {
           "automargin": true,
           "gridcolor": "#EBF0F8",
           "linecolor": "#EBF0F8",
           "ticks": "",
           "title": {
            "standoff": 15
           },
           "zerolinecolor": "#EBF0F8",
           "zerolinewidth": 2
          }
         }
        },
        "title": {
         "text": "2022 potential revenue for a dual cycle 1 hour battery"
        },
        "width": 1200,
        "xaxis": {
         "anchor": "y",
         "categoryorder": "total descending",
         "domain": [
          0,
          1
         ],
         "title": {
          "text": ""
         }
        },
        "yaxis": {
         "anchor": "x",
         "domain": [
          0,
          1
         ],
         "title": {
          "text": "€/MW"
         }
        }
       }
      }
     },
     "metadata": {},
     "output_type": "display_data"
    }
   ],
   "source": [
    "fig = px.bar(\n",
    "    cycle_2_hour_1_rev,\n",
    "    labels=dict(value='€/MW', index=''),\n",
    "    text_auto='.3s',\n",
    "    color=cycle_2_hour_1_rev,\n",
    "    color_continuous_scale='solar'\n",
    "    )\n",
    "\n",
    "fig.update_coloraxes(showscale=False)\n",
    "fig.update_layout(\n",
    "    title='2022 potential revenue for a dual cycle 1 hour battery',\n",
    "    template='plotly_white',\n",
    "    xaxis_categoryorder='total descending',\n",
    "    width=1200,\n",
    "    height=400\n",
    ")\n",
    "\n",
    "fig.write_image('../figures/dual-cycle-1-hour-rev.jpeg', scale=5, engine='orca')\n",
    "fig"
   ]
  },
  {
   "cell_type": "markdown",
   "metadata": {},
   "source": [
    "### Single cycle 2 hour\n",
    "\n",
    "(Dis)charging times based on average price profile"
   ]
  },
  {
   "cell_type": "code",
   "execution_count": 277,
   "metadata": {},
   "outputs": [
    {
     "data": {
      "text/plain": [
       "Austria              85339.86\n",
       "Belgium              86047.09\n",
       "Czech                89933.57\n",
       "De-Lu                83651.41\n",
       "De-Lu Neighbours     78160.33\n",
       "Denmark 1            73885.56\n",
       "Denmark 2            81789.71\n",
       "France               90023.46\n",
       "GB                  102684.70\n",
       "Hungary             109157.07\n",
       "Italy                85073.47\n",
       "Netherlands          93562.84\n",
       "Norway 2             41564.46\n",
       "Poland               71850.68\n",
       "Slovenia            100491.01\n",
       "Sweden 4             98068.84\n",
       "Switzerland          71004.23\n",
       "dtype: float64"
      ]
     },
     "execution_count": 277,
     "metadata": {},
     "output_type": "execute_result"
    }
   ],
   "source": [
    "charge_3_4 = ['Poland', 'Sweden 4']\n",
    "charge_4_5 = ['De-Lu', 'De-Lu Neighbours', 'Denmark 2', 'France', 'Norway 2', 'Austria', 'Switzerland', 'Czech', 'Italy', 'Slovenia', 'Hungary', 'GB']\n",
    "charge_14_15 = ['Belgium', 'Denmark 1', 'Netherlands']\n",
    "\n",
    "discharge_18_19 = ['GB']\n",
    "discharge_19_20 = ['Denmark 2', 'Norway 2', 'Sweden 4']\n",
    "discharge_20_21 = ['De-Lu', 'De-Lu Neighbours', 'Belgium', 'Denmark 1', 'France', 'Netherlands', 'Austria', 'Poland', 'Switzerland', 'Czech', 'Italy', 'Slovenia', 'Hungary']\n",
    "\n",
    "df['charge_discharge'] = 0\n",
    "\n",
    "def calculate_single_cycle_2_hour_rev(df):\n",
    "    charge_3_4_cost = df[charge_3_4].loc[(df.hour == 3) | (df.hour == 4)].sum()\n",
    "    charge_4_5_cost = df[charge_4_5].loc[(df.hour == 4) | (df.hour == 5)].sum()\n",
    "    charge_14_15_cost = df[charge_14_15].loc[(df.hour == 14) | (df.hour == 15)].sum()\n",
    "    discharge_18_19_rev = df[discharge_18_19].loc[(df.hour == 18) | (df.hour == 19)].sum()\n",
    "    discharge_19_20_rev = df[discharge_19_20].loc[(df.hour == 19) | (df.hour == 20)].sum()\n",
    "    discharge_20_21_rev = df[discharge_20_21].loc[(df.hour == 20) | (df.hour == 21)].sum()\n",
    "\n",
    "    charge_cost = pd.concat([charge_3_4_cost, charge_4_5_cost, charge_14_15_cost], axis=0)\n",
    "    discharge_rev = pd.concat([discharge_18_19_rev, discharge_19_20_rev, discharge_20_21_rev], axis=0)\n",
    "\n",
    "    total_rev = discharge_rev - charge_cost\n",
    "\n",
    "    return total_rev\n",
    "\n",
    "cycle_1_hour_2_rev = calculate_single_cycle_2_hour_rev(df)\n",
    "cycle_1_hour_2_rev"
   ]
  },
  {
   "cell_type": "code",
   "execution_count": 278,
   "metadata": {},
   "outputs": [
    {
     "data": {
      "application/vnd.plotly.v1+json": {
       "config": {
        "plotlyServerURL": "https://plot.ly"
       },
       "data": [
        {
         "alignmentgroup": "True",
         "hovertemplate": "=%{x}<br>€/MW=%{y}<br>color=%{marker.color}<extra></extra>",
         "legendgroup": "",
         "marker": {
          "color": [
           85339.85999999999,
           86047.09000000003,
           89933.57,
           83651.41,
           78160.32999999999,
           73885.56,
           81789.70999999999,
           90023.45999999999,
           102684.69999999998,
           109157.07,
           85073.47000000003,
           93562.84,
           41564.46000000002,
           71850.68,
           100491.01000000001,
           98068.83999999998,
           71004.23000000001
          ],
          "coloraxis": "coloraxis",
          "pattern": {
           "shape": ""
          }
         },
         "name": "",
         "offsetgroup": "",
         "orientation": "v",
         "showlegend": false,
         "textposition": "auto",
         "texttemplate": "%{y:.3s}",
         "type": "bar",
         "x": [
          "Austria",
          "Belgium",
          "Czech",
          "De-Lu",
          "De-Lu Neighbours",
          "Denmark 1",
          "Denmark 2",
          "France",
          "GB",
          "Hungary",
          "Italy",
          "Netherlands",
          "Norway 2",
          "Poland",
          "Slovenia",
          "Sweden 4",
          "Switzerland"
         ],
         "xaxis": "x",
         "y": [
          85339.85999999999,
          86047.09000000003,
          89933.57,
          83651.41,
          78160.32999999999,
          73885.56,
          81789.70999999999,
          90023.45999999999,
          102684.69999999998,
          109157.07,
          85073.47000000003,
          93562.84,
          41564.46000000002,
          71850.68,
          100491.01000000001,
          98068.83999999998,
          71004.23000000001
         ],
         "yaxis": "y"
        }
       ],
       "layout": {
        "barmode": "relative",
        "coloraxis": {
         "colorbar": {
          "title": {
           "text": "color"
          }
         },
         "colorscale": [
          [
           0,
           "rgb(51, 19, 23)"
          ],
          [
           0.09090909090909091,
           "rgb(79, 28, 33)"
          ],
          [
           0.18181818181818182,
           "rgb(108, 36, 36)"
          ],
          [
           0.2727272727272727,
           "rgb(135, 47, 32)"
          ],
          [
           0.36363636363636365,
           "rgb(157, 66, 25)"
          ],
          [
           0.45454545454545453,
           "rgb(174, 88, 20)"
          ],
          [
           0.5454545454545454,
           "rgb(188, 111, 19)"
          ],
          [
           0.6363636363636364,
           "rgb(199, 137, 22)"
          ],
          [
           0.7272727272727273,
           "rgb(209, 164, 32)"
          ],
          [
           0.8181818181818182,
           "rgb(217, 192, 44)"
          ],
          [
           0.9090909090909091,
           "rgb(222, 222, 59)"
          ],
          [
           1,
           "rgb(224, 253, 74)"
          ]
         ],
         "showscale": false
        },
        "height": 400,
        "legend": {
         "tracegroupgap": 0
        },
        "margin": {
         "t": 60
        },
        "template": {
         "data": {
          "bar": [
           {
            "error_x": {
             "color": "#2a3f5f"
            },
            "error_y": {
             "color": "#2a3f5f"
            },
            "marker": {
             "line": {
              "color": "white",
              "width": 0.5
             },
             "pattern": {
              "fillmode": "overlay",
              "size": 10,
              "solidity": 0.2
             }
            },
            "type": "bar"
           }
          ],
          "barpolar": [
           {
            "marker": {
             "line": {
              "color": "white",
              "width": 0.5
             },
             "pattern": {
              "fillmode": "overlay",
              "size": 10,
              "solidity": 0.2
             }
            },
            "type": "barpolar"
           }
          ],
          "carpet": [
           {
            "aaxis": {
             "endlinecolor": "#2a3f5f",
             "gridcolor": "#C8D4E3",
             "linecolor": "#C8D4E3",
             "minorgridcolor": "#C8D4E3",
             "startlinecolor": "#2a3f5f"
            },
            "baxis": {
             "endlinecolor": "#2a3f5f",
             "gridcolor": "#C8D4E3",
             "linecolor": "#C8D4E3",
             "minorgridcolor": "#C8D4E3",
             "startlinecolor": "#2a3f5f"
            },
            "type": "carpet"
           }
          ],
          "choropleth": [
           {
            "colorbar": {
             "outlinewidth": 0,
             "ticks": ""
            },
            "type": "choropleth"
           }
          ],
          "contour": [
           {
            "colorbar": {
             "outlinewidth": 0,
             "ticks": ""
            },
            "colorscale": [
             [
              0,
              "#0d0887"
             ],
             [
              0.1111111111111111,
              "#46039f"
             ],
             [
              0.2222222222222222,
              "#7201a8"
             ],
             [
              0.3333333333333333,
              "#9c179e"
             ],
             [
              0.4444444444444444,
              "#bd3786"
             ],
             [
              0.5555555555555556,
              "#d8576b"
             ],
             [
              0.6666666666666666,
              "#ed7953"
             ],
             [
              0.7777777777777778,
              "#fb9f3a"
             ],
             [
              0.8888888888888888,
              "#fdca26"
             ],
             [
              1,
              "#f0f921"
             ]
            ],
            "type": "contour"
           }
          ],
          "contourcarpet": [
           {
            "colorbar": {
             "outlinewidth": 0,
             "ticks": ""
            },
            "type": "contourcarpet"
           }
          ],
          "heatmap": [
           {
            "colorbar": {
             "outlinewidth": 0,
             "ticks": ""
            },
            "colorscale": [
             [
              0,
              "#0d0887"
             ],
             [
              0.1111111111111111,
              "#46039f"
             ],
             [
              0.2222222222222222,
              "#7201a8"
             ],
             [
              0.3333333333333333,
              "#9c179e"
             ],
             [
              0.4444444444444444,
              "#bd3786"
             ],
             [
              0.5555555555555556,
              "#d8576b"
             ],
             [
              0.6666666666666666,
              "#ed7953"
             ],
             [
              0.7777777777777778,
              "#fb9f3a"
             ],
             [
              0.8888888888888888,
              "#fdca26"
             ],
             [
              1,
              "#f0f921"
             ]
            ],
            "type": "heatmap"
           }
          ],
          "heatmapgl": [
           {
            "colorbar": {
             "outlinewidth": 0,
             "ticks": ""
            },
            "colorscale": [
             [
              0,
              "#0d0887"
             ],
             [
              0.1111111111111111,
              "#46039f"
             ],
             [
              0.2222222222222222,
              "#7201a8"
             ],
             [
              0.3333333333333333,
              "#9c179e"
             ],
             [
              0.4444444444444444,
              "#bd3786"
             ],
             [
              0.5555555555555556,
              "#d8576b"
             ],
             [
              0.6666666666666666,
              "#ed7953"
             ],
             [
              0.7777777777777778,
              "#fb9f3a"
             ],
             [
              0.8888888888888888,
              "#fdca26"
             ],
             [
              1,
              "#f0f921"
             ]
            ],
            "type": "heatmapgl"
           }
          ],
          "histogram": [
           {
            "marker": {
             "pattern": {
              "fillmode": "overlay",
              "size": 10,
              "solidity": 0.2
             }
            },
            "type": "histogram"
           }
          ],
          "histogram2d": [
           {
            "colorbar": {
             "outlinewidth": 0,
             "ticks": ""
            },
            "colorscale": [
             [
              0,
              "#0d0887"
             ],
             [
              0.1111111111111111,
              "#46039f"
             ],
             [
              0.2222222222222222,
              "#7201a8"
             ],
             [
              0.3333333333333333,
              "#9c179e"
             ],
             [
              0.4444444444444444,
              "#bd3786"
             ],
             [
              0.5555555555555556,
              "#d8576b"
             ],
             [
              0.6666666666666666,
              "#ed7953"
             ],
             [
              0.7777777777777778,
              "#fb9f3a"
             ],
             [
              0.8888888888888888,
              "#fdca26"
             ],
             [
              1,
              "#f0f921"
             ]
            ],
            "type": "histogram2d"
           }
          ],
          "histogram2dcontour": [
           {
            "colorbar": {
             "outlinewidth": 0,
             "ticks": ""
            },
            "colorscale": [
             [
              0,
              "#0d0887"
             ],
             [
              0.1111111111111111,
              "#46039f"
             ],
             [
              0.2222222222222222,
              "#7201a8"
             ],
             [
              0.3333333333333333,
              "#9c179e"
             ],
             [
              0.4444444444444444,
              "#bd3786"
             ],
             [
              0.5555555555555556,
              "#d8576b"
             ],
             [
              0.6666666666666666,
              "#ed7953"
             ],
             [
              0.7777777777777778,
              "#fb9f3a"
             ],
             [
              0.8888888888888888,
              "#fdca26"
             ],
             [
              1,
              "#f0f921"
             ]
            ],
            "type": "histogram2dcontour"
           }
          ],
          "mesh3d": [
           {
            "colorbar": {
             "outlinewidth": 0,
             "ticks": ""
            },
            "type": "mesh3d"
           }
          ],
          "parcoords": [
           {
            "line": {
             "colorbar": {
              "outlinewidth": 0,
              "ticks": ""
             }
            },
            "type": "parcoords"
           }
          ],
          "pie": [
           {
            "automargin": true,
            "type": "pie"
           }
          ],
          "scatter": [
           {
            "fillpattern": {
             "fillmode": "overlay",
             "size": 10,
             "solidity": 0.2
            },
            "type": "scatter"
           }
          ],
          "scatter3d": [
           {
            "line": {
             "colorbar": {
              "outlinewidth": 0,
              "ticks": ""
             }
            },
            "marker": {
             "colorbar": {
              "outlinewidth": 0,
              "ticks": ""
             }
            },
            "type": "scatter3d"
           }
          ],
          "scattercarpet": [
           {
            "marker": {
             "colorbar": {
              "outlinewidth": 0,
              "ticks": ""
             }
            },
            "type": "scattercarpet"
           }
          ],
          "scattergeo": [
           {
            "marker": {
             "colorbar": {
              "outlinewidth": 0,
              "ticks": ""
             }
            },
            "type": "scattergeo"
           }
          ],
          "scattergl": [
           {
            "marker": {
             "colorbar": {
              "outlinewidth": 0,
              "ticks": ""
             }
            },
            "type": "scattergl"
           }
          ],
          "scattermapbox": [
           {
            "marker": {
             "colorbar": {
              "outlinewidth": 0,
              "ticks": ""
             }
            },
            "type": "scattermapbox"
           }
          ],
          "scatterpolar": [
           {
            "marker": {
             "colorbar": {
              "outlinewidth": 0,
              "ticks": ""
             }
            },
            "type": "scatterpolar"
           }
          ],
          "scatterpolargl": [
           {
            "marker": {
             "colorbar": {
              "outlinewidth": 0,
              "ticks": ""
             }
            },
            "type": "scatterpolargl"
           }
          ],
          "scatterternary": [
           {
            "marker": {
             "colorbar": {
              "outlinewidth": 0,
              "ticks": ""
             }
            },
            "type": "scatterternary"
           }
          ],
          "surface": [
           {
            "colorbar": {
             "outlinewidth": 0,
             "ticks": ""
            },
            "colorscale": [
             [
              0,
              "#0d0887"
             ],
             [
              0.1111111111111111,
              "#46039f"
             ],
             [
              0.2222222222222222,
              "#7201a8"
             ],
             [
              0.3333333333333333,
              "#9c179e"
             ],
             [
              0.4444444444444444,
              "#bd3786"
             ],
             [
              0.5555555555555556,
              "#d8576b"
             ],
             [
              0.6666666666666666,
              "#ed7953"
             ],
             [
              0.7777777777777778,
              "#fb9f3a"
             ],
             [
              0.8888888888888888,
              "#fdca26"
             ],
             [
              1,
              "#f0f921"
             ]
            ],
            "type": "surface"
           }
          ],
          "table": [
           {
            "cells": {
             "fill": {
              "color": "#EBF0F8"
             },
             "line": {
              "color": "white"
             }
            },
            "header": {
             "fill": {
              "color": "#C8D4E3"
             },
             "line": {
              "color": "white"
             }
            },
            "type": "table"
           }
          ]
         },
         "layout": {
          "annotationdefaults": {
           "arrowcolor": "#2a3f5f",
           "arrowhead": 0,
           "arrowwidth": 1
          },
          "autotypenumbers": "strict",
          "coloraxis": {
           "colorbar": {
            "outlinewidth": 0,
            "ticks": ""
           }
          },
          "colorscale": {
           "diverging": [
            [
             0,
             "#8e0152"
            ],
            [
             0.1,
             "#c51b7d"
            ],
            [
             0.2,
             "#de77ae"
            ],
            [
             0.3,
             "#f1b6da"
            ],
            [
             0.4,
             "#fde0ef"
            ],
            [
             0.5,
             "#f7f7f7"
            ],
            [
             0.6,
             "#e6f5d0"
            ],
            [
             0.7,
             "#b8e186"
            ],
            [
             0.8,
             "#7fbc41"
            ],
            [
             0.9,
             "#4d9221"
            ],
            [
             1,
             "#276419"
            ]
           ],
           "sequential": [
            [
             0,
             "#0d0887"
            ],
            [
             0.1111111111111111,
             "#46039f"
            ],
            [
             0.2222222222222222,
             "#7201a8"
            ],
            [
             0.3333333333333333,
             "#9c179e"
            ],
            [
             0.4444444444444444,
             "#bd3786"
            ],
            [
             0.5555555555555556,
             "#d8576b"
            ],
            [
             0.6666666666666666,
             "#ed7953"
            ],
            [
             0.7777777777777778,
             "#fb9f3a"
            ],
            [
             0.8888888888888888,
             "#fdca26"
            ],
            [
             1,
             "#f0f921"
            ]
           ],
           "sequentialminus": [
            [
             0,
             "#0d0887"
            ],
            [
             0.1111111111111111,
             "#46039f"
            ],
            [
             0.2222222222222222,
             "#7201a8"
            ],
            [
             0.3333333333333333,
             "#9c179e"
            ],
            [
             0.4444444444444444,
             "#bd3786"
            ],
            [
             0.5555555555555556,
             "#d8576b"
            ],
            [
             0.6666666666666666,
             "#ed7953"
            ],
            [
             0.7777777777777778,
             "#fb9f3a"
            ],
            [
             0.8888888888888888,
             "#fdca26"
            ],
            [
             1,
             "#f0f921"
            ]
           ]
          },
          "colorway": [
           "#636efa",
           "#EF553B",
           "#00cc96",
           "#ab63fa",
           "#FFA15A",
           "#19d3f3",
           "#FF6692",
           "#B6E880",
           "#FF97FF",
           "#FECB52"
          ],
          "font": {
           "color": "#2a3f5f"
          },
          "geo": {
           "bgcolor": "white",
           "lakecolor": "white",
           "landcolor": "white",
           "showlakes": true,
           "showland": true,
           "subunitcolor": "#C8D4E3"
          },
          "hoverlabel": {
           "align": "left"
          },
          "hovermode": "closest",
          "mapbox": {
           "style": "light"
          },
          "paper_bgcolor": "white",
          "plot_bgcolor": "white",
          "polar": {
           "angularaxis": {
            "gridcolor": "#EBF0F8",
            "linecolor": "#EBF0F8",
            "ticks": ""
           },
           "bgcolor": "white",
           "radialaxis": {
            "gridcolor": "#EBF0F8",
            "linecolor": "#EBF0F8",
            "ticks": ""
           }
          },
          "scene": {
           "xaxis": {
            "backgroundcolor": "white",
            "gridcolor": "#DFE8F3",
            "gridwidth": 2,
            "linecolor": "#EBF0F8",
            "showbackground": true,
            "ticks": "",
            "zerolinecolor": "#EBF0F8"
           },
           "yaxis": {
            "backgroundcolor": "white",
            "gridcolor": "#DFE8F3",
            "gridwidth": 2,
            "linecolor": "#EBF0F8",
            "showbackground": true,
            "ticks": "",
            "zerolinecolor": "#EBF0F8"
           },
           "zaxis": {
            "backgroundcolor": "white",
            "gridcolor": "#DFE8F3",
            "gridwidth": 2,
            "linecolor": "#EBF0F8",
            "showbackground": true,
            "ticks": "",
            "zerolinecolor": "#EBF0F8"
           }
          },
          "shapedefaults": {
           "line": {
            "color": "#2a3f5f"
           }
          },
          "ternary": {
           "aaxis": {
            "gridcolor": "#DFE8F3",
            "linecolor": "#A2B1C6",
            "ticks": ""
           },
           "baxis": {
            "gridcolor": "#DFE8F3",
            "linecolor": "#A2B1C6",
            "ticks": ""
           },
           "bgcolor": "white",
           "caxis": {
            "gridcolor": "#DFE8F3",
            "linecolor": "#A2B1C6",
            "ticks": ""
           }
          },
          "title": {
           "x": 0.05
          },
          "xaxis": {
           "automargin": true,
           "gridcolor": "#EBF0F8",
           "linecolor": "#EBF0F8",
           "ticks": "",
           "title": {
            "standoff": 15
           },
           "zerolinecolor": "#EBF0F8",
           "zerolinewidth": 2
          },
          "yaxis": {
           "automargin": true,
           "gridcolor": "#EBF0F8",
           "linecolor": "#EBF0F8",
           "ticks": "",
           "title": {
            "standoff": 15
           },
           "zerolinecolor": "#EBF0F8",
           "zerolinewidth": 2
          }
         }
        },
        "title": {
         "text": "2022 potential revenue for a single cycle 2 hour battery"
        },
        "width": 1200,
        "xaxis": {
         "anchor": "y",
         "categoryorder": "total descending",
         "domain": [
          0,
          1
         ],
         "title": {
          "text": ""
         }
        },
        "yaxis": {
         "anchor": "x",
         "domain": [
          0,
          1
         ],
         "title": {
          "text": "€/MW"
         }
        }
       }
      }
     },
     "metadata": {},
     "output_type": "display_data"
    }
   ],
   "source": [
    "fig = px.bar(\n",
    "    cycle_1_hour_2_rev,\n",
    "    labels=dict(value='€/MW', index=''),\n",
    "    text_auto='.3s',\n",
    "    color=cycle_1_hour_2_rev,\n",
    "    color_continuous_scale='solar'\n",
    "    )\n",
    "\n",
    "fig.update_coloraxes(showscale=False)\n",
    "fig.update_layout(\n",
    "    title='2022 potential revenue for a single cycle 2 hour battery',\n",
    "    template='plotly_white',\n",
    "    xaxis_categoryorder='total descending',\n",
    "    width=1200,\n",
    "    height=400\n",
    ")\n",
    "\n",
    "fig.write_image('../figures/single-cycle-2-hour-rev.jpeg', scale=5, engine='orca')\n",
    "fig"
   ]
  },
  {
   "cell_type": "markdown",
   "metadata": {},
   "source": [
    "### Dual cycle 2 hour\n",
    "\n",
    "(Dis)charging times based on average price profile"
   ]
  },
  {
   "cell_type": "code",
   "execution_count": 312,
   "metadata": {},
   "outputs": [
    {
     "data": {
      "text/html": [
       "<div>\n",
       "<style scoped>\n",
       "    .dataframe tbody tr th:only-of-type {\n",
       "        vertical-align: middle;\n",
       "    }\n",
       "\n",
       "    .dataframe tbody tr th {\n",
       "        vertical-align: top;\n",
       "    }\n",
       "\n",
       "    .dataframe thead th {\n",
       "        text-align: right;\n",
       "    }\n",
       "</style>\n",
       "<table border=\"1\" class=\"dataframe\">\n",
       "  <thead>\n",
       "    <tr style=\"text-align: right;\">\n",
       "      <th></th>\n",
       "      <th>0</th>\n",
       "    </tr>\n",
       "    <tr>\n",
       "      <th>index</th>\n",
       "      <th></th>\n",
       "    </tr>\n",
       "  </thead>\n",
       "  <tbody>\n",
       "    <tr>\n",
       "      <th>Austria</th>\n",
       "      <td>120721.43</td>\n",
       "    </tr>\n",
       "    <tr>\n",
       "      <th>Belgium</th>\n",
       "      <td>148824.17</td>\n",
       "    </tr>\n",
       "    <tr>\n",
       "      <th>Czech</th>\n",
       "      <td>141544.86</td>\n",
       "    </tr>\n",
       "    <tr>\n",
       "      <th>De-Lu</th>\n",
       "      <td>147985.57</td>\n",
       "    </tr>\n",
       "    <tr>\n",
       "      <th>De-Lu Neighbours</th>\n",
       "      <td>124151.99</td>\n",
       "    </tr>\n",
       "    <tr>\n",
       "      <th>Denmark 1</th>\n",
       "      <td>132450.91</td>\n",
       "    </tr>\n",
       "    <tr>\n",
       "      <th>Denmark 2</th>\n",
       "      <td>140135.54</td>\n",
       "    </tr>\n",
       "    <tr>\n",
       "      <th>France</th>\n",
       "      <td>129589.58</td>\n",
       "    </tr>\n",
       "    <tr>\n",
       "      <th>GB</th>\n",
       "      <td>136589.51</td>\n",
       "    </tr>\n",
       "    <tr>\n",
       "      <th>Hungary</th>\n",
       "      <td>152026.51</td>\n",
       "    </tr>\n",
       "    <tr>\n",
       "      <th>Italy</th>\n",
       "      <td>122916.79</td>\n",
       "    </tr>\n",
       "    <tr>\n",
       "      <th>Netherlands</th>\n",
       "      <td>154473.69</td>\n",
       "    </tr>\n",
       "    <tr>\n",
       "      <th>Norway 2</th>\n",
       "      <td>70328.01</td>\n",
       "    </tr>\n",
       "    <tr>\n",
       "      <th>Poland</th>\n",
       "      <td>95016.17</td>\n",
       "    </tr>\n",
       "    <tr>\n",
       "      <th>Slovenia</th>\n",
       "      <td>136507.05</td>\n",
       "    </tr>\n",
       "    <tr>\n",
       "      <th>Sweden 4</th>\n",
       "      <td>141253.27</td>\n",
       "    </tr>\n",
       "    <tr>\n",
       "      <th>Switzerland</th>\n",
       "      <td>103073.66</td>\n",
       "    </tr>\n",
       "  </tbody>\n",
       "</table>\n",
       "</div>"
      ],
      "text/plain": [
       "                          0\n",
       "index                      \n",
       "Austria           120721.43\n",
       "Belgium           148824.17\n",
       "Czech             141544.86\n",
       "De-Lu             147985.57\n",
       "De-Lu Neighbours  124151.99\n",
       "Denmark 1         132450.91\n",
       "Denmark 2         140135.54\n",
       "France            129589.58\n",
       "GB                136589.51\n",
       "Hungary           152026.51\n",
       "Italy             122916.79\n",
       "Netherlands       154473.69\n",
       "Norway 2           70328.01\n",
       "Poland             95016.17\n",
       "Slovenia          136507.05\n",
       "Sweden 4          141253.27\n",
       "Switzerland       103073.66"
      ]
     },
     "execution_count": 312,
     "metadata": {},
     "output_type": "execute_result"
    }
   ],
   "source": [
    "charge_3_4 = ['Poland', 'Sweden 4']\n",
    "charge_4_5 = ['De-Lu', 'De-Lu Neighbours', 'Denmark 2', 'France', 'Norway 2', 'Austria', 'Switzerland', 'Czech', 'Italy', 'Slovenia', 'Hungary', 'GB', 'Belgium', 'Denmark 1', 'Netherlands']\n",
    "charge_14_15 = ['Belgium', 'Denmark 1', 'Netherlands', 'De-Lu', 'De-Lu Neighbours', 'Denmark 2', 'Norway 2', 'Austria', 'Poland', 'Sweden 4', 'Switzerland', 'Czech', 'Italy', 'Slovenia', 'Hungary', 'GB']\n",
    "charge_15_16 = ['France']\n",
    "\n",
    "discharge_8_9 = ['De-Lu', 'De-Lu Neighbours', 'Belgium', 'Denmark 1', 'Denmark 2', 'Netherlands', 'Austria', 'Poland', 'Sweden 4', 'Switzerland', 'Czech', 'Slovenia', 'Hungary', 'GB']\n",
    "discharge_9_10 = ['France', 'Norway 2', 'Italy']\n",
    "discharge_18_19 = ['GB']\n",
    "discharge_19_20 = ['Denmark 2', 'Norway 2', 'Sweden 4']\n",
    "discharge_20_21 = ['De-Lu', 'De-Lu Neighbours', 'Belgium', 'Denmark 1', 'France', 'Netherlands', 'Austria', 'Poland', 'Switzerland', 'Czech', 'Italy', 'Slovenia', 'Hungary']\n",
    "\n",
    "df['charge_discharge'] = 0\n",
    "\n",
    "def calculate_single_cycle_2_hour_rev(df):\n",
    "    charge_3_4_cost = df[charge_3_4].loc[(df.hour == 3) | (df.hour == 4)].sum()\n",
    "    charge_4_5_cost = df[charge_4_5].loc[(df.hour == 4) | (df.hour == 5)].sum()\n",
    "    charge_14_15_cost = df[charge_14_15].loc[(df.hour == 14) | (df.hour == 15)].sum()\n",
    "    charge_15_16_cost = df[charge_15_16].loc[(df.hour == 15) | (df.hour == 16)].sum()\n",
    "    discharge_8_9_rev = df[discharge_8_9].loc[(df.hour == 8) | (df.hour == 9)].sum()\n",
    "    discharge_9_10_rev = df[discharge_9_10].loc[(df.hour == 9) | (df.hour == 10)].sum()\n",
    "    discharge_18_19_rev = df[discharge_18_19].loc[(df.hour == 18) | (df.hour == 19)].sum()\n",
    "    discharge_19_20_rev = df[discharge_19_20].loc[(df.hour == 19) | (df.hour == 20)].sum()\n",
    "    discharge_20_21_rev = df[discharge_20_21].loc[(df.hour == 20) | (df.hour == 21)].sum()\n",
    "\n",
    "    charge_cost = pd.concat([charge_3_4_cost, charge_4_5_cost, charge_14_15_cost, charge_15_16_cost], axis=0).reset_index().groupby('index').sum()\n",
    "    discharge_rev = pd.concat([discharge_8_9_rev, discharge_9_10_rev, discharge_18_19_rev, discharge_19_20_rev, discharge_20_21_rev], axis=0).reset_index().groupby('index').sum()\n",
    "\n",
    "    total_rev = discharge_rev - charge_cost\n",
    "\n",
    "    return total_rev\n",
    "\n",
    "cycle_2_hour_2_rev = calculate_single_cycle_2_hour_rev(df)\n",
    "cycle_2_hour_2_rev"
   ]
  },
  {
   "cell_type": "code",
   "execution_count": 327,
   "metadata": {},
   "outputs": [
    {
     "data": {
      "application/vnd.plotly.v1+json": {
       "config": {
        "plotlyServerURL": "https://plot.ly"
       },
       "data": [
        {
         "alignmentgroup": "True",
         "hovertemplate": "=%{x}<br>€/MW=%{y}<br>color=%{marker.color}<extra></extra>",
         "legendgroup": "",
         "marker": {
          "color": [
           120721.43,
           148824.16999999998,
           141544.86,
           147985.57,
           124151.98999999993,
           132450.91000000003,
           140135.53999999992,
           129589.57999999996,
           136589.50999999995,
           152026.51,
           122916.79000000004,
           154473.68999999994,
           70328.01000000001,
           95016.17000000001,
           136507.05000000005,
           141253.26999999996,
           103073.66000000003
          ],
          "coloraxis": "coloraxis",
          "pattern": {
           "shape": ""
          }
         },
         "name": "",
         "offsetgroup": "",
         "orientation": "v",
         "showlegend": false,
         "textposition": "auto",
         "texttemplate": "%{y:.3s}",
         "type": "bar",
         "x": [
          "Austria",
          "Belgium",
          "Czech",
          "De-Lu",
          "De-Lu Neighbours",
          "Denmark 1",
          "Denmark 2",
          "France",
          "GB",
          "Hungary",
          "Italy",
          "Netherlands",
          "Norway 2",
          "Poland",
          "Slovenia",
          "Sweden 4",
          "Switzerland"
         ],
         "xaxis": "x",
         "y": [
          120721.43,
          148824.16999999998,
          141544.86,
          147985.57,
          124151.98999999993,
          132450.91000000003,
          140135.53999999992,
          129589.57999999996,
          136589.50999999995,
          152026.51,
          122916.79000000004,
          154473.68999999994,
          70328.01000000001,
          95016.17000000001,
          136507.05000000005,
          141253.26999999996,
          103073.66000000003
         ],
         "yaxis": "y"
        }
       ],
       "layout": {
        "barmode": "relative",
        "coloraxis": {
         "colorbar": {
          "title": {
           "text": "color"
          }
         },
         "colorscale": [
          [
           0,
           "rgb(51, 19, 23)"
          ],
          [
           0.09090909090909091,
           "rgb(79, 28, 33)"
          ],
          [
           0.18181818181818182,
           "rgb(108, 36, 36)"
          ],
          [
           0.2727272727272727,
           "rgb(135, 47, 32)"
          ],
          [
           0.36363636363636365,
           "rgb(157, 66, 25)"
          ],
          [
           0.45454545454545453,
           "rgb(174, 88, 20)"
          ],
          [
           0.5454545454545454,
           "rgb(188, 111, 19)"
          ],
          [
           0.6363636363636364,
           "rgb(199, 137, 22)"
          ],
          [
           0.7272727272727273,
           "rgb(209, 164, 32)"
          ],
          [
           0.8181818181818182,
           "rgb(217, 192, 44)"
          ],
          [
           0.9090909090909091,
           "rgb(222, 222, 59)"
          ],
          [
           1,
           "rgb(224, 253, 74)"
          ]
         ],
         "showscale": false
        },
        "height": 400,
        "legend": {
         "tracegroupgap": 0
        },
        "margin": {
         "t": 60
        },
        "template": {
         "data": {
          "bar": [
           {
            "error_x": {
             "color": "#2a3f5f"
            },
            "error_y": {
             "color": "#2a3f5f"
            },
            "marker": {
             "line": {
              "color": "white",
              "width": 0.5
             },
             "pattern": {
              "fillmode": "overlay",
              "size": 10,
              "solidity": 0.2
             }
            },
            "type": "bar"
           }
          ],
          "barpolar": [
           {
            "marker": {
             "line": {
              "color": "white",
              "width": 0.5
             },
             "pattern": {
              "fillmode": "overlay",
              "size": 10,
              "solidity": 0.2
             }
            },
            "type": "barpolar"
           }
          ],
          "carpet": [
           {
            "aaxis": {
             "endlinecolor": "#2a3f5f",
             "gridcolor": "#C8D4E3",
             "linecolor": "#C8D4E3",
             "minorgridcolor": "#C8D4E3",
             "startlinecolor": "#2a3f5f"
            },
            "baxis": {
             "endlinecolor": "#2a3f5f",
             "gridcolor": "#C8D4E3",
             "linecolor": "#C8D4E3",
             "minorgridcolor": "#C8D4E3",
             "startlinecolor": "#2a3f5f"
            },
            "type": "carpet"
           }
          ],
          "choropleth": [
           {
            "colorbar": {
             "outlinewidth": 0,
             "ticks": ""
            },
            "type": "choropleth"
           }
          ],
          "contour": [
           {
            "colorbar": {
             "outlinewidth": 0,
             "ticks": ""
            },
            "colorscale": [
             [
              0,
              "#0d0887"
             ],
             [
              0.1111111111111111,
              "#46039f"
             ],
             [
              0.2222222222222222,
              "#7201a8"
             ],
             [
              0.3333333333333333,
              "#9c179e"
             ],
             [
              0.4444444444444444,
              "#bd3786"
             ],
             [
              0.5555555555555556,
              "#d8576b"
             ],
             [
              0.6666666666666666,
              "#ed7953"
             ],
             [
              0.7777777777777778,
              "#fb9f3a"
             ],
             [
              0.8888888888888888,
              "#fdca26"
             ],
             [
              1,
              "#f0f921"
             ]
            ],
            "type": "contour"
           }
          ],
          "contourcarpet": [
           {
            "colorbar": {
             "outlinewidth": 0,
             "ticks": ""
            },
            "type": "contourcarpet"
           }
          ],
          "heatmap": [
           {
            "colorbar": {
             "outlinewidth": 0,
             "ticks": ""
            },
            "colorscale": [
             [
              0,
              "#0d0887"
             ],
             [
              0.1111111111111111,
              "#46039f"
             ],
             [
              0.2222222222222222,
              "#7201a8"
             ],
             [
              0.3333333333333333,
              "#9c179e"
             ],
             [
              0.4444444444444444,
              "#bd3786"
             ],
             [
              0.5555555555555556,
              "#d8576b"
             ],
             [
              0.6666666666666666,
              "#ed7953"
             ],
             [
              0.7777777777777778,
              "#fb9f3a"
             ],
             [
              0.8888888888888888,
              "#fdca26"
             ],
             [
              1,
              "#f0f921"
             ]
            ],
            "type": "heatmap"
           }
          ],
          "heatmapgl": [
           {
            "colorbar": {
             "outlinewidth": 0,
             "ticks": ""
            },
            "colorscale": [
             [
              0,
              "#0d0887"
             ],
             [
              0.1111111111111111,
              "#46039f"
             ],
             [
              0.2222222222222222,
              "#7201a8"
             ],
             [
              0.3333333333333333,
              "#9c179e"
             ],
             [
              0.4444444444444444,
              "#bd3786"
             ],
             [
              0.5555555555555556,
              "#d8576b"
             ],
             [
              0.6666666666666666,
              "#ed7953"
             ],
             [
              0.7777777777777778,
              "#fb9f3a"
             ],
             [
              0.8888888888888888,
              "#fdca26"
             ],
             [
              1,
              "#f0f921"
             ]
            ],
            "type": "heatmapgl"
           }
          ],
          "histogram": [
           {
            "marker": {
             "pattern": {
              "fillmode": "overlay",
              "size": 10,
              "solidity": 0.2
             }
            },
            "type": "histogram"
           }
          ],
          "histogram2d": [
           {
            "colorbar": {
             "outlinewidth": 0,
             "ticks": ""
            },
            "colorscale": [
             [
              0,
              "#0d0887"
             ],
             [
              0.1111111111111111,
              "#46039f"
             ],
             [
              0.2222222222222222,
              "#7201a8"
             ],
             [
              0.3333333333333333,
              "#9c179e"
             ],
             [
              0.4444444444444444,
              "#bd3786"
             ],
             [
              0.5555555555555556,
              "#d8576b"
             ],
             [
              0.6666666666666666,
              "#ed7953"
             ],
             [
              0.7777777777777778,
              "#fb9f3a"
             ],
             [
              0.8888888888888888,
              "#fdca26"
             ],
             [
              1,
              "#f0f921"
             ]
            ],
            "type": "histogram2d"
           }
          ],
          "histogram2dcontour": [
           {
            "colorbar": {
             "outlinewidth": 0,
             "ticks": ""
            },
            "colorscale": [
             [
              0,
              "#0d0887"
             ],
             [
              0.1111111111111111,
              "#46039f"
             ],
             [
              0.2222222222222222,
              "#7201a8"
             ],
             [
              0.3333333333333333,
              "#9c179e"
             ],
             [
              0.4444444444444444,
              "#bd3786"
             ],
             [
              0.5555555555555556,
              "#d8576b"
             ],
             [
              0.6666666666666666,
              "#ed7953"
             ],
             [
              0.7777777777777778,
              "#fb9f3a"
             ],
             [
              0.8888888888888888,
              "#fdca26"
             ],
             [
              1,
              "#f0f921"
             ]
            ],
            "type": "histogram2dcontour"
           }
          ],
          "mesh3d": [
           {
            "colorbar": {
             "outlinewidth": 0,
             "ticks": ""
            },
            "type": "mesh3d"
           }
          ],
          "parcoords": [
           {
            "line": {
             "colorbar": {
              "outlinewidth": 0,
              "ticks": ""
             }
            },
            "type": "parcoords"
           }
          ],
          "pie": [
           {
            "automargin": true,
            "type": "pie"
           }
          ],
          "scatter": [
           {
            "fillpattern": {
             "fillmode": "overlay",
             "size": 10,
             "solidity": 0.2
            },
            "type": "scatter"
           }
          ],
          "scatter3d": [
           {
            "line": {
             "colorbar": {
              "outlinewidth": 0,
              "ticks": ""
             }
            },
            "marker": {
             "colorbar": {
              "outlinewidth": 0,
              "ticks": ""
             }
            },
            "type": "scatter3d"
           }
          ],
          "scattercarpet": [
           {
            "marker": {
             "colorbar": {
              "outlinewidth": 0,
              "ticks": ""
             }
            },
            "type": "scattercarpet"
           }
          ],
          "scattergeo": [
           {
            "marker": {
             "colorbar": {
              "outlinewidth": 0,
              "ticks": ""
             }
            },
            "type": "scattergeo"
           }
          ],
          "scattergl": [
           {
            "marker": {
             "colorbar": {
              "outlinewidth": 0,
              "ticks": ""
             }
            },
            "type": "scattergl"
           }
          ],
          "scattermapbox": [
           {
            "marker": {
             "colorbar": {
              "outlinewidth": 0,
              "ticks": ""
             }
            },
            "type": "scattermapbox"
           }
          ],
          "scatterpolar": [
           {
            "marker": {
             "colorbar": {
              "outlinewidth": 0,
              "ticks": ""
             }
            },
            "type": "scatterpolar"
           }
          ],
          "scatterpolargl": [
           {
            "marker": {
             "colorbar": {
              "outlinewidth": 0,
              "ticks": ""
             }
            },
            "type": "scatterpolargl"
           }
          ],
          "scatterternary": [
           {
            "marker": {
             "colorbar": {
              "outlinewidth": 0,
              "ticks": ""
             }
            },
            "type": "scatterternary"
           }
          ],
          "surface": [
           {
            "colorbar": {
             "outlinewidth": 0,
             "ticks": ""
            },
            "colorscale": [
             [
              0,
              "#0d0887"
             ],
             [
              0.1111111111111111,
              "#46039f"
             ],
             [
              0.2222222222222222,
              "#7201a8"
             ],
             [
              0.3333333333333333,
              "#9c179e"
             ],
             [
              0.4444444444444444,
              "#bd3786"
             ],
             [
              0.5555555555555556,
              "#d8576b"
             ],
             [
              0.6666666666666666,
              "#ed7953"
             ],
             [
              0.7777777777777778,
              "#fb9f3a"
             ],
             [
              0.8888888888888888,
              "#fdca26"
             ],
             [
              1,
              "#f0f921"
             ]
            ],
            "type": "surface"
           }
          ],
          "table": [
           {
            "cells": {
             "fill": {
              "color": "#EBF0F8"
             },
             "line": {
              "color": "white"
             }
            },
            "header": {
             "fill": {
              "color": "#C8D4E3"
             },
             "line": {
              "color": "white"
             }
            },
            "type": "table"
           }
          ]
         },
         "layout": {
          "annotationdefaults": {
           "arrowcolor": "#2a3f5f",
           "arrowhead": 0,
           "arrowwidth": 1
          },
          "autotypenumbers": "strict",
          "coloraxis": {
           "colorbar": {
            "outlinewidth": 0,
            "ticks": ""
           }
          },
          "colorscale": {
           "diverging": [
            [
             0,
             "#8e0152"
            ],
            [
             0.1,
             "#c51b7d"
            ],
            [
             0.2,
             "#de77ae"
            ],
            [
             0.3,
             "#f1b6da"
            ],
            [
             0.4,
             "#fde0ef"
            ],
            [
             0.5,
             "#f7f7f7"
            ],
            [
             0.6,
             "#e6f5d0"
            ],
            [
             0.7,
             "#b8e186"
            ],
            [
             0.8,
             "#7fbc41"
            ],
            [
             0.9,
             "#4d9221"
            ],
            [
             1,
             "#276419"
            ]
           ],
           "sequential": [
            [
             0,
             "#0d0887"
            ],
            [
             0.1111111111111111,
             "#46039f"
            ],
            [
             0.2222222222222222,
             "#7201a8"
            ],
            [
             0.3333333333333333,
             "#9c179e"
            ],
            [
             0.4444444444444444,
             "#bd3786"
            ],
            [
             0.5555555555555556,
             "#d8576b"
            ],
            [
             0.6666666666666666,
             "#ed7953"
            ],
            [
             0.7777777777777778,
             "#fb9f3a"
            ],
            [
             0.8888888888888888,
             "#fdca26"
            ],
            [
             1,
             "#f0f921"
            ]
           ],
           "sequentialminus": [
            [
             0,
             "#0d0887"
            ],
            [
             0.1111111111111111,
             "#46039f"
            ],
            [
             0.2222222222222222,
             "#7201a8"
            ],
            [
             0.3333333333333333,
             "#9c179e"
            ],
            [
             0.4444444444444444,
             "#bd3786"
            ],
            [
             0.5555555555555556,
             "#d8576b"
            ],
            [
             0.6666666666666666,
             "#ed7953"
            ],
            [
             0.7777777777777778,
             "#fb9f3a"
            ],
            [
             0.8888888888888888,
             "#fdca26"
            ],
            [
             1,
             "#f0f921"
            ]
           ]
          },
          "colorway": [
           "#636efa",
           "#EF553B",
           "#00cc96",
           "#ab63fa",
           "#FFA15A",
           "#19d3f3",
           "#FF6692",
           "#B6E880",
           "#FF97FF",
           "#FECB52"
          ],
          "font": {
           "color": "#2a3f5f"
          },
          "geo": {
           "bgcolor": "white",
           "lakecolor": "white",
           "landcolor": "white",
           "showlakes": true,
           "showland": true,
           "subunitcolor": "#C8D4E3"
          },
          "hoverlabel": {
           "align": "left"
          },
          "hovermode": "closest",
          "mapbox": {
           "style": "light"
          },
          "paper_bgcolor": "white",
          "plot_bgcolor": "white",
          "polar": {
           "angularaxis": {
            "gridcolor": "#EBF0F8",
            "linecolor": "#EBF0F8",
            "ticks": ""
           },
           "bgcolor": "white",
           "radialaxis": {
            "gridcolor": "#EBF0F8",
            "linecolor": "#EBF0F8",
            "ticks": ""
           }
          },
          "scene": {
           "xaxis": {
            "backgroundcolor": "white",
            "gridcolor": "#DFE8F3",
            "gridwidth": 2,
            "linecolor": "#EBF0F8",
            "showbackground": true,
            "ticks": "",
            "zerolinecolor": "#EBF0F8"
           },
           "yaxis": {
            "backgroundcolor": "white",
            "gridcolor": "#DFE8F3",
            "gridwidth": 2,
            "linecolor": "#EBF0F8",
            "showbackground": true,
            "ticks": "",
            "zerolinecolor": "#EBF0F8"
           },
           "zaxis": {
            "backgroundcolor": "white",
            "gridcolor": "#DFE8F3",
            "gridwidth": 2,
            "linecolor": "#EBF0F8",
            "showbackground": true,
            "ticks": "",
            "zerolinecolor": "#EBF0F8"
           }
          },
          "shapedefaults": {
           "line": {
            "color": "#2a3f5f"
           }
          },
          "ternary": {
           "aaxis": {
            "gridcolor": "#DFE8F3",
            "linecolor": "#A2B1C6",
            "ticks": ""
           },
           "baxis": {
            "gridcolor": "#DFE8F3",
            "linecolor": "#A2B1C6",
            "ticks": ""
           },
           "bgcolor": "white",
           "caxis": {
            "gridcolor": "#DFE8F3",
            "linecolor": "#A2B1C6",
            "ticks": ""
           }
          },
          "title": {
           "x": 0.05
          },
          "xaxis": {
           "automargin": true,
           "gridcolor": "#EBF0F8",
           "linecolor": "#EBF0F8",
           "ticks": "",
           "title": {
            "standoff": 15
           },
           "zerolinecolor": "#EBF0F8",
           "zerolinewidth": 2
          },
          "yaxis": {
           "automargin": true,
           "gridcolor": "#EBF0F8",
           "linecolor": "#EBF0F8",
           "ticks": "",
           "title": {
            "standoff": 15
           },
           "zerolinecolor": "#EBF0F8",
           "zerolinewidth": 2
          }
         }
        },
        "title": {
         "text": "2022 potential revenue for a dual cycle 2 hour battery"
        },
        "width": 1200,
        "xaxis": {
         "anchor": "y",
         "categoryorder": "total descending",
         "domain": [
          0,
          1
         ],
         "title": {
          "text": ""
         }
        },
        "yaxis": {
         "anchor": "x",
         "domain": [
          0,
          1
         ],
         "title": {
          "text": "€/MW"
         }
        }
       }
      }
     },
     "metadata": {},
     "output_type": "display_data"
    }
   ],
   "source": [
    "fig = px.bar(\n",
    "    cycle_2_hour_2_rev,\n",
    "    labels=dict(value='€/MW', index=''),\n",
    "    text_auto='.3s',\n",
    "    color=cycle_2_hour_2_rev.values.reshape(-1),\n",
    "    color_continuous_scale='solar'\n",
    "    )\n",
    "\n",
    "fig.update_coloraxes(showscale=False)\n",
    "fig.update_layout(\n",
    "    title='2022 potential revenue for a dual cycle 2 hour battery',\n",
    "    template='plotly_white',\n",
    "    xaxis_categoryorder='total descending',\n",
    "    width=1200,\n",
    "    height=400\n",
    ")\n",
    "\n",
    "fig.write_image('../figures/dual-cycle-2-hour-rev.jpeg', scale=5, engine='orca')\n",
    "fig"
   ]
  }
 ],
 "metadata": {
  "kernelspec": {
   "display_name": "Python 3.9.13 ('base')",
   "language": "python",
   "name": "python3"
  },
  "language_info": {
   "codemirror_mode": {
    "name": "ipython",
    "version": 3
   },
   "file_extension": ".py",
   "mimetype": "text/x-python",
   "name": "python",
   "nbconvert_exporter": "python",
   "pygments_lexer": "ipython3",
   "version": "3.9.13"
  },
  "orig_nbformat": 4,
  "vscode": {
   "interpreter": {
    "hash": "0bcf432da8243f285952ce707b599979cf2470b8ebb1a85ff9103c3a3adc60f6"
   }
  }
 },
 "nbformat": 4,
 "nbformat_minor": 2
}
